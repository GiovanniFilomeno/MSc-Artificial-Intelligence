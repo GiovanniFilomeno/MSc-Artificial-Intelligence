{
 "cells": [
  {
   "cell_type": "raw",
   "metadata": {},
   "source": [
    "\n",
    "This  material,  no  matter  whether  in  printed  or  electronic  form, may  be  used  for  personal  and non-commercial educational use only. Any reproduction of this manuscript, no matter whether as a whole or in parts, no matter whether in printed or in electronic form, \n",
    "requires explicit prior acceptance of the authors.\n"
   ]
  },
  {
   "cell_type": "markdown",
   "metadata": {
    "pycharm": {
     "name": "#%% md\n"
    }
   },
   "source": [
    "<!-- Assignment 1 - SS 2023 -->\n",
    "\n",
    "# Deep Learning with Pytorch (0 points)"
   ]
  },
  {
   "cell_type": "markdown",
   "metadata": {
    "pycharm": {
     "name": "#%% md\n"
    }
   },
   "source": [
    "This notebook contains one of the assignments for the exercises in Deep Learning and Neural Nets 2.\n",
    "It provides a skeleton, i.e. code with gaps, that will be filled out by you in different exercises.\n",
    "All exercise descriptions are visually annotated by a vertical bar on the left and some extra indentation,\n",
    "unless you already messed with your jupyter notebook configuration.\n",
    "Any questions that are not part of the exercise statement do not need to be answered,\n",
    "but should rather be interpreted as triggers to guide your thought process.\n",
    "\n",
    "**Note**: The cells in the introductory part (before the first subtitle)\n",
    "perform all necessary imports and provide utility functions that should work without (too much) problems.\n",
    "Please, do not alter this code or add extra import statements in your submission, unless explicitly allowed!\n",
    "\n",
    "<span style=\"color:#d95c4c\">**IMPORTANT:**</span> Please, change the name of your submission file so that it contains your student ID!"
   ]
  },
  {
   "cell_type": "markdown",
   "metadata": {
    "pycharm": {
     "name": "#%% md\n"
    }
   },
   "source": [
    "In this assignment, the main goal is to get familiar with deep learning in pytorch.\n",
    "At the same time it should help you refresh what you (should have) learned in DL & NN 1."
   ]
  },
  {
   "cell_type": "code",
   "execution_count": 1,
   "metadata": {
    "pycharm": {
     "is_executing": false,
     "name": "#%%\n"
    }
   },
   "outputs": [
    {
     "name": "stderr",
     "output_type": "stream",
     "text": [
      "c:\\Users\\Q540900\\AppData\\Local\\anaconda3\\envs\\dlnn2\\lib\\site-packages\\torchvision\\io\\image.py:13: UserWarning: Failed to load image Python extension: '[WinError 127] Die angegebene Prozedur wurde nicht gefunden'If you don't plan on using image functionality from `torchvision.io`, you can ignore this warning. Otherwise, there might be something wrong with your environment. Did you have `libjpeg` or `libpng` installed before building `torchvision` from source?\n",
      "  warn(\n"
     ]
    }
   ],
   "source": [
    "import inspect\n",
    "import torch\n",
    "import torchvision\n",
    "from torch import nn\n",
    "from torch import optim\n",
    "from torch.utils.data import DataLoader\n",
    "from matplotlib import pyplot as plt\n",
    "\n",
    "torch.manual_seed(1806);"
   ]
  },
  {
   "cell_type": "code",
   "execution_count": 2,
   "metadata": {
    "pycharm": {
     "name": "#%%\n"
    }
   },
   "outputs": [
    {
     "name": "stdout",
     "output_type": "stream",
     "text": [
      "~\\.pytorch\n"
     ]
    }
   ],
   "source": [
    "# google colab data management\n",
    "import os.path\n",
    "\n",
    "try:\n",
    "    from google.colab import drive\n",
    "    drive.mount('/content/gdrive')\n",
    "    _home = 'gdrive/MyDrive/'\n",
    "except ImportError:\n",
    "    _home = '~'\n",
    "finally:\n",
    "    data_root = os.path.join(_home, '.pytorch')\n",
    "\n",
    "print(data_root)"
   ]
  },
  {
   "cell_type": "markdown",
   "metadata": {
    "pycharm": {
     "name": "#%% md\n"
    }
   },
   "source": [
    "## Deep Learning Frameworks\n",
    "\n",
    "There are plenty of freely available frameworks that can be used for deep learning.\n",
    "Although most frameworks are written using low-level programming languages for speed,\n",
    "most of them provide bindings for [python](https://docs.python.org/3).\n",
    "Therefore, python has become the number one machine/deep learning language.\n",
    "\n",
    "In DL&NN 1, we already learned how [numpy](https://docs.scipy.org/doc/numpy) can be used to implement a neural network.\n",
    "Although numpy provides highly optimised code for linear algebra, it does not support any hardware acceleration.\n",
    "Graphical Processing Units (GPUs) have become one of the main hardware accelerators for deep learning \n",
    "(and more generally, for matrix multiplications).\n",
    "In order to accelerate python and/or numpy code on a GPU, one could use a framework like [numba](http://numba.pydata.org/) or even [pycuda](https://documen.tician.de/pycuda/).\n",
    "More recently, Tensor Processing Units (TPUs) were developed (by Google) to further accelerate deep learning computations.\n",
    "Accelerating your python code for TPUs (also works for GPUs) can be achieved by [jax](https://jax.readthedocs.io/en/latest/).\n",
    "\n",
    "Apart from the TPU/GPU acceleration, jax also provides automatic differentiation for python or numpy code.\n",
    "This means that once the forward pass of the network has been implemented, \n",
    "the framework is able to compute the gradients for the backward pass automatically.\n",
    "Whereas all of these frameworks enhance numpy to make it a more powerful tool for deep learning,\n",
    "the \"*true*\" deep learning frameworks offer hardware acceleration and differentation out of the box."
   ]
  },
  {
   "cell_type": "markdown",
   "metadata": {
    "pycharm": {
     "name": "#%% md\n"
    }
   },
   "source": [
    "###### Theano and Tensorflow v1\n",
    "\n",
    "One of the first frameworks for deep learning, [Theano](http://www.deeplearning.net/software/theano/) was developed by MILA.\n",
    "The core idea of Theano is to build computational graphs that can then be optimised and are executed in a second phase.\n",
    "```python\n",
    "# single layer network in Theano (untested)\n",
    "import numpy as np\n",
    "import theano\n",
    "import theano.tensor as T\n",
    "\n",
    "class Network:\n",
    "    \"\"\" Represents the computational graph of the network. \"\"\"\n",
    "\n",
    "    def __init__(self, x):\n",
    "        self.x = x   # x would be a graph node representing the input\n",
    "        self.w = theano.shared(value=np.zeros(x.shape[-1], 1), name='W')\n",
    "        self.b = theano.shared(value=np.zeros(1, ), name='b')\n",
    "\n",
    "    @property\n",
    "    def pre_activation(self):\n",
    "        \"\"\" \n",
    "        Construct graph node that computes pre-activations.\n",
    "        Does NOT compute pre-activations!\n",
    "        \"\"\"\n",
    "        return T.dot(self.x, self.w) + self.b\n",
    "\n",
    "    @property\n",
    "    def activation(self):\n",
    "        \"\"\" \n",
    "        Construct graph node that computes pre-activations.\n",
    "        Does NOT compute activations!\n",
    "        \"\"\"\n",
    "        return 1 / (1 + T.exp(-self.pre_activation))\n",
    "```"
   ]
  },
  {
   "cell_type": "markdown",
   "metadata": {
    "pycharm": {
     "name": "#%% md\n"
    }
   },
   "source": [
    "Theano by itself has been discontinued, but the ideas in Theano have been adopted by the Google engineers\n",
    "that created the first version of [Tensorflow](https://www.tensorflow.org/versions#tensorflow_1x).\n",
    "```python\n",
    "# single layer network in Tensorflow v1\n",
    "import numpy as np\n",
    "import tensorflow as tf\n",
    "\n",
    "class Network:\n",
    "    \"\"\" Represents the computational graph of the network. \"\"\"\n",
    "\n",
    "    def __init__(self, x):\n",
    "        self.x = x   # x would be a graph node representing the input\n",
    "        self.w = tf.Variable(tf.zeros((x.shape[-1], 1)))\n",
    "        self.b = tf.Variable(tf.zeros(1))\n",
    "\n",
    "    @property\n",
    "    def pre_activation(self):\n",
    "        \"\"\" \n",
    "        Construct graph node that computes pre-activations.\n",
    "        Does NOT compute pre-activations!\n",
    "        \"\"\"\n",
    "        return tf.matmul(self.x, self.w) + self.b\n",
    "\n",
    "    @property\n",
    "    def activation(self):\n",
    "        \"\"\" \n",
    "        Construct graph node that computes pre-activations.\n",
    "        Does NOT compute activations!\n",
    "        \"\"\"\n",
    "        return 1 / (1 + tf.exp(-self.pre_activation))\n",
    "\n",
    "# construct graph\n",
    "x = tf.placeholder(dtype=tf.float32, shape=(None, 5))\n",
    "network = Network(x)\n",
    "w_grad,  = tf.gradients(network.activation, [network.w])  # automatic differentiation\n",
    "\n",
    "# run through the network\n",
    "data = np.random.randn(10, 5)\n",
    "with tf.Session() as sess:\n",
    "    sess.run(tf.global_variables_initializer())\n",
    "    a, w_grad = sess.run([network.activation, w_grad], feed_dict={network.x: data})\n",
    "```"
   ]
  },
  {
   "cell_type": "markdown",
   "metadata": {
    "pycharm": {
     "name": "#%% md\n"
    }
   },
   "source": [
    "###### Pytorch and Tensorflow v2\n",
    "\n",
    "The graph building in theano and tensorflow v1 can be used for optimisation,\n",
    "but its main goal is to allow automatic differentiation through this graph (in reverse mode).\n",
    "Instead of relying on automatic differentation through a graph, \n",
    "it is also possible to just implement the analytical derivatives for every basic function.\n",
    "This is the approach that the Facebook engineers used in torch and [pytorch](https://pytorch.org/).\n",
    "By tracking the function calls in the forward pass, \n",
    "the backward pass does not need to be implemented separately.\n",
    "```python\n",
    "import torch\n",
    "from torch import nn\n",
    "\n",
    "class Network(nn.Module):\n",
    "    \n",
    "    def __init__(self, num_in: int):\n",
    "        super().__init__()\n",
    "        self.w = nn.Parameter(torch.zeros(num_in, 1))\n",
    "        self.b = nn.Parameter(torch.zeros(1))\n",
    "        \n",
    "    def forward(self, x):\n",
    "        s = torch.dot(x, self.w) + self.b\n",
    "        return torch.sigmoid(s)\n",
    "\n",
    "x = torch.randn(10, 5)\n",
    "network = Network(x.shape[-1])\n",
    "network.zero_grad()\n",
    "a = network(x)\n",
    "a.backward()\n",
    "w_grad = network.w.grad\n",
    "```"
   ]
  },
  {
   "cell_type": "markdown",
   "metadata": {
    "pycharm": {
     "name": "#%% md\n"
    }
   },
   "source": [
    "A similar approach has been taken for the second version of [Tensorflow](https://www.tensorflow.org/versions#tensorflow_20).\n",
    "Instead of building graphs, tensorflow v2 operates in the so-called *eager mode* by default\n",
    "and makes use of a *gradient tape* to keep track of the graph.\n",
    "```python\n",
    "# single layer network in Tensorflow v2\n",
    "import tensorflow as tf\n",
    "\n",
    "class Network:\n",
    "    \"\"\" Represents the network. \"\"\"\n",
    "\n",
    "    def __init__(self, num_in):\n",
    "        self.w = tf.Variable(tf.zeros((num_in, 1)))\n",
    "        self.b = tf.Variable(tf.zeros(1))\n",
    "\n",
    "    def forward(self, x):\n",
    "        s = tf.matmul(x, self.w) + self.b\n",
    "        return 1 / (1 + tf.exp(-s))\n",
    "\n",
    "# run through the network\n",
    "x = tf.random.normal((10, 5))\n",
    "network = Network(x.shape[-1])\n",
    "with tf.GradientTape() as tape:\n",
    "    tape.watch(network.w)\n",
    "    a = network.forward(x)\n",
    "w_grad = tape.gradient(a, network.w)\n",
    "```"
   ]
  },
  {
   "cell_type": "markdown",
   "metadata": {
    "pycharm": {
     "name": "#%% md\n"
    }
   },
   "source": [
    "###### Other Libraries\n",
    "\n",
    "Although Tensorflow and Pytorch are the most commonly used frameworks for deep learning,\n",
    "there are plenty of alternatives, most of which are open source. Some examples are:\n",
    " * [CogNitive ToolKit (CNTK)](https://docs.microsoft.com/en-us/cognitive-toolkit/) (Microsoft)\n",
    " * [nnabla](https://nnabla.org/) (Sony)\n",
    " * [mxnet](https://mxnet.apache.org/) (Apache)\n",
    " * [Chainer](https://chainer.org/) (Preferred Networks)\n",
    " * ...\n",
    "\n",
    "There are also plenty of libraries that build upon these frameworks.\n",
    "Mostly, these frameworks are easier to use, but therefore harder to customise.\n",
    "Some noteable examples are:\n",
    " * [Lasagne](https://lasagne.readthedocs.io/en/latest/) (unmaintained) \n",
    " was intended to make stacking layers with Theano easier.\n",
    " * [Keras](https://keras.io/) (F. Chollet, Google) is to be considered an API. \n",
    " Reference implementations exist for Theano, TF, CNTK and numpy (for inference).\n",
    " NOTE: tensorflow completely incorporated the Keras API.\n",
    " * [Caffe](https://caffe.berkeleyvision.org/) (BAIR) and [Caffe 2](https://caffe2.ai) (Facebook, discontinued) \n",
    " allow(ed) to define models by means of configuration files. Caffe 2 has been merged into pytorch.\n",
    " * [Sonnet](https://github.com/deepmind/sonnet) and [dm-haiku](https://github.com/deepmind/dm-haiku) (Deepmind, experimental)\n",
    " are frameworks built on top of tensorflow and jax, respectively, to abstract away some of the pesky details.\n",
    " * ...\n",
    "\n",
    "In this course, we will be using **pytorch** as the main framework,\n",
    "because it has gained massive popularity over the last few years\n",
    "and enables to write pythonic code for deep learning."
   ]
  },
  {
   "cell_type": "markdown",
   "metadata": {
    "pycharm": {
     "name": "#%% md\n"
    }
   },
   "source": [
    "## Neural Networks\n",
    "\n",
    "The pytorch code for building neural networks is mainly grouped in the `torch.nn` submodule.\n",
    "E.g. fully connected layers are implemented in the [`torch.nn.Linear`](https://pytorch.org/docs/stable/nn.html#torch.nn.Linear) class, \n",
    "convolutional layers (for images) can be used as [`torch.nn.Conv2d`](https://pytorch.org/docs/stable/nn.html#torch.nn.Conv2d),\n",
    "and highly optimised versions of LSTMS are available through [`torch.nn.LSTM`](https://pytorch.org/docs/stable/nn.html#torch.nn.LSTM).\n",
    "Also plenty of [activation functions](https://pytorch.org/docs/stable/nn.html#non-linear-activations-weighted-sum-nonlinearity),\n",
    "[loss functions](https://pytorch.org/docs/stable/nn.html#loss-functions),\n",
    "[normalisation methods](https://pytorch.org/docs/stable/nn.html#normalization-layers) \n",
    "are readily available in the `torch.nn` submodule. To easily stack all of these layers,\n",
    "there is also the [`torch.nn.Sequential`](https://pytorch.org/docs/stable/nn.html#sequential) module and much more.\n",
    "Because this submodule provides so much useful tools,\n",
    "it is common to import the submodule directly using `from torch import nn`,\n",
    "as has been done at the start of this notebook."
   ]
  },
  {
   "cell_type": "markdown",
   "metadata": {
    "pycharm": {
     "name": "#%% md\n"
    }
   },
   "source": [
    "### Exercise 1: Fully Connected Network (0 points)\n",
    "\n",
    "Time to get familiar with the DL module in the `nn` submodule.\n",
    "Let us build a fully connected network to classify the [MNIST](http://yann.lecun.com/exdb/mnist/) images.\n",
    "\n",
    " > Construct a new pytorch module, by writing a class that inherits from `nn.Module`.\n",
    " > The pytorch module should represent a network with three fully connected layers.\n",
    " > The hidden layers should have 500 and 300 units and the output layer returns the logits.\n",
    " > For the activation function in the hidden layers, you can use the hyperbolic tangent."
   ]
  },
  {
   "cell_type": "code",
   "execution_count": 3,
   "metadata": {
    "deletable": false,
    "nbgrader": {
     "cell_type": "code",
     "checksum": "5a90d4b2aec933806cae3444cc1087a3",
     "grade": false,
     "grade_id": "cell-041634e108132695",
     "locked": false,
     "schema_version": 3,
     "solution": true,
     "task": false
    },
    "pycharm": {
     "is_executing": false,
     "name": "#%%\n"
    },
    "tags": []
   },
   "outputs": [],
   "source": [
    "class FCNetwork(nn.Module):\n",
    "    \"\"\" Network with fully-connected layers. \"\"\"\n",
    "    \n",
    "    def __init__(self, in_features: int, out_features: int):\n",
    "        \"\"\"\n",
    "        Parameters\n",
    "        ----------\n",
    "        in_features : int\n",
    "            Number of input dimensions.\n",
    "        out_features : int\n",
    "            Number of output dimensions.\n",
    "        \"\"\"\n",
    "        # YOUR CODE HERE\n",
    "        super(FCNetwork, self).__init__()\n",
    "\n",
    "        # First fully connected layer\n",
    "        self.fc1 = nn.Linear(in_features=in_features, out_features=500)\n",
    "        # Second fully connected layer\n",
    "        self.fc2 = nn.Linear(in_features=500, out_features=300)\n",
    "        # Third fully connected layer\n",
    "        self.fc3 = nn.Linear(in_features=300, out_features=out_features)\n",
    "\n",
    "        # Hyperbolic tangent activation function\n",
    "        self.tanh = nn.Tanh()\n",
    "\n",
    "    def forward(self, x):\n",
    "        # First layer with activation funcion\n",
    "        x = self.tanh(self.fc1(x))\n",
    "        # Apply second layer\n",
    "        x = self.tanh(self.fc2(x))\n",
    "        # Third layer\n",
    "        x = self.fc3(x)\n",
    "\n",
    "        return x"
   ]
  },
  {
   "cell_type": "code",
   "execution_count": 4,
   "metadata": {},
   "outputs": [
    {
     "data": {
      "text/plain": [
       "545810"
      ]
     },
     "execution_count": 4,
     "metadata": {},
     "output_type": "execute_result"
    }
   ],
   "source": [
    "# sanity check\n",
    "fc_net = FCNetwork(784, 10)\n",
    "fc_net(torch.randn(1, 784))\n",
    "sum([par.numel() for par in fc_net.parameters()])"
   ]
  },
  {
   "cell_type": "code",
   "execution_count": 5,
   "metadata": {
    "deletable": false,
    "editable": false,
    "nbgrader": {
     "cell_type": "code",
     "checksum": "fd112b9e3bb92ae0834970993f322fa0",
     "grade": true,
     "grade_id": "cell-d4eecf5c874150f7",
     "locked": true,
     "points": 0.5,
     "schema_version": 3,
     "solution": false,
     "task": false
    },
    "tags": []
   },
   "outputs": [],
   "source": [
    "# Test Cell: do not edit or delete!"
   ]
  },
  {
   "cell_type": "code",
   "execution_count": 6,
   "metadata": {
    "deletable": false,
    "editable": false,
    "nbgrader": {
     "cell_type": "code",
     "checksum": "2d710be38789fc6f890e0f49eb3e480e",
     "grade": true,
     "grade_id": "cell-08e85340fd92b442",
     "locked": true,
     "points": 0.5,
     "schema_version": 3,
     "solution": false,
     "task": false
    },
    "tags": []
   },
   "outputs": [],
   "source": [
    "# Test Cell: do not edit or delete!"
   ]
  },
  {
   "cell_type": "code",
   "execution_count": 7,
   "metadata": {
    "deletable": false,
    "editable": false,
    "nbgrader": {
     "cell_type": "code",
     "checksum": "dd65360222d87907e37e487efb2ea6d9",
     "grade": true,
     "grade_id": "cell-14cadcf37b686843",
     "locked": true,
     "points": 0.5,
     "schema_version": 3,
     "solution": false,
     "task": false
    },
    "tags": []
   },
   "outputs": [],
   "source": [
    "# Test Cell: do not edit or delete!"
   ]
  },
  {
   "cell_type": "code",
   "execution_count": 8,
   "metadata": {
    "deletable": false,
    "editable": false,
    "nbgrader": {
     "cell_type": "code",
     "checksum": "8f0054c30bd669ed7c149f0f47511000",
     "grade": true,
     "grade_id": "cell-f56b5d4de834aac4",
     "locked": true,
     "points": 0.5,
     "schema_version": 3,
     "solution": false,
     "task": false
    },
    "tags": []
   },
   "outputs": [],
   "source": [
    "# Test Cell do not edit or delete!"
   ]
  },
  {
   "cell_type": "code",
   "execution_count": 9,
   "metadata": {
    "deletable": false,
    "editable": false,
    "nbgrader": {
     "cell_type": "code",
     "checksum": "05a7ce363d57ae1ab07056684f1061fa",
     "grade": true,
     "grade_id": "cell-03f692e9807973a5",
     "locked": true,
     "points": 0.5,
     "schema_version": 3,
     "solution": false,
     "task": false
    },
    "tags": []
   },
   "outputs": [],
   "source": [
    "# Test Cell: do not edit or delete!"
   ]
  },
  {
   "cell_type": "code",
   "execution_count": 10,
   "metadata": {
    "deletable": false,
    "editable": false,
    "nbgrader": {
     "cell_type": "code",
     "checksum": "359c2135dc37c72b16787fa0b744d3cf",
     "grade": true,
     "grade_id": "cell-c75efc93ddf2cb59",
     "locked": true,
     "points": 0.5,
     "schema_version": 3,
     "solution": false,
     "task": false
    },
    "tags": []
   },
   "outputs": [],
   "source": [
    "# Test Cell: do not edit or delete!"
   ]
  },
  {
   "cell_type": "markdown",
   "metadata": {
    "pycharm": {
     "name": "#%% md\n"
    }
   },
   "source": [
    "### Exercise 2: Convolutional Network (0 points)\n",
    "\n",
    "Instead of creating a new class, we can also use the `Sequential` module.\n",
    "Since convolutional networks are generally better suited to images,\n",
    "we will build a MNIST classifier with convolutional layers this time.\n",
    "Any other benefits of convolutional layers you can think of?\n",
    "\n",
    " > Use the `Sequential` module to construct a network with two convolutional layers.\n",
    " > The inputs for this network are single-channel 28x28 images.\n",
    " > The result of the first convolutional layer should have **five 24x24 feature maps**.\n",
    " > The second convolutional layer should receive **five 6x6 feature maps** as input\n",
    " > and produce **ten 3x3 feature maps**.\n",
    " > Use average pooling for the dimensionality reduction between the two convolutional layers.\n",
    " > Finally, add a fully-connected layer to map the feature maps to logits for 10 distinct classes.\n",
    " > Use the Exponential Linear Unit (ELU) as activation function."
   ]
  },
  {
   "cell_type": "code",
   "execution_count": 11,
   "metadata": {
    "deletable": false,
    "nbgrader": {
     "cell_type": "code",
     "checksum": "b9ba7abda2cb4227090c49342b5f1daa",
     "grade": false,
     "grade_id": "cell-dcae670b84c9611a",
     "locked": false,
     "schema_version": 3,
     "solution": true,
     "task": false
    },
    "pycharm": {
     "is_executing": false,
     "name": "#%%\n"
    },
    "tags": []
   },
   "outputs": [],
   "source": [
    "# TODO: create network with `nn.Sequential`\n",
    "conv_net = nn.Sequential(\n",
    "    # First convolutional layer\n",
    "    nn.Conv2d(in_channels=1, out_channels=5, kernel_size=5), # 28-5+1=24\n",
    "    nn.ELU(),\n",
    "    # Average pooling layer\n",
    "    nn.AvgPool2d(kernel_size=2, stride=4), # 24-2/4\n",
    "    # Second convolutional layer\n",
    "    nn.Conv2d(in_channels=5, out_channels=10, kernel_size=4),\n",
    "    nn.ELU(),\n",
    "    # Flatten the output \n",
    "    nn.Flatten(),\n",
    "    # Fully connected layer\n",
    "    nn.Linear(in_features=10*3*3, out_features=10)  # Mapping to 10 classes\n",
    ")\n",
    "# YOUR CODE HERE\n",
    "# raise NotImplementedError()"
   ]
  },
  {
   "cell_type": "code",
   "execution_count": 12,
   "metadata": {},
   "outputs": [
    {
     "data": {
      "text/plain": [
       "1850"
      ]
     },
     "execution_count": 12,
     "metadata": {},
     "output_type": "execute_result"
    }
   ],
   "source": [
    "# sanity check\n",
    "conv_net(torch.randn(1, 1, 28, 28))\n",
    "sum([par.numel() for par in conv_net.parameters()])"
   ]
  },
  {
   "cell_type": "code",
   "execution_count": 13,
   "metadata": {
    "deletable": false,
    "editable": false,
    "nbgrader": {
     "cell_type": "code",
     "checksum": "3b847fdda8166eb4dc6adbcaa0628993",
     "grade": true,
     "grade_id": "cell-4a6cb70e6c116e40",
     "locked": true,
     "points": 0.5,
     "schema_version": 3,
     "solution": false,
     "task": false
    },
    "tags": []
   },
   "outputs": [],
   "source": [
    "# Test Cell: do not edit or delete!"
   ]
  },
  {
   "cell_type": "code",
   "execution_count": 14,
   "metadata": {
    "deletable": false,
    "editable": false,
    "nbgrader": {
     "cell_type": "code",
     "checksum": "96d8732533cfc4dcf1355b36b3401fa5",
     "grade": true,
     "grade_id": "cell-0fecff1ebf3631b3",
     "locked": true,
     "points": 0.5,
     "schema_version": 3,
     "solution": false,
     "task": false
    },
    "tags": []
   },
   "outputs": [],
   "source": [
    "# Test Cell: do not edit or delete!"
   ]
  },
  {
   "cell_type": "code",
   "execution_count": 15,
   "metadata": {
    "deletable": false,
    "editable": false,
    "nbgrader": {
     "cell_type": "code",
     "checksum": "e7f9a99e0c7d262d9fadf5bd121d0fe4",
     "grade": true,
     "grade_id": "cell-79f555cfd919b726",
     "locked": true,
     "points": 0.5,
     "schema_version": 3,
     "solution": false,
     "task": false
    },
    "tags": []
   },
   "outputs": [],
   "source": [
    "# Test Cell: do not edit or delete!"
   ]
  },
  {
   "cell_type": "code",
   "execution_count": 16,
   "metadata": {
    "deletable": false,
    "editable": false,
    "nbgrader": {
     "cell_type": "code",
     "checksum": "8a6fda126b7983012376b096bf42c5fc",
     "grade": true,
     "grade_id": "cell-151d4894a3689813",
     "locked": true,
     "points": 0.5,
     "schema_version": 3,
     "solution": false,
     "task": false
    },
    "tags": []
   },
   "outputs": [],
   "source": [
    "# Test Cell: do not edit or delete!"
   ]
  },
  {
   "cell_type": "code",
   "execution_count": 17,
   "metadata": {
    "deletable": false,
    "editable": false,
    "nbgrader": {
     "cell_type": "code",
     "checksum": "169d685bd997e8644d0147086249101c",
     "grade": true,
     "grade_id": "cell-bc6f3c7f2d3dbf07",
     "locked": true,
     "points": 0.5,
     "schema_version": 3,
     "solution": false,
     "task": false
    },
    "tags": []
   },
   "outputs": [],
   "source": [
    "# Test Cell: do not edit or delete!"
   ]
  },
  {
   "cell_type": "code",
   "execution_count": 18,
   "metadata": {
    "deletable": false,
    "editable": false,
    "nbgrader": {
     "cell_type": "code",
     "checksum": "d401a1637403ab7eb81982f20e622322",
     "grade": true,
     "grade_id": "cell-4b0d6fafc3092dfa",
     "locked": true,
     "points": 0.5,
     "schema_version": 3,
     "solution": false,
     "task": false
    },
    "tags": []
   },
   "outputs": [],
   "source": [
    "# Test Cell: do not edit or delete!"
   ]
  },
  {
   "cell_type": "code",
   "execution_count": 19,
   "metadata": {
    "deletable": false,
    "editable": false,
    "nbgrader": {
     "cell_type": "code",
     "checksum": "2fff517ece19615a4ad0cab4e7ca7513",
     "grade": true,
     "grade_id": "cell-9d18562795991ecb",
     "locked": true,
     "points": 0.5,
     "schema_version": 3,
     "solution": false,
     "task": false
    },
    "tags": []
   },
   "outputs": [],
   "source": [
    "# Test Cell: do not edit or delete!"
   ]
  },
  {
   "cell_type": "code",
   "execution_count": 20,
   "metadata": {
    "deletable": false,
    "editable": false,
    "nbgrader": {
     "cell_type": "code",
     "checksum": "68b54f6076c06374021d9dfdef8d6e3e",
     "grade": true,
     "grade_id": "cell-9196f56ebe9ef85b",
     "locked": true,
     "points": 0.5,
     "schema_version": 3,
     "solution": false,
     "task": false
    },
    "tags": []
   },
   "outputs": [],
   "source": [
    "# Test Cell: do not edit or delete!"
   ]
  },
  {
   "cell_type": "code",
   "execution_count": 21,
   "metadata": {
    "deletable": false,
    "editable": false,
    "nbgrader": {
     "cell_type": "code",
     "checksum": "94b1686aadb180fac99263ea1b72d288",
     "grade": true,
     "grade_id": "cell-b8dd47b15aaa35eb",
     "locked": true,
     "points": 0.5,
     "schema_version": 3,
     "solution": false,
     "task": false
    },
    "tags": []
   },
   "outputs": [],
   "source": [
    "# Test Cell: do not edit or delete!"
   ]
  },
  {
   "cell_type": "markdown",
   "metadata": {
    "pycharm": {
     "name": "#%% md\n"
    }
   },
   "source": [
    "## Data\n",
    "\n",
    "Any machine learning method requires data. \n",
    "Neural networks often require more data than other methods to learn well.\n",
    "Obtaining good data is often one of the hardest tasks in machine learning.\n",
    "Luckily, there are plenty of standardly available datasets around\n",
    "to play around with and test new methods on.\n",
    "\n",
    "These standard datasets can easily be used in pytorch. \n",
    "In this course, we will make use of some standard image datasets\n",
    "that are made available through the [`torchvision`](https://pytorch.org/docs/stable/torchvision/datasets.html) package.\n",
    "However, there are also [`torchaudio`](https://pytorch.org/audio/datasets.html) and\n",
    "[`torchtext`](https://pytorch.org/text/datasets.html) packages to work with standard audio, resp. text datasets.\n",
    "In this assignment, we will focus mainly on the `MNIST` dataset from the `torchvision` package."
   ]
  },
  {
   "cell_type": "markdown",
   "metadata": {
    "pycharm": {
     "name": "#%% md\n"
    }
   },
   "source": [
    "###### Pre-processing\n",
    "\n",
    "Once the data is available, some sort of pre-processing is generally necessary.\n",
    "The datasets provided by torchvision can easily be pre-processed \n",
    "by using the `transform` and/or `transform_target` parameters in the constructor.\n",
    "These parameters allow to pre-process the inputs, resp. target outputs for the network.\n",
    "As a matter of fact, the torchvision datasets require pre-processing,\n",
    "since they return pillow (PIL) images, rather than pytorch tensors.\n",
    "\n",
    "The [`torchvision.transforms`](https://pytorch.org/docs/stable/torchvision/transforms.html) module provides a wide variety of pre-processing operations.\n",
    "The necessary transformation to use the MNIST data for deep learning is `torvision.transforms.ToTensor`.\n",
    "To use different pre-processing steps, the `Compose` transformation can be used."
   ]
  },
  {
   "cell_type": "markdown",
   "metadata": {
    "pycharm": {
     "name": "#%% md\n"
    }
   },
   "source": [
    "###### Data Loader\n",
    "\n",
    "In order to maximise the computation when training a neural network,\n",
    "it is important that the data is efficiently transported from the hard drive to (GPU/TPU) memory.\n",
    "In pytorch, this data transport is implemented by means of the [`DataLoader`](https://pytorch.org/docs/stable/data.html) class.\n",
    "\n",
    "A dataloader allows to iterate over a mini-batches with a specific batch-size.\n",
    "When iterating over the dataloader, it collects data at random indices from some `Dataset`,\n",
    "e.g. `MNIST`, to form a mini-batch of data on-the-fly.\n",
    "In order to assure that the network never has to wait for new data to be loaded in memory,\n",
    "the dataloader can use multiple processes load data by means of the `num_workers` parameter."
   ]
  },
  {
   "cell_type": "markdown",
   "metadata": {
    "pycharm": {
     "name": "#%% md\n"
    }
   },
   "source": [
    "### Exercise 3: The MNIST Dataset (0 points)\n",
    "\n",
    "An exercise to make you familiar with pytorch datasets.\n",
    "\n",
    " > Implement the `get_mnist_loader` function so that it returns a pytorch dataloader\n",
    " > that iterates over mini-batches of MNIST images.\n",
    " > Normalise the data so that it has zero mean and unit variance.\n",
    " > Make sure to use all keyword arguments!"
   ]
  },
  {
   "cell_type": "code",
   "execution_count": 22,
   "metadata": {
    "deletable": false,
    "nbgrader": {
     "cell_type": "code",
     "checksum": "4d1ecff82dc3ccf251141791ef9091fb",
     "grade": false,
     "grade_id": "cell-14216e97391e00c8",
     "locked": false,
     "schema_version": 3,
     "solution": true,
     "task": false
    },
    "pycharm": {
     "is_executing": false,
     "name": "#%%\n"
    },
    "tags": []
   },
   "outputs": [],
   "source": [
    "def get_mnist_loader(root, test=True, batch_size=1, num_workers=0, shuffle=False):\n",
    "    \"\"\"\n",
    "    Create a dataloader for the MNIST data.\n",
    "    \n",
    "    Parameters\n",
    "    ----------\n",
    "    root : str\n",
    "        Path to the MNIST dataset.\n",
    "    test : bool\n",
    "        Flag to use either test or train data.\n",
    "    batch_size : int\n",
    "        Number of samples in each mini-batch.\n",
    "    num_workers : int\n",
    "        Number of parallel processes for pre-processing.\n",
    "    shuffle : bool\n",
    "        If `True`, data will be shuffled\n",
    "        \n",
    "    Returns\n",
    "    -------\n",
    "    loader : DataLoader\n",
    "        A dataloader to iterate over the MNIST data.\n",
    "    \"\"\"\n",
    "    from torchvision import transforms\n",
    "    import torchvision.datasets as datasets\n",
    "    # YOUR CODE HERE\n",
    "    # raise NotImplementedError()\n",
    "\n",
    "    transform = transforms.Compose([\n",
    "        transforms.ToTensor(),\n",
    "        transforms.Normalize((0.1307,), (0.3081,)) # substracting the value to have zero mean and variance\n",
    "    ])\n",
    "\n",
    "    mnist_dataset = datasets.MNIST(root=root, train=not test, download=True, transform=transform)\n",
    "    loader = DataLoader(mnist_dataset, batch_size=batch_size, shuffle=shuffle, num_workers=num_workers)\n",
    "\n",
    "    return loader"
   ]
  },
  {
   "cell_type": "code",
   "execution_count": 23,
   "metadata": {
    "deletable": false,
    "editable": false,
    "nbgrader": {
     "cell_type": "code",
     "checksum": "b004bc29632d328584aa2153a804a552",
     "grade": true,
     "grade_id": "cell-52b1d41c16c4d1b8",
     "locked": true,
     "points": 0.5,
     "schema_version": 3,
     "solution": false,
     "task": false
    },
    "tags": []
   },
   "outputs": [],
   "source": [
    "# Test Cell: do not edit or delete!"
   ]
  },
  {
   "cell_type": "code",
   "execution_count": 24,
   "metadata": {
    "deletable": false,
    "editable": false,
    "nbgrader": {
     "cell_type": "code",
     "checksum": "f0f8194dc72e7dcbff284e08b4c4b438",
     "grade": true,
     "grade_id": "cell-d57a1ac1c0df06e6",
     "locked": true,
     "points": 0.5,
     "schema_version": 3,
     "solution": false,
     "task": false
    },
    "tags": []
   },
   "outputs": [],
   "source": [
    "# Test Cell: do not edit or delete!"
   ]
  },
  {
   "cell_type": "code",
   "execution_count": 25,
   "metadata": {
    "deletable": false,
    "editable": false,
    "nbgrader": {
     "cell_type": "code",
     "checksum": "83681eeeb611ce8f7b3c5624ddff2f1e",
     "grade": true,
     "grade_id": "cell-6aca7d21273bdbfb",
     "locked": true,
     "points": 0.5,
     "schema_version": 3,
     "solution": false,
     "task": false
    },
    "tags": []
   },
   "outputs": [],
   "source": [
    "# Test Cell: do not edit or delete!"
   ]
  },
  {
   "cell_type": "code",
   "execution_count": 26,
   "metadata": {
    "deletable": false,
    "editable": false,
    "nbgrader": {
     "cell_type": "code",
     "checksum": "69b0c8c2e1152124ec9f4bb79a7142c3",
     "grade": true,
     "grade_id": "cell-f9833c0d8c027bce",
     "locked": true,
     "points": 0.5,
     "schema_version": 3,
     "solution": false,
     "task": false
    },
    "tags": []
   },
   "outputs": [],
   "source": [
    "# Test Cell: do not edit or delete!"
   ]
  },
  {
   "cell_type": "code",
   "execution_count": 27,
   "metadata": {
    "deletable": false,
    "editable": false,
    "nbgrader": {
     "cell_type": "code",
     "checksum": "b676c86f6f06c92467f24725d33be3cc",
     "grade": true,
     "grade_id": "cell-162f92d76e04735a",
     "locked": true,
     "points": 0.5,
     "schema_version": 3,
     "solution": false,
     "task": false
    },
    "tags": []
   },
   "outputs": [],
   "source": [
    "# Test Cell: do not edit or delete!"
   ]
  },
  {
   "cell_type": "code",
   "execution_count": 28,
   "metadata": {
    "deletable": false,
    "editable": false,
    "nbgrader": {
     "cell_type": "code",
     "checksum": "d40f2397af31d1e6efb5afe716f97b22",
     "grade": true,
     "grade_id": "cell-a65cd1aa92e59142",
     "locked": true,
     "points": 0.5,
     "schema_version": 3,
     "solution": false,
     "task": false
    },
    "tags": []
   },
   "outputs": [],
   "source": [
    "# Test Cell: do not edit or delete!"
   ]
  },
  {
   "cell_type": "code",
   "execution_count": 29,
   "metadata": {
    "deletable": false,
    "editable": false,
    "nbgrader": {
     "cell_type": "code",
     "checksum": "593f9f1794f4a2dcef8a77db5e4a3262",
     "grade": true,
     "grade_id": "cell-563b009a3b1560fd",
     "locked": true,
     "points": 0.5,
     "schema_version": 3,
     "solution": false,
     "task": false
    },
    "tags": []
   },
   "outputs": [],
   "source": [
    "# Test Cell: do not edit or delete!"
   ]
  },
  {
   "cell_type": "code",
   "execution_count": 30,
   "metadata": {
    "deletable": false,
    "editable": false,
    "nbgrader": {
     "cell_type": "code",
     "checksum": "c2a3ed0cc92f227f7ec0aabd26a872d6",
     "grade": true,
     "grade_id": "cell-0c8395c9bcdb8f07",
     "locked": true,
     "points": 0.5,
     "schema_version": 3,
     "solution": false,
     "task": false
    },
    "tags": []
   },
   "outputs": [],
   "source": [
    "# Test Cell: do not edit or delete!"
   ]
  },
  {
   "cell_type": "markdown",
   "metadata": {},
   "source": [
    "## Differentiation and Optimisation\n",
    "\n",
    "Just like most of the deep learning frameworks, \n",
    "pytorch relieves the burden of computing gradients through the entire network.\n",
    "Given a pytorch tensor that is the result of applying a series of (differentiable) pytorch functions,\n",
    "it is essentially possible to get the gradients w.r.t. any intermediate pytorch tensor in the computation.\n",
    "Most of this functionality can be found in the [`torch.autograd`](https://pytorch.org/docs/stable/autograd.html) submodule. \n",
    "\n",
    "###### Computing Gradients\n",
    "\n",
    "When working with neural networks, gradients from a scalar loss w.r.t. parameters are of special interest.\n",
    "Therefore, pytorch provides this functionality practically by default (as soon as a variable is marked to require gradients).\n",
    "In order to allow gradient computation by default,\n",
    "pytorch must keep track of which functions were called to get from one variable to another.\n",
    "This of course introduces a certain amount of overhead,\n",
    "which might not be necessary if you do not need the gradients.\n",
    "\n",
    "Consider the very simple example of computing the sum of the elements in some random vector.\n",
    "```python\n",
    "x = torch.randn(10)\n",
    "y = x.sum()\n",
    "print(y)\n",
    "```\n",
    "In this case, there are no variables that require gradients, and it is not possible to compute gradients.\n",
    "However, if we explicitly require gradients for `x`, \n",
    "`y` will have a `grad_fn` to keep track of the computations.\n",
    "```python\n",
    "x = torch.randn(10, requires_grad=True)\n",
    "y = x.sum()\n",
    "print(y)\n",
    "```\n",
    "In order to compute the gradients of a scalar w.r.t. all the tensors that require gradients,\n",
    "we can then simply call `backward` on the scalar result tensor\n",
    "and the gradients will be stored in the `grad` field of the respective tensors.\n",
    "In our example, `y.backward()` would compute the gradients for `x` and store these in `x.grad`.\n",
    "\n",
    "###### Controlling the Gradients\n",
    "\n",
    "When building neural networks with the default pytorch layers from the `nn` submodule,\n",
    "all trainable parameters will require grads, which will trigger the computational overhead.\n",
    "In order to explicitly disable this overhead, it is possible to use `torch.no_grad()` either\n",
    "as [context manager](https://docs.python.org/3/reference/compound_stmts.html#with) \n",
    "or [decorator](https://docs.python.org/3/glossary.html#term-decorator).\n",
    "```python\n",
    "x = torch.randn(10, requires_grad=True)\n",
    "# use as context manager\n",
    "with torch.no_grad():\n",
    "    y = x.sum()\n",
    "print(y)\n",
    "```\n",
    "\n",
    "The gradient overhead is not only computational, but can also have an impact on memory.\n",
    "A tensor with a non-empty `grad_func` field implicitly stores the entire computational graph\n",
    "and caches the tensors it needs to backpropagate through the network.\n",
    "Therefore, it is important to clean this graph when storing such tensors for longer.\n",
    "In pytorch the `detach` method allows to create a copy of a tensor without the computational graph.\n",
    "For scalar values, also the `item` method can be used to convert a scalar tensor to a native python variable.\n",
    "This is especially useful when monitoring loss values, e.g. for plotting.\n",
    "For non-scalar tensors, the equivalent method is `tolist`.\n",
    "However, often it is more interesting to convert to numpy arrays using something like\n",
    "`y.detach().numpy()`.\n",
    "\n",
    "Finally, an important feature/pitfall of pytorch, is the fact that gradients are accumulated.\n",
    "This allows to easily combine gradients from e.g. different terms in the loss (remember L2 regularisation).\n",
    "However, this also means that it is crucial to reset the gradients to get the correct values!\n",
    "A simple example of how this can cause confusion and/or problems is given below:"
   ]
  },
  {
   "cell_type": "code",
   "execution_count": 31,
   "metadata": {
    "pycharm": {
     "is_executing": false,
     "name": "#%%\n"
    }
   },
   "outputs": [
    {
     "name": "stdout",
     "output_type": "stream",
     "text": [
      "y1      gradient: tensor([1., 1., 1., 1., 1.])\n",
      "y1 + y2 gradient: tensor([1., 3., 5., 7., 9.])\n"
     ]
    }
   ],
   "source": [
    "x = torch.arange(5.).requires_grad_(True)\n",
    "y1, y2 = x.sum(), torch.sum(x ** 2)\n",
    "y1.backward()\n",
    "print(\"y1      gradient:\", x.grad) # gradient of y1\n",
    "y2.backward()\n",
    "print(\"y1 + y2 gradient:\", x.grad) # gradient of y1 + y2"
   ]
  },
  {
   "cell_type": "code",
   "execution_count": 32,
   "metadata": {
    "pycharm": {
     "is_executing": false,
     "name": "#%%\n"
    }
   },
   "outputs": [
    {
     "name": "stdout",
     "output_type": "stream",
     "text": [
      "wrong   y1 gradient: tensor([ 2.,  4.,  6.,  8., 10.])\n",
      "correct y1 gradient: tensor([1., 1., 1., 1., 1.])\n"
     ]
    }
   ],
   "source": [
    "# compute gradient from y1 again (wrong)\n",
    "y1.backward()\n",
    "print(\"wrong   y1 gradient:\", x.grad) # gradient of y1 + y2 + y1\n",
    "# compute gradient from y1 again (right)\n",
    "del x.grad  # reset gradient\n",
    "y1.backward()\n",
    "print(\"correct y1 gradient:\", x.grad) # gradient of y1"
   ]
  },
  {
   "cell_type": "markdown",
   "metadata": {
    "pycharm": {
     "name": "#%% md\n"
    }
   },
   "source": [
    "###### Optimisation\n",
    "\n",
    "In order to update the network parameters, we need an optimisation strategy.\n",
    "Most of the update algorithms from DL & NN 1 can be found in the \n",
    "[`torch.optim`](https://pytorch.org/docs/stable/optim.html) submodule.\n",
    "E.g. stochastic gradient descent (with momentum) can be found as `torch.optim.SGD`.\n",
    "These optimisers update the parameters of a network in a direction\n",
    "that is computed from the gradients.\n",
    "\n",
    "A pytorch optimiser stores a reference to the parameters of a network.\n",
    "By using the `step` method, all of the parameters will be updated,\n",
    "using the information that is stored in the `grad` field of these parameters.\n",
    "In order for this `grad` field to contain meaningful information,\n",
    "a call to `backward` is necessary before calling `step`.\n",
    "In order to make sure that the gradients are not corrupted,\n",
    "pytorch optimisers also provide a `zero_grad` method.\n",
    "This method resets the gradients for all the parameters it can update.\n",
    "This method should be called before gradients are computed, as noted earlier."
   ]
  },
  {
   "cell_type": "markdown",
   "metadata": {},
   "source": [
    "### Exercise 4: Propagating and Updating the Network (0 points)\n",
    "\n",
    "Two very common tasks in deep learning are\n",
    " 1. updating the network to get better predictions,\n",
    " 2. evaluating the function to see how good predictions really are.\n",
    "Because functions performing these tasks are useful for practically *any* \"standard\" project,\n",
    "it is generally not a waste of time to implement them early on.\n",
    "\n",
    " > Implement the `evaluate` and `update` functions to perform the above tasks.\n",
    " > They should both iterate over all the mini-batches in the given data-loader, `data`, once\n",
    " > and compute the `loss` or `metric` given the resp. functions.\n",
    " > Additionally, the `update` function should optimise the loss\n",
    " > with the specified optimisation algorithm `opt`.\n",
    " > Both functions should return the list of errors for each mini-batch.\n",
    " > Make sure to keep your gradients under control! Both computationally and memory-wise.\n",
    "\n",
    "**NOTE:** these are functions you will want to use in future assignments!"
   ]
  },
  {
   "cell_type": "code",
   "execution_count": 33,
   "metadata": {
    "deletable": false,
    "nbgrader": {
     "cell_type": "code",
     "checksum": "c8153f52d4a15023e536aef4e37b013e",
     "grade": false,
     "grade_id": "cell-6bb110766fa0cb8e",
     "locked": false,
     "schema_version": 3,
     "solution": true,
     "task": false
    },
    "pycharm": {
     "is_executing": false
    },
    "tags": []
   },
   "outputs": [],
   "source": [
    "def evaluate(network: nn.Module, data: DataLoader, metric: callable) -> list:\n",
    "    \"\"\"\n",
    "    Evaluate the performance of a network on some metric.\n",
    "    \n",
    "    Parameters\n",
    "    ----------\n",
    "    network : nn.Module\n",
    "        Pytorch module representing the network.\n",
    "    data : DataLoader\n",
    "        Pytorch dataloader that is able to \n",
    "        efficiently sample mini-batches of data.\n",
    "    metric : callable\n",
    "        Function that computes a scalar metric\n",
    "        from the network logits and true data labels.\n",
    "        The function should expect pytorch tensors as inputs.\n",
    "\n",
    "    Returns\n",
    "    -------\n",
    "    errors : list\n",
    "        The computed metric for each mini-batch in `data`.\n",
    "    \"\"\"\n",
    "    # YOUR CODE HERE\n",
    "    # raise NotImplementedError()\n",
    "\n",
    "    network.eval() # set network in evaluation mode\n",
    "    error_list = []\n",
    "\n",
    "    with torch.no_grad():\n",
    "        for input, targets in data:\n",
    "            outputs = network(input)\n",
    "            error = metric(outputs, targets)\n",
    "            error_list.append(error.item())\n",
    "\n",
    "    return error_list"
   ]
  },
  {
   "cell_type": "code",
   "execution_count": 34,
   "metadata": {
    "deletable": false,
    "editable": false,
    "nbgrader": {
     "cell_type": "code",
     "checksum": "093535403918d35a3efec3dc59c0e67a",
     "grade": true,
     "grade_id": "cell-5ce88caf047f3a05",
     "locked": true,
     "points": 0.5,
     "schema_version": 3,
     "solution": false,
     "task": false
    },
    "tags": []
   },
   "outputs": [],
   "source": [
    "# Test Cell: do not edit or delete!"
   ]
  },
  {
   "cell_type": "code",
   "execution_count": 35,
   "metadata": {
    "deletable": false,
    "editable": false,
    "nbgrader": {
     "cell_type": "code",
     "checksum": "87b80a2e57336558e598f3ab60a2988c",
     "grade": true,
     "grade_id": "cell-8a701b71eed6bc39",
     "locked": true,
     "points": 0.5,
     "schema_version": 3,
     "solution": false,
     "task": false
    },
    "tags": []
   },
   "outputs": [],
   "source": [
    "# Test Cell: do not edit or delete!"
   ]
  },
  {
   "cell_type": "code",
   "execution_count": 36,
   "metadata": {
    "deletable": false,
    "editable": false,
    "nbgrader": {
     "cell_type": "code",
     "checksum": "f27b8713f60512e123240b6e32c76964",
     "grade": true,
     "grade_id": "cell-2bb404559b984b3b",
     "locked": true,
     "points": 0.5,
     "schema_version": 3,
     "solution": false,
     "task": false
    },
    "tags": []
   },
   "outputs": [],
   "source": [
    "# Test Cell: do not edit or delete!"
   ]
  },
  {
   "cell_type": "code",
   "execution_count": 37,
   "metadata": {
    "deletable": false,
    "editable": false,
    "nbgrader": {
     "cell_type": "code",
     "checksum": "db600202dc3c8302ca0564e4fbd937d8",
     "grade": true,
     "grade_id": "cell-a23647c2d17339df",
     "locked": true,
     "points": 0.5,
     "schema_version": 3,
     "solution": false,
     "task": false
    },
    "tags": []
   },
   "outputs": [],
   "source": [
    "# Test Cell: do not edit or delete!"
   ]
  },
  {
   "cell_type": "code",
   "execution_count": 38,
   "metadata": {
    "deletable": false,
    "nbgrader": {
     "cell_type": "code",
     "checksum": "d1d1648abfb270084478be13bc0b0a9b",
     "grade": false,
     "grade_id": "cell-c700def85ba56ea3",
     "locked": false,
     "schema_version": 3,
     "solution": true,
     "task": false
    },
    "tags": []
   },
   "outputs": [],
   "source": [
    "def update(network: nn.Module, data: DataLoader, loss: nn.Module, \n",
    "           opt: optim.Optimizer) -> list:\n",
    "    \"\"\"\n",
    "    Update the network to minimise some loss using a given optimiser.\n",
    "    \n",
    "    Parameters\n",
    "    ----------\n",
    "    network : nn.Module\n",
    "        Pytorch module representing the network.\n",
    "    data : DataLoader\n",
    "        Pytorch dataloader that is able to \n",
    "        efficiently sample mini-batches of data.\n",
    "    loss : nn.Module\n",
    "        Pytorch function that computes a scalar loss\n",
    "        from the network logits and true data labels.\n",
    "    opt : optim.Optimiser\n",
    "        Pytorch optimiser to use for minimising the objective.\n",
    "\n",
    "    Returns\n",
    "    -------\n",
    "    errors : list\n",
    "        The computed loss for each mini-batch in `data`.\n",
    "    \"\"\"\n",
    "    # YOUR CODE HERE\n",
    "    # raise NotImplementedError()\n",
    "\n",
    "    network.train() # Network into training mode\n",
    "    error_list = []\n",
    "\n",
    "    for inputs, targets in data:\n",
    "        opt.zero_grad()  # Zero the gradients to prepare for a new optimization step\n",
    "        outputs = network(inputs)\n",
    "        error = loss(outputs, targets)\n",
    "        error.backward()  # Perform backpropagation \n",
    "        opt.step()  # Update the network parameters\n",
    "        \n",
    "        error_list.append(error.item()) \n",
    "\n",
    "    return error_list"
   ]
  },
  {
   "cell_type": "code",
   "execution_count": 39,
   "metadata": {
    "deletable": false,
    "editable": false,
    "nbgrader": {
     "cell_type": "code",
     "checksum": "c2126fc7b1ed3f559049033144c808f0",
     "grade": true,
     "grade_id": "cell-f937b0a76bd87b9d",
     "locked": true,
     "points": 0.5,
     "schema_version": 3,
     "solution": false,
     "task": false
    },
    "tags": []
   },
   "outputs": [],
   "source": [
    "# Test Cell: do not edit or delete!"
   ]
  },
  {
   "cell_type": "code",
   "execution_count": 40,
   "metadata": {
    "deletable": false,
    "editable": false,
    "nbgrader": {
     "cell_type": "code",
     "checksum": "1ff5134f596e1d6935fb0e5f84903e04",
     "grade": true,
     "grade_id": "cell-e72b683dcbef9680",
     "locked": true,
     "points": 0.5,
     "schema_version": 3,
     "solution": false,
     "task": false
    },
    "tags": []
   },
   "outputs": [],
   "source": [
    "# Test Cell: do not edit or delete!"
   ]
  },
  {
   "cell_type": "code",
   "execution_count": 41,
   "metadata": {
    "deletable": false,
    "editable": false,
    "nbgrader": {
     "cell_type": "code",
     "checksum": "c3b96821ef6507edf7bc61df3c4dffa2",
     "grade": true,
     "grade_id": "cell-ca08b4e36607ea7e",
     "locked": true,
     "points": 0.5,
     "schema_version": 3,
     "solution": false,
     "task": false
    },
    "tags": []
   },
   "outputs": [],
   "source": [
    "# Test Cell: do not edit or delete!"
   ]
  },
  {
   "cell_type": "code",
   "execution_count": 42,
   "metadata": {
    "deletable": false,
    "editable": false,
    "nbgrader": {
     "cell_type": "code",
     "checksum": "7d69cc42b38719908a631fcfc820ab8c",
     "grade": true,
     "grade_id": "cell-f8910d986b06fd7b",
     "locked": true,
     "points": 0.5,
     "schema_version": 3,
     "solution": false,
     "task": false
    },
    "tags": []
   },
   "outputs": [],
   "source": [
    "# Test Cell: do not edit or delete!"
   ]
  },
  {
   "cell_type": "code",
   "execution_count": 43,
   "metadata": {
    "deletable": false,
    "editable": false,
    "nbgrader": {
     "cell_type": "code",
     "checksum": "9c7db446e5854fd7b38458f3edd0a5cb",
     "grade": true,
     "grade_id": "cell-71ee24b82f0184d1",
     "locked": true,
     "points": 1,
     "schema_version": 3,
     "solution": false,
     "task": false
    },
    "tags": []
   },
   "outputs": [],
   "source": [
    "# Test Cell: do not edit or delete!"
   ]
  },
  {
   "cell_type": "code",
   "execution_count": 44,
   "metadata": {
    "deletable": false,
    "editable": false,
    "nbgrader": {
     "cell_type": "code",
     "checksum": "2777be4369e29ed03151cc4fda6af242",
     "grade": true,
     "grade_id": "cell-1337f3676a9cff16",
     "locked": true,
     "points": 0.5,
     "schema_version": 3,
     "solution": false,
     "task": false
    },
    "tags": []
   },
   "outputs": [],
   "source": [
    "# Test Cell: do not edit or delete!"
   ]
  },
  {
   "cell_type": "markdown",
   "metadata": {
    "tags": []
   },
   "source": [
    "### Exercise 5: Comparing Architectures (0 points)\n",
    "\n",
    "Time to put everything together and compare the performance of the fully connected network and the convolutional network on a few samples from the MNIST dataset. Which architecture is better? Is this a fair experiment? What conclusions can be drawn?\n",
    "\n",
    "\n",
    "###### a) training\n",
    "\n",
    "> Train a fully connected and convolutional network on the MNIST datasets.\n",
    "> You can use the networks from the first two exercises.\n",
    "> Use the MNIST *test* data (10&nbsp;000 images) for training\n",
    "> and stochastic gradient descent *with momentum* as optimiser.\n",
    "> Train only for a few epochs (maximum 25) to keep running times short.\n",
    "\n",
    "**Hint:** Make sure to use the correct loss function."
   ]
  },
  {
   "cell_type": "code",
   "execution_count": 45,
   "metadata": {
    "deletable": false,
    "nbgrader": {
     "cell_type": "code",
     "checksum": "3b378381b6e738b31099be73c55a854b",
     "grade": true,
     "grade_id": "cell-cde50d476b27b655",
     "locked": false,
     "points": 0,
     "schema_version": 3,
     "solution": true,
     "task": false
    }
   },
   "outputs": [],
   "source": [
    "# %%time\n",
    "# YOUR CODE HERE\n",
    "# raise NotImplementedError()\n",
    "\n",
    "crossEntropy = nn.CrossEntropyLoss()"
   ]
  },
  {
   "cell_type": "code",
   "execution_count": 46,
   "metadata": {
    "deletable": false,
    "nbgrader": {
     "cell_type": "code",
     "checksum": "e60257d5455bd3900eceba7a4e1d8063",
     "grade": true,
     "grade_id": "cell-c066b8f9201ebf70",
     "locked": false,
     "points": 0,
     "schema_version": 3,
     "solution": true,
     "task": false
    },
    "tags": []
   },
   "outputs": [],
   "source": [
    "# %%time\n",
    "fc_net = nn.Sequential(nn.Flatten(), FCNetwork(784, 10))\n",
    "# conv_net = conv_net(torch.randn(1, 1, 28, 28))\n",
    "\n",
    "optimizer_fc = optim.SGD(fc_net.parameters(), lr=0.01, momentum=0.9)\n",
    "optimizer_conv = optim.SGD(conv_net.parameters(), lr=0.01, momentum=0.9)\n",
    "\n",
    "test_loader = get_mnist_loader('./data', test=True, batch_size=64, num_workers=4, shuffle=True)\n",
    "\n",
    "# Training loop\n",
    "epochs = 25\n",
    "fc_errors = []\n",
    "conv_errors = []\n",
    "\n",
    "for epoch in range(epochs):\n",
    "    # Train FC network\n",
    "    fc_epoch_errors = update(fc_net, test_loader, crossEntropy, optimizer_fc)\n",
    "    fc_errors.append(sum(fc_epoch_errors) / len(fc_epoch_errors))\n",
    "    \n",
    "    # Train ConvNet\n",
    "    conv_epoch_errors = update(conv_net, test_loader, crossEntropy, optimizer_conv)\n",
    "    conv_errors.append(sum(conv_epoch_errors) / len(conv_epoch_errors))"
   ]
  },
  {
   "cell_type": "code",
   "execution_count": 50,
   "metadata": {},
   "outputs": [
    {
     "data": {
      "image/png": "[encoded data removed]",
      "text/plain": [
       "<Figure size 1000x600 with 1 Axes>"
      ]
     },
     "metadata": {},
     "output_type": "display_data"
    }
   ],
   "source": [
    "# plot learning curves\n",
    "plt.figure(figsize=(10, 6))\n",
    "plt.title(\"Loss for the two example: CNN and FC\")\n",
    "plt.plot(fc_errors, label=\"FC Network\", color='red')\n",
    "plt.plot(conv_errors, label=\"ConvNet\", color='blue')\n",
    "plt.xlabel(\"Epoch\")\n",
    "plt.ylabel(\"Average Loss\")\n",
    "plt.legend()\n",
    "plt.show()"
   ]
  },
  {
   "cell_type": "markdown",
   "metadata": {},
   "source": [
    "###### b) evaluation\n",
    "\n",
    "> Compare the performance of both models using the MNIST *train* data (60&nbsp;000 images) as test dataset."
   ]
  },
  {
   "cell_type": "code",
   "execution_count": 49,
   "metadata": {
    "deletable": false,
    "nbgrader": {
     "cell_type": "code",
     "checksum": "3a018f414695b924038ee02fc1a766cd",
     "grade": true,
     "grade_id": "cell-3a728394febe89e3",
     "locked": false,
     "points": 0,
     "schema_version": 3,
     "solution": true,
     "task": false
    },
    "tags": []
   },
   "outputs": [
    {
     "name": "stdout",
     "output_type": "stream",
     "text": [
      "FC Network Average Accuracy: 95.04%\n",
      "ConvNet Average Accuracy: 95.05%\n"
     ]
    }
   ],
   "source": [
    "# YOUR CODE HERE\n",
    "# raise NotImplementedError()\n",
    "\n",
    "train_loader = get_mnist_loader('./data', test=False, batch_size=64, num_workers=4, shuffle=False)\n",
    "\n",
    "def calculate_accuracy(outputs, targets):\n",
    "    _, predicted = torch.max(outputs.data, 1)\n",
    "    total = targets.size(0)\n",
    "    correct = (predicted == targets).sum().item() \n",
    "    accuracy = correct / total\n",
    "    return torch.tensor(accuracy) \n",
    "\n",
    "# Evaluate FC Network\n",
    "fc_accuracy = evaluate(fc_net, train_loader, calculate_accuracy)\n",
    "\n",
    "# Evaluate ConvNet\n",
    "conv_accuracy = evaluate(conv_net, train_loader, calculate_accuracy)\n",
    "\n",
    "# Calculate average accuracies\n",
    "fc_avg_accuracy = sum(fc_accuracy) / len(fc_accuracy)\n",
    "conv_avg_accuracy = sum(conv_accuracy) / len(conv_accuracy)\n",
    "\n",
    "print(f\"FC Network Average Accuracy: {fc_avg_accuracy * 100:.2f}%\")\n",
    "print(f\"ConvNet Average Accuracy: {conv_avg_accuracy * 100:.2f}%\")\n"
   ]
  },
  {
   "cell_type": "code",
   "execution_count": null,
   "metadata": {},
   "outputs": [],
   "source": []
  }
 ],
 "metadata": {
  "kernelspec": {
   "display_name": "Python 3 (ipykernel)",
   "language": "python",
   "name": "python3"
  },
  "language_info": {
   "codemirror_mode": {
    "name": "ipython",
    "version": 3
   },
   "file_extension": ".py",
   "mimetype": "text/x-python",
   "name": "python",
   "nbconvert_exporter": "python",
   "pygments_lexer": "ipython3",
   "version": "3.10.13"
  },
  "pycharm": {
   "stem_cell": {
    "cell_type": "raw",
    "metadata": {
     "collapsed": false
    },
    "source": []
   }
  }
 },
 "nbformat": 4,
 "nbformat_minor": 4
}
