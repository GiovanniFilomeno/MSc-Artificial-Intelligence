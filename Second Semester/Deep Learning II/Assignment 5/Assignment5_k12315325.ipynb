{
 "cells": [
  {
   "cell_type": "raw",
   "metadata": {},
   "source": [
    "\n",
    "This material, no matter whether in printed or electronic form,\n",
    "may be used for personal and non-commercial educational use only.\n",
    "Any reproduction of this manuscript,\n",
    "no matter whether as a whole or in parts,\n",
    "no matter whether in printed or in electronic form,\n",
    "requires explicit prior acceptance of the authors.\n"
   ]
  },
  {
   "cell_type": "markdown",
   "metadata": {},
   "source": [
    "<!-- Assignment 6 - SS 2023 -->\n",
    "\n",
    "# Adversarial Training (15 points)"
   ]
  },
  {
   "cell_type": "markdown",
   "metadata": {},
   "source": [
    "This notebook contains one of the assignments for the exercises in Deep Learning and Neural Nets 2.\n",
    "It provides a skeleton, i.e. code with gaps, that will be filled out by you in different exercises.\n",
    "All exercise descriptions are visually annotated by a vertical bar on the left and some extra indentation,\n",
    "unless you already messed with your jupyter notebook configuration.\n",
    "Any questions that are not part of the exercise statement do not need to be answered,\n",
    "but should rather be interpreted as triggers to guide your thought process.\n",
    "\n",
    "**Note**: The cells in the introductory part (before the first subtitle)\n",
    "perform all necessary imports and provide utility functions that should work without (too much) problems.\n",
    "Please, do not alter this code or add extra import statements in your submission, unless explicitly allowed!\n",
    "\n",
    "<span style=\"color:#d95c4c\">**IMPORTANT:**</span> Please, change the name of your submission file so that it contains your student ID!"
   ]
  },
  {
   "cell_type": "markdown",
   "metadata": {},
   "source": [
    "In this assignment, we will play around with adversarial techniques in deep learning.\n",
    "The main goal is to build some understanding of *Generative Adversarial Networks* (GANs).\n",
    "However, we will also take a look at *adversarial training*,\n",
    "which is a collection of methods for fooling neural networks.\n",
    "Although both approaches are completely unrelated,\n",
    "it turns out that is possible to build GANs, starting from adversarial examples.\n"
   ]
  },
  {
   "cell_type": "code",
   "execution_count": 51,
   "metadata": {
    "pycharm": {
     "name": "#%%\n"
    }
   },
   "outputs": [
    {
     "name": "stdout",
     "output_type": "stream",
     "text": [
      "cpu\n"
     ]
    }
   ],
   "source": [
    "import os\n",
    "\n",
    "import torch\n",
    "from torch import nn\n",
    "from torch import optim\n",
    "from torch.utils.data import DataLoader, Dataset\n",
    "from torchvision import transforms\n",
    "from torchvision import datasets\n",
    "from PIL import Image\n",
    "\n",
    "torch.manual_seed(1806)\n",
    "torch.cuda.manual_seed(1806)\n",
    "device = 'cuda' if torch.cuda.is_available() else 'cpu'\n",
    "print(device)"
   ]
  },
  {
   "cell_type": "code",
   "execution_count": 52,
   "metadata": {
    "pycharm": {
     "name": "#%%\n"
    }
   },
   "outputs": [
    {
     "name": "stdout",
     "output_type": "stream",
     "text": [
      "~\\.pytorch\n"
     ]
    }
   ],
   "source": [
    "# google colab data management\n",
    "import os.path\n",
    "\n",
    "try:\n",
    "    from google.colab import drive\n",
    "    drive.mount('/content/gdrive')\n",
    "    _home = 'gdrive/MyDrive/'\n",
    "except ImportError:\n",
    "    _home = '~'\n",
    "finally:\n",
    "    data_root = os.path.join(_home, '.pytorch')\n",
    "\n",
    "print(data_root)"
   ]
  },
  {
   "cell_type": "code",
   "execution_count": 53,
   "metadata": {},
   "outputs": [],
   "source": [
    "class BaseTrainer:\n",
    "\n",
    "    def __init__(self,\n",
    "         model: nn.Module,\n",
    "         criterion: nn.Module,\n",
    "         optimiser: optim.Optimizer,\n",
    "    ):\n",
    "        \"\"\"\n",
    "        Parameters\n",
    "        ----------\n",
    "        model : torch.nn.Module\n",
    "            Neural Network that will be trained.\n",
    "        criterion : torch.nn.Module\n",
    "            Loss function to use for training.\n",
    "        optimiser : torch.optim.Optimizer\n",
    "            Optimisation strategy for training.\n",
    "        tracker : Tracker, optional\n",
    "            Tracker to keep track of training progress.\n",
    "        \"\"\"\n",
    "        self.model = model\n",
    "        self.criterion = criterion\n",
    "        self.optimiser = optimiser\n",
    "\n",
    "    def state_dict(self):\n",
    "        \"\"\" Current state of learning. \"\"\"\n",
    "        return {\n",
    "            \"model\": self.model.state_dict(),\n",
    "            \"objective\": self.criterion.state_dict(),\n",
    "            \"optimiser\": self.optimiser.state_dict(),\n",
    "        }\n",
    "    \n",
    "    def load_state_dict(self, state_dict: dict):\n",
    "        \"\"\" Restore learning state. \"\"\"\n",
    "        self.model.load_state_dict(state_dict[\"model\"])\n",
    "        self.criterion.load_state_dict(state_dict[\"objective\"])\n",
    "        self.optimiser.load_state_dict(state_dict[\"optimiser\"])\n",
    "\n",
    "    @property\n",
    "    def device(self):\n",
    "        \"\"\" Device of the (first) model parameters. \"\"\"\n",
    "        return next(self.model.parameters()).device\n",
    "\n",
    "    def _forward(self, data: DataLoader, metric: callable):\n",
    "        device = self.device\n",
    "        for x, y in data:\n",
    "            x, y = x.to(device), y.to(device)\n",
    "            outputs = self.model(x)\n",
    "            res = metric(outputs, y)\n",
    "            yield res\n",
    "\n",
    "    @torch.no_grad()\n",
    "    def evaluate(self, data: DataLoader, metric: callable) -> list:\n",
    "        self.model.eval()\n",
    "\n",
    "        results = self._forward(data, metric)\n",
    "        return [res.item() for res in results]\n",
    "\n",
    "\n",
    "    @torch.enable_grad()\n",
    "    def update(self, data: DataLoader) -> list:\n",
    "        opt = self.optimiser\n",
    "        self.model.train()\n",
    "\n",
    "        errs = []\n",
    "        for err in self._forward(data, self.criterion):\n",
    "            errs.append(err.item())\n",
    "\n",
    "            opt.zero_grad()\n",
    "            err.backward()\n",
    "            opt.step()\n",
    "\n",
    "        return errs\n",
    "    \n",
    "    @property\n",
    "    def fake_data(self):\n",
    "        return None\n",
    "        \n",
    "    \n",
    "    def _display_results(self, count: int = 10):\n",
    "        \"\"\"\n",
    "        Display generated images.\n",
    "\n",
    "        Parameters\n",
    "        ----------\n",
    "        count : int, optional\n",
    "            Number of images to display.\n",
    "        \"\"\"\n",
    "        fake_data = self.fake_data\n",
    "        if fake_data is None:\n",
    "            return\n",
    "        \n",
    "        x = fake_data[:count].to(self.device)\n",
    "        ps = self.model.probabilities(x).view(-1).tolist()\n",
    "        print(\"D probs:\", ', '.join([f\"{p:.2f}\" for p in ps]))\n",
    "\n",
    "        im = data_to_image(*x.cpu(), means=(.1307, ), stds=(.3081, ))\n",
    "        display(im, metadata={'width': '100%'})\n",
    "\n",
    "\n",
    "    def train(self, loader: DataLoader, num_epochs: int = 10, vis_every: int = 5):\n",
    "        \"\"\"\n",
    "        Train an auto-encoder for a number of epochs.\n",
    "\n",
    "        Parameters\n",
    "        ----------\n",
    "        loader : DataLoader\n",
    "            A data loader for iterating over batches of the data.\n",
    "        num_epochs : int, optional\n",
    "            Number of times to iterate the dataset.\n",
    "        vis_every : int, optional\n",
    "            Frequency, during training, of \n",
    "            intermediate visualisation of faked samples.\n",
    "        \"\"\"\n",
    "        # evaluate random performance\n",
    "        errs = self.evaluate(loader, self.criterion)\n",
    "        print(f\"Epoch {0: 2d} - avg loss: {sum(errs) / len(errs):.6f}\")\n",
    "        self._display_results()\n",
    "\n",
    "        # train for some epochs\n",
    "        for epoch in range(1, num_epochs + 1):\n",
    "            errs = self.update(loader)\n",
    "            print(f\"Epoch {epoch: 2d} - avg loss: {sum(errs) / len(errs):.6f}\")\n",
    "\n",
    "            if epoch % vis_every == 0:\n",
    "                self._display_results()\n",
    "        \n",
    "        return errs"
   ]
  },
  {
   "cell_type": "code",
   "execution_count": 54,
   "metadata": {},
   "outputs": [],
   "source": [
    "@torch.no_grad()\n",
    "def accuracy(logits, targets):\n",
    "    \"\"\"\n",
    "    Compute the accuracy for given logits and targets.\n",
    "    \n",
    "    Parameters\n",
    "    ----------\n",
    "    logits : (N, K) torch.Tensor\n",
    "        A mini-batch of logit vectors from the network.\n",
    "    targets : (N, ) torch.Tensor\n",
    "        A mini_batch of target scalars representing the labels.\n",
    "        \n",
    "    Returns\n",
    "    -------\n",
    "    acc : () torch.Tensor\n",
    "        The accuracy over the mini-batch of samples.\n",
    "    \"\"\"\n",
    "    correct = torch.argmax(logits, dim=-1) == targets\n",
    "    acc = torch.mean(correct.float())\n",
    "    return acc"
   ]
  },
  {
   "cell_type": "code",
   "execution_count": 55,
   "metadata": {},
   "outputs": [],
   "source": [
    "def data_to_image(*data: torch.Tensor,\n",
    "                  means: tuple = (0, ), stds: tuple = (1., )) -> Image:\n",
    "    \"\"\"\n",
    "    Convert multiple tensors to one big image.\n",
    "\n",
    "    Parameters\n",
    "    ----------\n",
    "    data0, data1, ... dataN : torch.Tensor\n",
    "        One or more tensors to be merged into a single image.\n",
    "    means : tuple or torch.Tensor, optional\n",
    "        Original mean of the image before normalisation.\n",
    "    stds : tuple or torch.Tensor, optional\n",
    "        Original standard deviation of the image before normalisation.\n",
    "\n",
    "    Returns\n",
    "    -------\n",
    "    image : Image\n",
    "        PIL image with all of the tensors next to each other.\n",
    "    \"\"\"\n",
    "    # concatenate all data\n",
    "    big_pic = torch.cat([x for x in data], dim=-1)\n",
    "\n",
    "    means = torch.tensor(means)\n",
    "    stds = torch.tensor(stds)\n",
    "    to_image = transforms.Compose([\n",
    "        # inverts normalisation of image\n",
    "        transforms.Normalize(-means / stds, 1. / stds),\n",
    "        transforms.Lambda(lambda x: torch.clamp(x, 0, 1)),\n",
    "        transforms.ToPILImage()\n",
    "    ])\n",
    "\n",
    "    return to_image(big_pic)\n",
    "\n",
    "def display_fakes(discriminator: nn.Module, fake_data: torch.Tensor,\n",
    "                  count: int = 10):\n",
    "    \"\"\"\n",
    "    Display the images that are fed as fakes to a discriminator.\n",
    "\n",
    "    Parameters\n",
    "    ----------\n",
    "    discriminator : nn.Module\n",
    "        The discriminator that is to be fooled by the fakes.\n",
    "    fake_data : (N, C, H, W) torch.Tensor\n",
    "        The fake images to display.\n",
    "    count : int, optional\n",
    "        Number of samples to display from `fake_data`.\n",
    "    \"\"\"\n",
    "    device = next(discriminator.parameters()).device\n",
    "    x = fake_data[:count].to(device)\n",
    "    ps = discriminator.probabilities(x).view(-1).tolist()\n",
    "    print(\"D probs:\", ', '.join([f\"{p:.2f}\" for p in ps]))\n",
    "    \n",
    "    im = data_to_image(*x.cpu(), means=(.1307, ), stds=(.3081, ))\n",
    "    display(im, metadata={'width': '100%'})"
   ]
  },
  {
   "cell_type": "code",
   "execution_count": 56,
   "metadata": {
    "pycharm": {
     "name": "#%%\n"
    }
   },
   "outputs": [],
   "source": [
    "def evaluate_attack(attack: callable, network: nn.Module, data: DataLoader,\n",
    "                    loss_func: nn.Module, vis_count: int = 8, **kwargs):\n",
    "    \"\"\"\n",
    "    Evaluate an adversarial attack on some data.\n",
    "\n",
    "    Parameters\n",
    "    ----------\n",
    "    attack : callable\n",
    "        Function that computes the adversarial example.\n",
    "        Will be called as `attack(x, y, network, loss_func, **kwargs).\n",
    "    network : nn.Module\n",
    "        The network to attack.\n",
    "    data : DataLoader\n",
    "        Data for the attack.\n",
    "    loss_func : nn.Module\n",
    "        Objective for the attack.\n",
    "    vis_count : int, optional\n",
    "        Number of adversarial examples to visualise.\n",
    "    kwargs\n",
    "        Keyword arguments for the attack function.\n",
    "    \"\"\"\n",
    "    dev = next(network.parameters()).device\n",
    "    network.eval()\n",
    "\n",
    "    accuracies = []\n",
    "    for x, y in data:\n",
    "        x, y = x.to(dev), y.to(dev)\n",
    "        adv_x = attack(x, y, network, loss_func, **kwargs)\n",
    "        adv_x = adv_x.clamp(x.min(), x.max())  # put in valid range\n",
    "\n",
    "        # compute accuracy on adversarial examples\n",
    "        with torch.no_grad():\n",
    "            logits = network(adv_x)\n",
    "            acc = accuracy(logits, y)\n",
    "            accuracies.append(acc.item())\n",
    "\n",
    "    print(f\"Adversarial accuracy: {100 * accuracies[0]:.2f}%\")\n",
    "\n",
    "    # collect relevant data\n",
    "    x_ref, y_ref = x[:vis_count], y[:vis_count]\n",
    "    x_adv, y_adv = adv_x[:vis_count], logits[:vis_count].argmax(-1)\n",
    "    with torch.no_grad():\n",
    "        y_pred = network(x_ref).argmax(-1)\n",
    "    \n",
    "    # visualise adversaries\n",
    "    ref_im = data_to_image(*x_ref.cpu(), means=(.1307, ), stds=(.3081, ))\n",
    "    display(ref_im, metadata={'width': '100%'})\n",
    "    print(\"ground truth: \", y_ref.tolist())\n",
    "    print(\"before attack:\", y_pred.tolist())\n",
    "    print(\"after attack: \", y_adv.tolist())\n",
    "    adv_im = data_to_image(*x_adv.cpu(), means=(.1307, ), stds=(.3081, ))\n",
    "    display(adv_im, metadata={'width': '100%'})"
   ]
  },
  {
   "cell_type": "code",
   "execution_count": 57,
   "metadata": {},
   "outputs": [],
   "source": [
    "class DiscriminatorTrainer(BaseTrainer):\n",
    "    \n",
    "    def __init__(self, model, criterion, optimiser,\n",
    "                 dataset: \"RealOrFakeDataset\", epsilon: float = 0.1):\n",
    "        \"\"\"\n",
    "        Parameters\n",
    "        ----------\n",
    "        dataset : RealOrFakeDataset\n",
    "            The dataset that will be used to train the discriminator.\n",
    "        epsilon: float, optional\n",
    "            The maximum allowed perturbation for the adversarial attacks.\n",
    "        \"\"\"\n",
    "        super().__init__(model, criterion, optimiser)\n",
    "        self.dataset = dataset\n",
    "        self.epsilon = epsilon\n",
    "    \n",
    "    @property\n",
    "    def fake_data(self):\n",
    "        return self.dataset.fake_data\n",
    "    \n",
    "    def update(self, data: DataLoader) -> list:\n",
    "        results = super().update(data)\n",
    "        self.dataset.update_fake_examples(self.model, self.criterion, self.epsilon)\n",
    "        return results\n",
    "        \n",
    "\n",
    "def train_gan(gan: nn.Module, loader: DataLoader, objective: nn.Module, \n",
    "              optimiser: optim.Optimizer, num_epochs: int = 10, vis_every: int = 5):\n",
    "    \"\"\"\n",
    "    Train a GAN for a number of epochs.\n",
    "    \n",
    "    Parameters\n",
    "    ----------\n",
    "    gan : nn.Module\n",
    "        The GAN to train\n",
    "    loader : DataLoader\n",
    "        A data loader for iterating over batches of the data.\n",
    "        This can be a standard, \"supervised\" dataloader.\n",
    "    objective : nn.Module\n",
    "        The loss function to optimise during training.\n",
    "    optimiser : optim.Optimizer\n",
    "        The optimiser to use for training.\n",
    "    num_epochs : int, optional\n",
    "        Number of times to iterate the dataset.\n",
    "    vis_every : int, optional\n",
    "        Frequency, during training, of \n",
    "        intermediate visualisation of fake samples.\n",
    "        \n",
    "    \"\"\"\n",
    "    g_errs, d_errs = [], []\n",
    "    for x, _ in loader:\n",
    "        x = x.to(device)\n",
    "        g_errs.append(generator_error(gan, x, objective).item())\n",
    "        d_errs.append(discriminator_error(gan, x, objective).item())\n",
    "    loss_report = ', '.join([\n",
    "        f\"avg G loss: {sum(g_errs) / len(g_errs):.5f}\",\n",
    "        f\"avg D loss: {sum(d_errs) / len(d_errs):.5f}\"\n",
    "    ])\n",
    "    print(f'Epoch {0: 2d}', loss_report, sep=' - ')\n",
    "    fake_data = gan.generator.generate(batch_size=10)\n",
    "    display_fakes(gan.discriminator, fake_data)\n",
    "    \n",
    "    for epoch in range(1, num_epochs + 1):\n",
    "        g_errs, d_errs = update_gan(gan, loader, objective, optimiser)\n",
    "        loss_report = ', '.join([\n",
    "            f\"avg G loss: {sum(g_errs) / len(g_errs):.5f}\",\n",
    "            f\"avg D loss: {sum(d_errs) / len(d_errs):.5f}\"\n",
    "        ])\n",
    "        print(f'Epoch {epoch: 2d}', loss_report, sep=' - ')\n",
    "        if epoch % vis_every == 0:\n",
    "            fake_data = gan.generator.generate(batch_size=10)\n",
    "            display_fakes(gan.discriminator, fake_data)"
   ]
  },
  {
   "cell_type": "markdown",
   "metadata": {},
   "source": [
    "## Adversarial Examples"
   ]
  },
  {
   "cell_type": "code",
   "execution_count": 58,
   "metadata": {},
   "outputs": [],
   "source": [
    "# set up training (nothing to do here)\n",
    "\n",
    "pre_processing = transforms.Compose([\n",
    "    transforms.ToTensor(),\n",
    "    transforms.Normalize((.1307, ), (.3081, ))\n",
    "])\n",
    "mnist_train = datasets.MNIST(data_root, transform=pre_processing)\n",
    "train_loader = DataLoader(mnist_train, shuffle=True, batch_size=128, num_workers=4)\n",
    "\n",
    "mnist_net = nn.Sequential(\n",
    "    nn.Conv2d(1, 8, 4, stride=2),\n",
    "    nn.ELU(),\n",
    "    nn.Conv2d(8, 32, 3, stride=2),\n",
    "    nn.ELU(),\n",
    "    nn.Conv2d(32, 64, 6),\n",
    "    nn.ELU(),\n",
    "    nn.Flatten(),\n",
    "    nn.Linear(64, 10)\n",
    ").to(device)\n",
    "\n",
    "trainer = BaseTrainer(\n",
    "    model=mnist_net,\n",
    "    criterion=nn.CrossEntropyLoss(),\n",
    "    optimiser=optim.SGD(mnist_net.parameters(), lr=1e-2, momentum=.9)\n",
    ")"
   ]
  },
  {
   "cell_type": "code",
   "execution_count": 59,
   "metadata": {
    "tags": [
     "skip-execution"
    ]
   },
   "outputs": [
    {
     "name": "stdout",
     "output_type": "stream",
     "text": [
      "Epoch  0 - avg loss: 2.310794\n",
      "Epoch  1 - avg loss: 0.356059\n",
      "Epoch  2 - avg loss: 0.112316\n",
      "Epoch  3 - avg loss: 0.074124\n",
      "Epoch  4 - avg loss: 0.056325\n",
      "Epoch  5 - avg loss: 0.046636\n",
      "Epoch  6 - avg loss: 0.036963\n",
      "Epoch  7 - avg loss: 0.030945\n",
      "Epoch  8 - avg loss: 0.025034\n",
      "Epoch  9 - avg loss: 0.020623\n",
      "Epoch  10 - avg loss: 0.018712\n",
      "Epoch  11 - avg loss: 0.015201\n",
      "Epoch  12 - avg loss: 0.013424\n",
      "Epoch  13 - avg loss: 0.010467\n",
      "Epoch  14 - avg loss: 0.008822\n",
      "Epoch  15 - avg loss: 0.007537\n",
      "Epoch  16 - avg loss: 0.007254\n",
      "Epoch  17 - avg loss: 0.005839\n",
      "Epoch  18 - avg loss: 0.004752\n",
      "Epoch  19 - avg loss: 0.003479\n",
      "Epoch  20 - avg loss: 0.002577\n",
      "Train accuracy: 99.76%\n",
      "\n",
      "CPU times: total: 21min 1s\n",
      "Wall time: 5min 45s\n"
     ]
    }
   ],
   "source": [
    "%%time\n",
    "\n",
    "# train MNIST classifier\n",
    "errs = trainer.train(train_loader, num_epochs=20)\n",
    "errs = trainer.evaluate(train_loader, accuracy)\n",
    "print(f\"Train accuracy: {100 * sum(errs) / len(errs):.2f}%\")\n",
    "torch.save(trainer.state_dict(), \"mnist_net.pt\")  # for testing\n",
    "print()"
   ]
  },
  {
   "cell_type": "code",
   "execution_count": 60,
   "metadata": {},
   "outputs": [
    {
     "name": "stdout",
     "output_type": "stream",
     "text": [
      "Eval loss: 0.06838\n",
      "Eval accuracy: 98.39%\n"
     ]
    }
   ],
   "source": [
    "# test MNIST classifier\n",
    "trainer.load_state_dict(torch.load(\"mnist_net.pt\"))  # for testing\n",
    "mnist_test = datasets.MNIST(data_root, train=False, transform=pre_processing)\n",
    "test_loader = DataLoader(mnist_test, batch_size=len(mnist_test), num_workers=4)\n",
    "errs = trainer.evaluate(test_loader, trainer.criterion)\n",
    "print(f\"Eval loss: {errs[0]:.5f}\")\n",
    "errs = trainer.evaluate(test_loader, accuracy)\n",
    "print(f\"Eval accuracy: {100 * errs[0]:.2f}%\")"
   ]
  },
  {
   "cell_type": "markdown",
   "metadata": {},
   "source": [
    "It has become extremely easy to get good models for plenty of tasks.\n",
    "It only takes a few lines of code and a handful of minutes\n",
    "to get a model that is able to recognise handwritten digits.\n",
    "This does not mean, however, that the network *understands* these images.\n",
    "It turns out that even the best models can easily be fooled\n",
    "by creating what is known as *adversarial examples*."
   ]
  },
  {
   "cell_type": "markdown",
   "metadata": {},
   "source": [
    "There are mainly two ways to make a strong network look stupid:\n",
    " 1. Change existing images until the network mis-classifies them,\n",
    " 2. Make predictions on random noise (out-of-distribution images).\n",
    "\n",
    "The first approach is an active topic in Machine Learning research.\n",
    "The main goal is to find the smallest possible perturbations\n",
    "that are required to make the network misclassify its inputs.\n",
    "\n",
    "The second approach can be considered silly because in most cases, \n",
    "a network is simply not able to express that it has no idea what to predict.\n",
    "Nevertheless, this can make systems that rely on neural networks vulnerable.\n",
    "E.g. face recognition software being fooled by carefully constructed noise."
   ]
  },
  {
   "cell_type": "markdown",
   "metadata": {},
   "source": [
    "### Exercise 1: Projected Gradient Ascent (5 points)\n",
    "\n",
    "One of the easiest ways to construct an adversarial example\n",
    "is to maximise the loss by using gradient ascent on the inputs.\n",
    "After all, the parameters of a neural network are also the result\n",
    "of a gradient descent that minises the loss function.\n",
    "\n",
    "In order to keep the perturbations to the original image small,\n",
    "a constraint is added to the gradient ascent for adversarial examples:\n",
    "the adversarial example must lie in an epsilon-ball around the original input.\n",
    "This procedure is also known as *projected gradient ascent*.\n",
    "\n",
    " > Implement the `adversarial_attack` function below\n",
    " > so that it implements projected gradient ascent as described above.\n",
    " > To speed up the process of finding adversarial examples,\n",
    " > you can use the sign of the gradients instead of the pure gradients.\n",
    " > Make sure not to return the computational graph!\n",
    " \n",
    "**Hint:** If you are having problems with gradient errors, your computations might involve an unwanted gradient flow."
   ]
  },
  {
   "cell_type": "code",
   "execution_count": 61,
   "metadata": {
    "deletable": false,
    "nbgrader": {
     "cell_type": "code",
     "checksum": "5e4875cea3c0effa25c0e2d13879171e",
     "grade": false,
     "grade_id": "cell-965f642deb344c0e",
     "locked": false,
     "schema_version": 3,
     "solution": true,
     "task": false
    },
    "tags": []
   },
   "outputs": [],
   "source": [
    "def adversarial_attack(x: torch.Tensor, y: torch.Tensor,\n",
    "                       network: nn.Module, loss_func: nn.Module,\n",
    "                       epsilon: float = .1, eta: float = .1, steps: int = 10):\n",
    "    \"\"\"\n",
    "    Compute an adversarial example for a network from a given input.\n",
    "\n",
    "    Parameters\n",
    "    ----------\n",
    "    x : torch.Tensor\n",
    "        The reference input for the network.\n",
    "    y : torch.Tensor\n",
    "        The label for the reference input.\n",
    "    network : nn.Module\n",
    "        The network to compute the adversary for.\n",
    "    loss_func : nn.Module\n",
    "        The loss function the network was trained with.\n",
    "    epsilon : float, optional\n",
    "        The radius of the ball to keep the adversary within.\n",
    "    eta : float, optional\n",
    "        The step size to use for computing the adversary.\n",
    "    steps : int, optional\n",
    "        The number of gradient steps to take.\n",
    "\n",
    "    Returns\n",
    "    -------\n",
    "    adversary : torch.Tensor\n",
    "        The adversarial example (`x + perturbation`).\n",
    "    \"\"\"\n",
    "    # YOUR CODE HERE\n",
    "    # raise NotImplementedError()\n",
    "\n",
    "    x_adv = x.clone().detach().requires_grad_(True) # copy of the input that will be modified\n",
    "\n",
    "    for _ in range (steps):\n",
    "        network.zero_grad() # Zero all existing gradients\n",
    "        logits = network(x_adv)\n",
    "        loss = loss_func(logits, y) # compute loss\n",
    "\n",
    "        loss.backward() # compute gradients wrt input\n",
    "\n",
    "        with torch.no_grad():\n",
    "            x_adv += eta * x_adv.grad.sign() # update of the adversarial example using signed gradient\n",
    "            perturbation = torch.clamp(x_adv - x, min=-epsilon, max=epsilon) # ensure perturbation is still in the epsilon range\n",
    "            x_adv = torch.clamp(x + perturbation, min=0, max=1)\n",
    "\n",
    "        x_adv = x_adv.detach().requires_grad_(True) # detach gradient for next iteration\n",
    "\n",
    "\n",
    "    return x_adv.detach()\n",
    "\n"
   ]
  },
  {
   "cell_type": "code",
   "execution_count": 62,
   "metadata": {
    "deletable": false,
    "editable": false,
    "nbgrader": {
     "cell_type": "code",
     "checksum": "441db99b2bc543eef4c7d63d7134ad28",
     "grade": true,
     "grade_id": "cell-b2294c61854a4e20",
     "locked": true,
     "points": 1,
     "schema_version": 3,
     "solution": false,
     "task": false
    },
    "tags": []
   },
   "outputs": [],
   "source": [
    "# Test Cell: do not edit or delete!\n",
    "x = torch.ones(1, 1, 28, 28).to(trainer.device)\n",
    "y = torch.zeros(1, dtype=torch.long).to(trainer.device)\n",
    "x_adv = adversarial_attack(x, y, trainer.model, trainer.criterion, epsilon=0.1)\n",
    "assert x.shape == x_adv.shape, (\n",
    "    \"ex1: adversarial_attack produces outputs with incorrect shape (-1 point)\"\n",
    ")\n",
    "assert torch.abs(x - x_adv).max() <= 0.1 + 1e-5, (\n",
    "    \"ex1: adversarial_attack produces outputs outside of epsilon ball (-1 point)\"\n",
    ")"
   ]
  },
  {
   "cell_type": "code",
   "execution_count": 63,
   "metadata": {
    "deletable": false,
    "editable": false,
    "nbgrader": {
     "cell_type": "code",
     "checksum": "4cd1d61c89779f8b09f0612e31cf73ae",
     "grade": true,
     "grade_id": "cell-3d16cb2776fe164b",
     "locked": true,
     "points": 1,
     "schema_version": 3,
     "solution": false,
     "task": false
    },
    "tags": []
   },
   "outputs": [],
   "source": [
    "# Test Cell: do not edit or delete!\n",
    "assert trainer.model(x_adv)[:, y] < trainer.model(x)[:, y], (\n",
    "    \"ex1: adversarial_attack produces outputs with better results (-1 point)\"\n",
    ")"
   ]
  },
  {
   "cell_type": "code",
   "execution_count": 64,
   "metadata": {
    "deletable": false,
    "editable": false,
    "nbgrader": {
     "cell_type": "code",
     "checksum": "88e7fec87ada2e20a569413e8b9c6112",
     "grade": true,
     "grade_id": "cell-29b9974ce8f26df7",
     "locked": true,
     "points": 1,
     "schema_version": 3,
     "solution": false,
     "task": false
    },
    "tags": []
   },
   "outputs": [],
   "source": [
    "# Test Cell: do not edit or delete!\n",
    "assert len(torch.abs(x - x_adv).unique()) <= 5, (\n",
    "    \"ex1: adversarial_attack does not seem to change pixels fast enough (-1 point)\"\n",
    ")"
   ]
  },
  {
   "cell_type": "code",
   "execution_count": 65,
   "metadata": {
    "deletable": false,
    "editable": false,
    "nbgrader": {
     "cell_type": "code",
     "checksum": "1e6cc9a4a4ed72353da8bf95bb887d55",
     "grade": true,
     "grade_id": "cell-aa15d48e912f0412",
     "locked": true,
     "points": 0.5,
     "schema_version": 3,
     "solution": false,
     "task": false
    },
    "tags": []
   },
   "outputs": [],
   "source": [
    "# Test Cell: do not edit or delete!"
   ]
  },
  {
   "cell_type": "code",
   "execution_count": 66,
   "metadata": {
    "deletable": false,
    "editable": false,
    "nbgrader": {
     "cell_type": "code",
     "checksum": "be054fb04a5577496c49d9252760b061",
     "grade": true,
     "grade_id": "cell-716c91d9770e9a69",
     "locked": true,
     "points": 1,
     "schema_version": 3,
     "solution": false,
     "task": false
    },
    "tags": []
   },
   "outputs": [],
   "source": [
    "# Test Cell: do not edit or delete!"
   ]
  },
  {
   "cell_type": "code",
   "execution_count": 67,
   "metadata": {
    "deletable": false,
    "editable": false,
    "nbgrader": {
     "cell_type": "code",
     "checksum": "5436cd4ec92441f3482e413c7f584253",
     "grade": true,
     "grade_id": "cell-e0c65e7521b2c796",
     "locked": true,
     "points": 0.5,
     "schema_version": 3,
     "solution": false,
     "task": false
    },
    "tags": []
   },
   "outputs": [],
   "source": [
    "# Test Cell: do not edit or delete!"
   ]
  },
  {
   "cell_type": "code",
   "execution_count": 68,
   "metadata": {
    "tags": []
   },
   "outputs": [
    {
     "name": "stdout",
     "output_type": "stream",
     "text": [
      "Adversarial accuracy: 79.02%\n"
     ]
    },
    {
     "data": {
      "image/jpeg": "[encoded data removed]",
      "image/png": "[encoded data removed]",
      "text/plain": [
       "<PIL.Image.Image image mode=L size=224x28>"
      ]
     },
     "metadata": {
      "width": "100%"
     },
     "output_type": "display_data"
    },
    {
     "name": "stdout",
     "output_type": "stream",
     "text": [
      "ground truth:  [7, 2, 1, 0, 4, 1, 4, 9]\n",
      "before attack: [7, 2, 1, 0, 4, 1, 4, 9]\n",
      "after attack:  [7, 2, 8, 0, 9, 8, 8, 9]\n"
     ]
    },
    {
     "data": {
      "image/jpeg": "[encoded data removed]",
      "image/png": "[encoded data removed]",
      "text/plain": [
       "<PIL.Image.Image image mode=L size=224x28>"
      ]
     },
     "metadata": {
      "width": "100%"
     },
     "output_type": "display_data"
    }
   ],
   "source": [
    "# sanity check\n",
    "trainer.model.requires_grad_(False)  # disable parameter gradients\n",
    "evaluate_attack(adversarial_attack, trainer.model, test_loader, trainer.criterion, epsilon=.3)"
   ]
  },
  {
   "cell_type": "markdown",
   "metadata": {
    "pycharm": {
     "name": "#%% md\n"
    }
   },
   "source": [
    "## Fooling a Dummy Network\n",
    "\n",
    "Adversarial examples are considered an analysis tool\n",
    "that can help to gain insights in how neural networks behave.\n",
    "However, when pushing these methods, it turns out that\n",
    "adversarial examples can actually also be used to generate new images.\n",
    "The key point to getting useful images, is to attack the right model.\n",
    "\n",
    "Consider the task of predicting whether an input is *real* or *fake*.\n",
    "A *real* sample would be defined as an input that comes from the dataset,\n",
    "whereas a *fake* example is an input that does not appear in the dataset.\n",
    "It should be relatively easy to build a binary classification model for this task.\n",
    "Let us denote this model as a *discriminator*,\n",
    "since it discriminates between *real* and *fake* images.\n",
    "\n",
    "By using an adversarial attack on this model \n",
    "*fake* inputs can be altered to look more like *real* samples."
   ]
  },
  {
   "cell_type": "code",
   "execution_count": 69,
   "metadata": {},
   "outputs": [],
   "source": [
    "class Discriminator(nn.Module):\n",
    "    \"\"\" Network for deciding whether a MNIST image is real or fake. \"\"\"\n",
    "    \n",
    "    def __init__(self):\n",
    "        super().__init__()\n",
    "        self.model = nn.Sequential(\n",
    "            nn.Conv2d(1, 8, 4, stride=2),\n",
    "            nn.ELU(),\n",
    "            nn.Conv2d(8, 32, 3, stride=2),\n",
    "            nn.ELU(),\n",
    "            # (old-school) global average pooling\n",
    "            nn.Conv2d(32, 64, 6),\n",
    "            nn.ELU(),\n",
    "            nn.Flatten(),\n",
    "            nn.Linear(64, 1)\n",
    "        )\n",
    "    \n",
    "    def forward(self, x):\n",
    "        return self.model(x)\n",
    "    \n",
    "    @torch.no_grad()\n",
    "    def probabilities(self, x):\n",
    "        \"\"\"\n",
    "        Compute probability of inputs being real.\n",
    "\n",
    "        Parameters\n",
    "        ----------\n",
    "        x : torch.Tensor\n",
    "            The inputs to compute the probabilities for.\n",
    "\n",
    "        Returns\n",
    "        -------\n",
    "        p : torch.Tensor\n",
    "            Values between 0 (fake) and 1 (real).\n",
    "\n",
    "        Notes\n",
    "        -----\n",
    "        Gradient computations are disabled.\n",
    "        \"\"\"\n",
    "        logits = self.model(x)\n",
    "        return torch.sigmoid(logits)\n",
    "    \n",
    "    @torch.no_grad()\n",
    "    def predict(self, x):\n",
    "        \"\"\"\n",
    "        Make a hard prediction on fake or real.\n",
    "\n",
    "        Parameters\n",
    "        ----------\n",
    "        x : torch.Tensor\n",
    "            The inputs to compute the prediction for.\n",
    "\n",
    "        Returns\n",
    "        -------\n",
    "        y : torch.Tensor\n",
    "            Either 0 (fake) or 1 (real).\n",
    "\n",
    "        Notes\n",
    "        -----\n",
    "        Gradient computations are disabled.\n",
    "        \"\"\"\n",
    "        logits = self.model(x)\n",
    "        return (logits > 0).int()"
   ]
  },
  {
   "cell_type": "markdown",
   "metadata": {
    "pycharm": {
     "name": "#%% md\n"
    }
   },
   "source": [
    "###### Paradox of the Discriminator\n",
    "\n",
    "If we compute adversarial examples for the discriminator,\n",
    "we can only get more *fake* inputs,\n",
    "since the adversaries are not part of the dataset.\n",
    "Now, a successful adversary of a *real* input,\n",
    "should be classified as a *fake*, and vice versa.\n",
    "Note that successful adversaries of *real* inputs \n",
    "will be **correctly** classified as *fake*.\n",
    "Hence, the obtained example would not really be adversarial.\n",
    "Therefore, the only truly adversarial examples for this model\n",
    "are *fake* inputs that are converted to be recongised as *real*."
   ]
  },
  {
   "cell_type": "markdown",
   "metadata": {},
   "source": [
    "### Exercise 2: Discriminator Data (3 points)\n",
    "\n",
    "Training a model that is able to discriminate between *real* and *fake*,\n",
    "is not entirely straightforward.\n",
    "The main problem is to obtain a reasonable dataset \n",
    "that represents both classes equally well.\n",
    "\n",
    "One solution is to use random noise for the *fake* inputs.\n",
    "However, this often makes things too easy\n",
    "and will not produce a particularly strong model.\n",
    "To counter this issue, we can use an adversarial attack \n",
    "to make the *fake* inputs appear more real\n",
    "after every epoch of discriminator training.\n",
    "This turns out to produce a reasonable discriminator\n",
    "as well as reasonably good *fake* inputs.\n",
    "\n",
    " > Implement the `update_fake_examples` method of the `RealOrFakeDataset`\n",
    " > to implement the approach described above.\n",
    " > Make sure to keep the adversarial examples in a valid range!\n",
    " \n",
    "**Hint:** You can use the `adversarial_attack` function from the previous exercise to compute adversarial examples."
   ]
  },
  {
   "cell_type": "code",
   "execution_count": 70,
   "metadata": {
    "deletable": false,
    "nbgrader": {
     "cell_type": "code",
     "checksum": "dc04760cd8b799a28621276ee9af3b72",
     "grade": false,
     "grade_id": "cell-0dc5e70d199f26f7",
     "locked": false,
     "schema_version": 3,
     "solution": true,
     "task": false
    },
    "tags": []
   },
   "outputs": [],
   "source": [
    "class RealOrFakeDataset(Dataset):\n",
    "    \"\"\" Dataset for enhancing a (small) dataset with fake inputs. \"\"\"\n",
    "    \n",
    "    def __init__(self, real_dataset, seed: int = None):\n",
    "        super().__init__()\n",
    "        self.ref_dataset = real_dataset\n",
    "        \n",
    "        # control randomness\n",
    "        rng = torch.Generator()\n",
    "        if seed is not None:\n",
    "            rng.manual_seed(seed)\n",
    "        \n",
    "        # get real, pre-processed data\n",
    "        real_data = torch.stack([x for x, _ in real_dataset])\n",
    "        mean, std = real_data.mean(), real_data.std()\n",
    "        min_x, max_x = real_data.min(), real_data.max()\n",
    "        self.min_x, self.max_x = min_x, max_x\n",
    "        # generate fake data (with similar statistics)\n",
    "        self.fake_data = torch.empty_like(real_data)\n",
    "        self.fake_data.normal_(mean, std, generator=rng).clamp_(min_x, max_x)\n",
    "    \n",
    "    def __getitem__(self, index):\n",
    "        new_index = index - len(self.ref_dataset)\n",
    "        if new_index < 0:\n",
    "            x, _ = self.ref_dataset[index]\n",
    "            return x, torch.ones(1)\n",
    "        \n",
    "        return self.fake_data[new_index], torch.zeros(1)\n",
    "    \n",
    "    def __len__(self):\n",
    "        return len(self.ref_dataset) + len(self.fake_data)\n",
    "    \n",
    "    @property\n",
    "    def raw_folder(self):\n",
    "        return os.path.join(self.root, 'MNIST', 'raw')\n",
    "\n",
    "    @property\n",
    "    def processed_folder(self):\n",
    "        return os.path.join(self.root, 'MNIST', 'processed')\n",
    "    \n",
    "    def update_fake_examples(self, network: nn.Module, loss_func: nn.Module,\n",
    "                             epsilon: float = .1):\n",
    "        \"\"\"\n",
    "        Update the fake examples of this dataset.\n",
    "\n",
    "        The fake examples are updated by computing adversarial examples\n",
    "        for the network that is trained with the data from this dataset.\n",
    "\n",
    "        Parameters\n",
    "        ----------\n",
    "        network : nn.Module\n",
    "            Network to use for computing adversarial examples.\n",
    "        loss_func : nn.Module\n",
    "            Loss function to use for computing adversarial examples.\n",
    "        epsilon : float, optional\n",
    "            Epsilon parameter for the adversarial attack.\n",
    "\n",
    "        Notes\n",
    "        -----\n",
    "        This method overwrites the fake samples.\n",
    "        It should not be necessary to create a new dataset\n",
    "        or set up a new data loader.\n",
    "        \"\"\"\n",
    "        device = next(network.parameters()).device\n",
    "        # YOUR CODE HERE\n",
    "        # raise NotImplementedError()\n",
    "\n",
    "        network.eval() # set the network to evaluation mode\n",
    "\n",
    "        # create fake label\n",
    "        y_fake = torch.zeros((1, 1), dtype=torch.float, device=device)\n",
    "\n",
    "        for i in range(len(self.fake_data)):\n",
    "            \n",
    "            x_fake = self.fake_data[i].unsqueeze(0).to(device) # get single fake example\n",
    "\n",
    "            # Generate adversarial example\n",
    "            x_adv = adversarial_attack(x_fake, y_fake, network, loss_func, epsilon=epsilon)\n",
    "\n",
    "            # Ensure it remains a valid image\n",
    "            x_adv = torch.clamp(x_adv, self.min_x, self.max_x)\n",
    "\n",
    "            # Update the dataset with the adversarial example\n",
    "            self.fake_data[i] = x_adv.squeeze(0)\n",
    "\n",
    "        network.train()\n",
    "\n"
   ]
  },
  {
   "cell_type": "code",
   "execution_count": 71,
   "metadata": {
    "deletable": false,
    "editable": false,
    "nbgrader": {
     "cell_type": "code",
     "checksum": "c486661bcf832548b9db50b4cc1e550f",
     "grade": true,
     "grade_id": "cell-cfcadb4f82d394fa",
     "locked": true,
     "points": 1,
     "schema_version": 3,
     "solution": false,
     "task": false
    },
    "tags": []
   },
   "outputs": [],
   "source": [
    "# Test Cell: do not edit or delete!\n",
    "discriminator = Discriminator()\n",
    "bce = nn.BCEWithLogitsLoss()\n",
    "data = RealOrFakeDataset(torch.utils.data.Subset(mnist_train, range(64)))\n",
    "\n",
    "old_samples = data.fake_data.clone()\n",
    "data.update_fake_examples(discriminator, bce)\n",
    "new_samples = data.fake_data\n",
    "assert torch.any(old_samples != new_samples), (\n",
    "    \"ex2: update_fake_examples does nothing (-1 point)\"\n",
    ")"
   ]
  },
  {
   "cell_type": "code",
   "execution_count": 72,
   "metadata": {
    "deletable": false,
    "editable": false,
    "nbgrader": {
     "cell_type": "code",
     "checksum": "9e68346a1c9d72d3e56f00372591ad35",
     "grade": true,
     "grade_id": "cell-a1ce83fcff055786",
     "locked": true,
     "points": 0.5,
     "schema_version": 3,
     "solution": false,
     "task": false
    },
    "tags": []
   },
   "outputs": [],
   "source": [
    "# Test Cell: do not edit or delete!"
   ]
  },
  {
   "cell_type": "code",
   "execution_count": 73,
   "metadata": {
    "deletable": false,
    "editable": false,
    "nbgrader": {
     "cell_type": "code",
     "checksum": "c5f7eedb71179170fe5487b4ddaa7620",
     "grade": true,
     "grade_id": "cell-7cc671490cc4b884",
     "locked": true,
     "points": 1,
     "schema_version": 3,
     "solution": false,
     "task": false
    },
    "tags": []
   },
   "outputs": [],
   "source": [
    "# Test Cell: do not edit or delete!\n",
    "assert torch.all(discriminator(new_samples) > discriminator(old_samples)), (\n",
    "    \"ex2: update_fake_examples does not make samples more real (-1 point)\"\n",
    ")"
   ]
  },
  {
   "cell_type": "code",
   "execution_count": 74,
   "metadata": {
    "deletable": false,
    "editable": false,
    "nbgrader": {
     "cell_type": "code",
     "checksum": "869a57ec763b4e5b86748bd27eb4e35a",
     "grade": true,
     "grade_id": "cell-306bb1f47e6a79a3",
     "locked": true,
     "points": 0.5,
     "schema_version": 3,
     "solution": false,
     "task": false
    },
    "tags": []
   },
   "outputs": [],
   "source": [
    "# Test Cell: do not edit or delete!"
   ]
  },
  {
   "cell_type": "markdown",
   "metadata": {},
   "source": [
    "### Exercise 3: Training the Discriminator (1 point)\n",
    "\n",
    "Finally, we can use this dataset for training the discriminator.\n",
    "By updating the *fake* inputs after every epoch of training,\n",
    "the quality of the *fake* inputs, and therefore also the discriminator,\n",
    "should improve steadily during training.\n",
    "\n",
    "Time to test if this actually works.\n",
    "The `train_discriminator` function (in the preamble)\n",
    "implements a training loop that updates the fake examples every epoch.\n",
    "The code below is able to train the discriminator to zero loss.\n",
    "However, the *fake* images do not look very realistic.\n",
    "\n",
    " > Play around with some of the hyperparameters (lr, epsilon, ...)\n",
    " > to get more realistic *fake* images,\n",
    " > so that the task of the discriminator becomes harder."
   ]
  },
  {
   "cell_type": "code",
   "execution_count": 75,
   "metadata": {
    "deletable": false,
    "nbgrader": {
     "cell_type": "code",
     "checksum": "3943f5a5fb6e8ada879135ccf5660c6b",
     "grade": true,
     "grade_id": "cell-178513103ef77cd0",
     "locked": false,
     "points": 1,
     "schema_version": 3,
     "solution": true,
     "task": false
    },
    "tags": [
     "skip-execution"
    ]
   },
   "outputs": [
    {
     "name": "stdout",
     "output_type": "stream",
     "text": [
      "Epoch  0 - avg loss: 0.686059\n",
      "D probs: 0.51, 0.49, 0.50, 0.54, 0.51, 0.53, 0.52, 0.52, 0.54, 0.52\n"
     ]
    },
    {
     "data": {
      "image/jpeg": "[encoded data removed]",
      "image/png": "[encoded data removed]",
      "text/plain": [
       "<PIL.Image.Image image mode=L size=280x28>"
      ]
     },
     "metadata": {
      "width": "100%"
     },
     "output_type": "display_data"
    },
    {
     "name": "stdout",
     "output_type": "stream",
     "text": [
      "Epoch  1 - avg loss: 0.002374\n",
      "Epoch  2 - avg loss: 0.000000\n",
      "Epoch  3 - avg loss: 0.000000\n"
     ]
    },
    {
     "ename": "KeyboardInterrupt",
     "evalue": "",
     "output_type": "error",
     "traceback": [
      "\u001b[1;31m---------------------------------------------------------------------------\u001b[0m",
      "\u001b[1;31mKeyboardInterrupt\u001b[0m                         Traceback (most recent call last)",
      "Cell \u001b[1;32mIn[75], line 16\u001b[0m\n\u001b[0;32m      5\u001b[0m trainer \u001b[38;5;241m=\u001b[39m DiscriminatorTrainer(\n\u001b[0;32m      6\u001b[0m     model\u001b[38;5;241m=\u001b[39mdiscriminator,\n\u001b[0;32m      7\u001b[0m     criterion\u001b[38;5;241m=\u001b[39mnn\u001b[38;5;241m.\u001b[39mBCEWithLogitsLoss(),\n\u001b[1;32m   (...)\u001b[0m\n\u001b[0;32m     10\u001b[0m     epsilon\u001b[38;5;241m=\u001b[39m\u001b[38;5;241m0.05\u001b[39m\n\u001b[0;32m     11\u001b[0m )\n\u001b[0;32m     13\u001b[0m \u001b[38;5;66;03m# YOUR CODE HERE\u001b[39;00m\n\u001b[0;32m     14\u001b[0m \u001b[38;5;66;03m# raise NotImplementedError()\u001b[39;00m\n\u001b[1;32m---> 16\u001b[0m _ \u001b[38;5;241m=\u001b[39m \u001b[43mtrainer\u001b[49m\u001b[38;5;241;43m.\u001b[39;49m\u001b[43mtrain\u001b[49m\u001b[43m(\u001b[49m\u001b[43md_loader\u001b[49m\u001b[43m,\u001b[49m\u001b[43m \u001b[49m\u001b[43mnum_epochs\u001b[49m\u001b[38;5;241;43m=\u001b[39;49m\u001b[38;5;241;43m15\u001b[39;49m\u001b[43m,\u001b[49m\u001b[43m \u001b[49m\u001b[43mvis_every\u001b[49m\u001b[38;5;241;43m=\u001b[39;49m\u001b[38;5;241;43m5\u001b[39;49m\u001b[43m)\u001b[49m\n",
      "Cell \u001b[1;32mIn[53], line 121\u001b[0m, in \u001b[0;36mBaseTrainer.train\u001b[1;34m(self, loader, num_epochs, vis_every)\u001b[0m\n\u001b[0;32m    119\u001b[0m \u001b[38;5;66;03m# train for some epochs\u001b[39;00m\n\u001b[0;32m    120\u001b[0m \u001b[38;5;28;01mfor\u001b[39;00m epoch \u001b[38;5;129;01min\u001b[39;00m \u001b[38;5;28mrange\u001b[39m(\u001b[38;5;241m1\u001b[39m, num_epochs \u001b[38;5;241m+\u001b[39m \u001b[38;5;241m1\u001b[39m):\n\u001b[1;32m--> 121\u001b[0m     errs \u001b[38;5;241m=\u001b[39m \u001b[38;5;28;43mself\u001b[39;49m\u001b[38;5;241;43m.\u001b[39;49m\u001b[43mupdate\u001b[49m\u001b[43m(\u001b[49m\u001b[43mloader\u001b[49m\u001b[43m)\u001b[49m\n\u001b[0;32m    122\u001b[0m     \u001b[38;5;28mprint\u001b[39m(\u001b[38;5;124mf\u001b[39m\u001b[38;5;124m\"\u001b[39m\u001b[38;5;124mEpoch \u001b[39m\u001b[38;5;132;01m{\u001b[39;00mepoch\u001b[38;5;132;01m:\u001b[39;00m\u001b[38;5;124m 2d\u001b[39m\u001b[38;5;132;01m}\u001b[39;00m\u001b[38;5;124m - avg loss: \u001b[39m\u001b[38;5;132;01m{\u001b[39;00m\u001b[38;5;28msum\u001b[39m(errs)\u001b[38;5;250m \u001b[39m\u001b[38;5;241m/\u001b[39m\u001b[38;5;250m \u001b[39m\u001b[38;5;28mlen\u001b[39m(errs)\u001b[38;5;132;01m:\u001b[39;00m\u001b[38;5;124m.6f\u001b[39m\u001b[38;5;132;01m}\u001b[39;00m\u001b[38;5;124m\"\u001b[39m)\n\u001b[0;32m    124\u001b[0m     \u001b[38;5;28;01mif\u001b[39;00m epoch \u001b[38;5;241m%\u001b[39m vis_every \u001b[38;5;241m==\u001b[39m \u001b[38;5;241m0\u001b[39m:\n",
      "Cell \u001b[1;32mIn[57], line 23\u001b[0m, in \u001b[0;36mDiscriminatorTrainer.update\u001b[1;34m(self, data)\u001b[0m\n\u001b[0;32m     21\u001b[0m \u001b[38;5;28;01mdef\u001b[39;00m \u001b[38;5;21mupdate\u001b[39m(\u001b[38;5;28mself\u001b[39m, data: DataLoader) \u001b[38;5;241m-\u001b[39m\u001b[38;5;241m>\u001b[39m \u001b[38;5;28mlist\u001b[39m:\n\u001b[0;32m     22\u001b[0m     results \u001b[38;5;241m=\u001b[39m \u001b[38;5;28msuper\u001b[39m()\u001b[38;5;241m.\u001b[39mupdate(data)\n\u001b[1;32m---> 23\u001b[0m     \u001b[38;5;28;43mself\u001b[39;49m\u001b[38;5;241;43m.\u001b[39;49m\u001b[43mdataset\u001b[49m\u001b[38;5;241;43m.\u001b[39;49m\u001b[43mupdate_fake_examples\u001b[49m\u001b[43m(\u001b[49m\u001b[38;5;28;43mself\u001b[39;49m\u001b[38;5;241;43m.\u001b[39;49m\u001b[43mmodel\u001b[49m\u001b[43m,\u001b[49m\u001b[43m \u001b[49m\u001b[38;5;28;43mself\u001b[39;49m\u001b[38;5;241;43m.\u001b[39;49m\u001b[43mcriterion\u001b[49m\u001b[43m,\u001b[49m\u001b[43m \u001b[49m\u001b[38;5;28;43mself\u001b[39;49m\u001b[38;5;241;43m.\u001b[39;49m\u001b[43mepsilon\u001b[49m\u001b[43m)\u001b[49m\n\u001b[0;32m     24\u001b[0m     \u001b[38;5;28;01mreturn\u001b[39;00m results\n",
      "Cell \u001b[1;32mIn[70], line 78\u001b[0m, in \u001b[0;36mRealOrFakeDataset.update_fake_examples\u001b[1;34m(self, network, loss_func, epsilon)\u001b[0m\n\u001b[0;32m     75\u001b[0m x_fake \u001b[38;5;241m=\u001b[39m \u001b[38;5;28mself\u001b[39m\u001b[38;5;241m.\u001b[39mfake_data[i]\u001b[38;5;241m.\u001b[39munsqueeze(\u001b[38;5;241m0\u001b[39m)\u001b[38;5;241m.\u001b[39mto(device) \u001b[38;5;66;03m# get single fake example\u001b[39;00m\n\u001b[0;32m     77\u001b[0m \u001b[38;5;66;03m# Generate adversarial example\u001b[39;00m\n\u001b[1;32m---> 78\u001b[0m x_adv \u001b[38;5;241m=\u001b[39m \u001b[43madversarial_attack\u001b[49m\u001b[43m(\u001b[49m\u001b[43mx_fake\u001b[49m\u001b[43m,\u001b[49m\u001b[43m \u001b[49m\u001b[43my_fake\u001b[49m\u001b[43m,\u001b[49m\u001b[43m \u001b[49m\u001b[43mnetwork\u001b[49m\u001b[43m,\u001b[49m\u001b[43m \u001b[49m\u001b[43mloss_func\u001b[49m\u001b[43m,\u001b[49m\u001b[43m \u001b[49m\u001b[43mepsilon\u001b[49m\u001b[38;5;241;43m=\u001b[39;49m\u001b[43mepsilon\u001b[49m\u001b[43m)\u001b[49m\n\u001b[0;32m     80\u001b[0m \u001b[38;5;66;03m# Ensure it remains a valid image\u001b[39;00m\n\u001b[0;32m     81\u001b[0m x_adv \u001b[38;5;241m=\u001b[39m torch\u001b[38;5;241m.\u001b[39mclamp(x_adv, \u001b[38;5;28mself\u001b[39m\u001b[38;5;241m.\u001b[39mmin_x, \u001b[38;5;28mself\u001b[39m\u001b[38;5;241m.\u001b[39mmax_x)\n",
      "Cell \u001b[1;32mIn[61], line 39\u001b[0m, in \u001b[0;36madversarial_attack\u001b[1;34m(x, y, network, loss_func, epsilon, eta, steps)\u001b[0m\n\u001b[0;32m     36\u001b[0m logits \u001b[38;5;241m=\u001b[39m network(x_adv)\n\u001b[0;32m     37\u001b[0m loss \u001b[38;5;241m=\u001b[39m loss_func(logits, y) \u001b[38;5;66;03m# compute loss\u001b[39;00m\n\u001b[1;32m---> 39\u001b[0m \u001b[43mloss\u001b[49m\u001b[38;5;241;43m.\u001b[39;49m\u001b[43mbackward\u001b[49m\u001b[43m(\u001b[49m\u001b[43m)\u001b[49m \u001b[38;5;66;03m# compute gradients wrt input\u001b[39;00m\n\u001b[0;32m     41\u001b[0m \u001b[38;5;28;01mwith\u001b[39;00m torch\u001b[38;5;241m.\u001b[39mno_grad():\n\u001b[0;32m     42\u001b[0m     x_adv \u001b[38;5;241m+\u001b[39m\u001b[38;5;241m=\u001b[39m eta \u001b[38;5;241m*\u001b[39m x_adv\u001b[38;5;241m.\u001b[39mgrad\u001b[38;5;241m.\u001b[39msign() \u001b[38;5;66;03m# update of the adversarial example using signed gradient\u001b[39;00m\n",
      "File \u001b[1;32mc:\\Users\\Q540900\\AppData\\Local\\anaconda3\\envs\\dlnnl3\\lib\\site-packages\\torch\\_tensor.py:522\u001b[0m, in \u001b[0;36mTensor.backward\u001b[1;34m(self, gradient, retain_graph, create_graph, inputs)\u001b[0m\n\u001b[0;32m    512\u001b[0m \u001b[38;5;28;01mif\u001b[39;00m has_torch_function_unary(\u001b[38;5;28mself\u001b[39m):\n\u001b[0;32m    513\u001b[0m     \u001b[38;5;28;01mreturn\u001b[39;00m handle_torch_function(\n\u001b[0;32m    514\u001b[0m         Tensor\u001b[38;5;241m.\u001b[39mbackward,\n\u001b[0;32m    515\u001b[0m         (\u001b[38;5;28mself\u001b[39m,),\n\u001b[1;32m   (...)\u001b[0m\n\u001b[0;32m    520\u001b[0m         inputs\u001b[38;5;241m=\u001b[39minputs,\n\u001b[0;32m    521\u001b[0m     )\n\u001b[1;32m--> 522\u001b[0m \u001b[43mtorch\u001b[49m\u001b[38;5;241;43m.\u001b[39;49m\u001b[43mautograd\u001b[49m\u001b[38;5;241;43m.\u001b[39;49m\u001b[43mbackward\u001b[49m\u001b[43m(\u001b[49m\n\u001b[0;32m    523\u001b[0m \u001b[43m    \u001b[49m\u001b[38;5;28;43mself\u001b[39;49m\u001b[43m,\u001b[49m\u001b[43m \u001b[49m\u001b[43mgradient\u001b[49m\u001b[43m,\u001b[49m\u001b[43m \u001b[49m\u001b[43mretain_graph\u001b[49m\u001b[43m,\u001b[49m\u001b[43m \u001b[49m\u001b[43mcreate_graph\u001b[49m\u001b[43m,\u001b[49m\u001b[43m \u001b[49m\u001b[43minputs\u001b[49m\u001b[38;5;241;43m=\u001b[39;49m\u001b[43minputs\u001b[49m\n\u001b[0;32m    524\u001b[0m \u001b[43m\u001b[49m\u001b[43m)\u001b[49m\n",
      "File \u001b[1;32mc:\\Users\\Q540900\\AppData\\Local\\anaconda3\\envs\\dlnnl3\\lib\\site-packages\\torch\\autograd\\__init__.py:266\u001b[0m, in \u001b[0;36mbackward\u001b[1;34m(tensors, grad_tensors, retain_graph, create_graph, grad_variables, inputs)\u001b[0m\n\u001b[0;32m    261\u001b[0m     retain_graph \u001b[38;5;241m=\u001b[39m create_graph\n\u001b[0;32m    263\u001b[0m \u001b[38;5;66;03m# The reason we repeat the same comment below is that\u001b[39;00m\n\u001b[0;32m    264\u001b[0m \u001b[38;5;66;03m# some Python versions print out the first line of a multi-line function\u001b[39;00m\n\u001b[0;32m    265\u001b[0m \u001b[38;5;66;03m# calls in the traceback and some print out the last line\u001b[39;00m\n\u001b[1;32m--> 266\u001b[0m \u001b[43mVariable\u001b[49m\u001b[38;5;241;43m.\u001b[39;49m\u001b[43m_execution_engine\u001b[49m\u001b[38;5;241;43m.\u001b[39;49m\u001b[43mrun_backward\u001b[49m\u001b[43m(\u001b[49m\u001b[43m  \u001b[49m\u001b[38;5;66;43;03m# Calls into the C++ engine to run the backward pass\u001b[39;49;00m\n\u001b[0;32m    267\u001b[0m \u001b[43m    \u001b[49m\u001b[43mtensors\u001b[49m\u001b[43m,\u001b[49m\n\u001b[0;32m    268\u001b[0m \u001b[43m    \u001b[49m\u001b[43mgrad_tensors_\u001b[49m\u001b[43m,\u001b[49m\n\u001b[0;32m    269\u001b[0m \u001b[43m    \u001b[49m\u001b[43mretain_graph\u001b[49m\u001b[43m,\u001b[49m\n\u001b[0;32m    270\u001b[0m \u001b[43m    \u001b[49m\u001b[43mcreate_graph\u001b[49m\u001b[43m,\u001b[49m\n\u001b[0;32m    271\u001b[0m \u001b[43m    \u001b[49m\u001b[43minputs\u001b[49m\u001b[43m,\u001b[49m\n\u001b[0;32m    272\u001b[0m \u001b[43m    \u001b[49m\u001b[43mallow_unreachable\u001b[49m\u001b[38;5;241;43m=\u001b[39;49m\u001b[38;5;28;43;01mTrue\u001b[39;49;00m\u001b[43m,\u001b[49m\n\u001b[0;32m    273\u001b[0m \u001b[43m    \u001b[49m\u001b[43maccumulate_grad\u001b[49m\u001b[38;5;241;43m=\u001b[39;49m\u001b[38;5;28;43;01mTrue\u001b[39;49;00m\u001b[43m,\u001b[49m\n\u001b[0;32m    274\u001b[0m \u001b[43m\u001b[49m\u001b[43m)\u001b[49m\n",
      "\u001b[1;31mKeyboardInterrupt\u001b[0m: "
     ]
    }
   ],
   "source": [
    "d_data = RealOrFakeDataset(mnist_train)\n",
    "d_loader = DataLoader(d_data, batch_size=256, shuffle=True)\n",
    "\n",
    "discriminator = Discriminator().to(device)\n",
    "trainer = DiscriminatorTrainer(\n",
    "    model=discriminator,\n",
    "    criterion=nn.BCEWithLogitsLoss(),\n",
    "    optimiser=optim.Adam(discriminator.parameters(), lr=0.001),\n",
    "    dataset=d_data,\n",
    "    epsilon=0.45\n",
    ")\n",
    "\n",
    "# YOUR CODE HERE\n",
    "# raise NotImplementedError()\n",
    "\n",
    "_ = trainer.train(d_loader, num_epochs=15, vis_every=5)\n",
    "\n"
   ]
  },
  {
   "cell_type": "markdown",
   "metadata": {},
   "source": [
    "## Generative Adversarial Modelling\n",
    "\n",
    "The previously discussed approach, using adversarial training,\n",
    "is able to create somewhat realistic inputs.\n",
    "Although it might be considered a way to generate new images,\n",
    "it is not very practical because it does not allow \n",
    "to generate samples after training.\n",
    "\n",
    "Although Generative Adversarial Nets (GANs)\n",
    "do not really have a connection with adversarial examples\n",
    "(except for the main author and the name),\n",
    "the goal is also to \"fool\" a discriminator network.\n",
    "Instead of using adversarial examples as *false* examples, however,\n",
    "GANs use a decoder-style network, referred to as *generator*\n",
    "that maps from a known distribution to the input space."
   ]
  },
  {
   "cell_type": "code",
   "execution_count": null,
   "metadata": {},
   "outputs": [],
   "source": [
    "class Generator(nn.Module):\n",
    "    \"\"\" Network for creating fake MNIST images. \"\"\"\n",
    "    \n",
    "    def __init__(self, latent_dim: int = 64):\n",
    "        \"\"\"\n",
    "        Parameters\n",
    "        ----------\n",
    "        latent_dim : int, optional\n",
    "            Dimensions of the latent space, from which to sample.\n",
    "        \"\"\"\n",
    "        super().__init__()\n",
    "        self.latent_dim = latent_dim\n",
    "        self.model = nn.Sequential(\n",
    "            nn.ConvTranspose2d(latent_dim, 32, 6),\n",
    "            nn.ELU(),\n",
    "            nn.ConvTranspose2d(32, 8, 3, stride=2),\n",
    "            nn.ELU(),\n",
    "            nn.ConvTranspose2d(8, 1, 4, stride=2),\n",
    "        )\n",
    "        \n",
    "    def forward(self, z):\n",
    "        x = self.model(z.view(-1, self.latent_dim, 1, 1))\n",
    "        return x\n",
    "        \n",
    "    @torch.no_grad()\n",
    "    def sample(self, batch_size: int):\n",
    "        \"\"\"\n",
    "        Sample in the latent space of the generator.\n",
    "\n",
    "        Parameters\n",
    "        ----------\n",
    "        batch_size : int\n",
    "            Number of samples to sample.\n",
    "\n",
    "        Returns\n",
    "        -------\n",
    "        z : (batch_size, latent_dim) torch.Tensor\n",
    "            A random vector in the latent space.\n",
    "\n",
    "        Notes\n",
    "        -----\n",
    "        Gradient computations are disabled.\n",
    "        \"\"\"\n",
    "        z = torch.randn(batch_size, self.latent_dim)\n",
    "        return z.to(self.model[0].weight.device)\n",
    "    \n",
    "    @torch.no_grad()\n",
    "    def generate(self, z = None, batch_size: int = 1, bounded: bool = True):\n",
    "        \"\"\"\n",
    "        Generate one or more random images.\n",
    "\n",
    "        Parameters\n",
    "        ----------\n",
    "        z : (N, latent_dim) torch.Tensor\n",
    "            Latent vector(s) to use for generation.\n",
    "        batch_size : int, optional\n",
    "            Number of images to generate.\n",
    "            This parameter is ignored if `z` is specified.\n",
    "        bounded : bool, optional\n",
    "            Flag to assure that pixel values are in a valid range.\n",
    "\n",
    "        Returns\n",
    "        -------\n",
    "        x : (batch_size, C, H, W) torch.Tensor\n",
    "            Generated image(s).\n",
    "        \"\"\"\n",
    "        if z is None:\n",
    "            z = self.sample(batch_size)\n",
    "        \n",
    "        raw = self.forward(z)\n",
    "        \n",
    "        if bounded:\n",
    "            raw.clamp_(-0.4242, 2.8215)  # MNIST range\n",
    "            \n",
    "        return raw"
   ]
  },
  {
   "cell_type": "markdown",
   "metadata": {},
   "source": [
    "### Excercise 4: Min-Max Game (6 points)\n",
    "\n",
    "\n",
    "The goal of the generator is to create images that maximise the loss\n",
    "that the discriminator attempts to minimise.\n",
    "The result is a min-max game between generator and discriminator.\n",
    "Mathematically, this leads to the following optimisation target:\n",
    "$$\\begin{aligned}\n",
    "\\max_d \\min_g \\mathbb{E}[\\log d(X)] + \\mathbb{E}[\\log(1 - d(g(Z)))].\n",
    "\\end{aligned}$$\n",
    "Note that this function is simply the negated binary cross-entropy loss.\n",
    "\n",
    " > Finish the implementation of the `update_gan` function,\n",
    " > including the `generator_error` and `discriminator_error` functions.\n",
    " > Make sure that the generator-error is used to update only the generator,\n",
    " > i.e. does not affect the discriminator, and vice versa.\n",
    " > To achieve this, you will need to control the gradients\n",
    " > with the techniques discussed in assignment 1.\n",
    " > Also, you do not want to directly maximise the error term for the generator,\n",
    " > since it suffers from vanishing gradients.\n",
    " > Think about an alternative, but equivalent optimisation problem.\n",
    " "
   ]
  },
  {
   "cell_type": "code",
   "execution_count": null,
   "metadata": {
    "deletable": false,
    "nbgrader": {
     "cell_type": "code",
     "checksum": "79b63e62435a83c1104844838c580f85",
     "grade": false,
     "grade_id": "cell-1cff57f62d3dec3b",
     "locked": false,
     "schema_version": 3,
     "solution": true,
     "task": false
    },
    "tags": []
   },
   "outputs": [],
   "source": [
    "def generator_error(gan: nn.Module, real_x: torch.Tensor, loss_func: nn.Module):\n",
    "    \"\"\"\n",
    "    Construct the gradient graph for updating the generator.\n",
    "\n",
    "    Parameters\n",
    "    ----------\n",
    "    gan : nn.Module\n",
    "        Module with `generator` and `discriminator` sub-modules.\n",
    "    real_x: torch.Tensor\n",
    "        Mini-batch from target distribution.\n",
    "    loss_func: nn.Module\n",
    "        Loss function taking logits and target values.\n",
    "\n",
    "    Returns\n",
    "    -------\n",
    "    err : torch.Tensor\n",
    "        Scalar tensor with graph for updating generator.\n",
    "    \"\"\"\n",
    "    # YOUR CODE HERE\n",
    "    # raise NotImplementedError()\n",
    "\n",
    "    batch_size = real_x.size(0) # generate a batch\n",
    "    z = gan.generator.sample(batch_size) # generate fake data\n",
    "    fake_x = gan.generator.forward(z) #  forward\n",
    "\n",
    "    # evaluate discriminator with the fake data\n",
    "    fake_logits = gan.discriminator(fake_x)\n",
    "\n",
    "    target = torch.ones_like(fake_logits)\n",
    "\n",
    "    gen_loss = loss_func(fake_logits, target)\n",
    "\n",
    "    return gen_loss"
   ]
  },
  {
   "cell_type": "code",
   "execution_count": null,
   "metadata": {
    "deletable": false,
    "editable": false,
    "nbgrader": {
     "cell_type": "code",
     "checksum": "390dc45bd690c234914ebbb2d1402507",
     "grade": true,
     "grade_id": "cell-d7f3d119c11b44db",
     "locked": true,
     "points": 1,
     "schema_version": 3,
     "solution": false,
     "task": false
    },
    "tags": []
   },
   "outputs": [],
   "source": [
    "# Test Cell: do not edit or delete!\n",
    "gan = nn.ModuleDict({\n",
    "    'generator': Generator(),\n",
    "    'discriminator': Discriminator()\n",
    "})\n",
    "bce = nn.BCEWithLogitsLoss()\n",
    "\n",
    "try:\n",
    "    err = generator_error(gan, torch.randn(5, 1, 28, 28), bce)\n",
    "    grads = torch.autograd.grad(err, gan.generator.parameters())\n",
    "except RuntimeError:\n",
    "    raise AssertionError(\n",
    "        \"ex4: generator_error does not allow to compute gradients (-1 point)\"\n",
    "    )"
   ]
  },
  {
   "cell_type": "code",
   "execution_count": null,
   "metadata": {
    "deletable": false,
    "editable": false,
    "nbgrader": {
     "cell_type": "code",
     "checksum": "48141330461ff9ad09e260ffa0fe9bbf",
     "grade": true,
     "grade_id": "cell-07d5f9f287635c6a",
     "locked": true,
     "points": 0.5,
     "schema_version": 3,
     "solution": false,
     "task": false
    },
    "tags": []
   },
   "outputs": [],
   "source": [
    "# Test Cell: do not edit or delete!"
   ]
  },
  {
   "cell_type": "code",
   "execution_count": null,
   "metadata": {
    "deletable": false,
    "nbgrader": {
     "cell_type": "code",
     "checksum": "6d7a2d82d3a7b41c0ad291d1c800394c",
     "grade": false,
     "grade_id": "cell-37342f54487640f3",
     "locked": false,
     "schema_version": 3,
     "solution": true,
     "task": false
    },
    "tags": []
   },
   "outputs": [],
   "source": [
    "def discriminator_error(gan: nn.Module, real_x: torch.Tensor, loss_func: nn.Module):\n",
    "    \"\"\"\n",
    "    Construct the gradient graph for updating the discriminator.\n",
    "\n",
    "    Parameters\n",
    "    ----------\n",
    "    gan : nn.Module\n",
    "        Module with `generator` and `discriminator` sub-modules.\n",
    "    real_x: torch.Tensor\n",
    "        Mini-batch from target distribution.\n",
    "    loss_func: nn.Module\n",
    "        Loss function taking logits and target values.\n",
    "\n",
    "    Returns\n",
    "    -------\n",
    "    err : torch.Tensor\n",
    "        Scalar tensor with graph for updating discriminator.\n",
    "    \"\"\"\n",
    "    # YOUR CODE HERE\n",
    "    # raise NotImplementedError()\n",
    "\n",
    "    batch_size = real_x.size(0)\n",
    "\n",
    "    # real images through the discriminator --> real logits\n",
    "    real_logits = gan.discriminator(real_x)\n",
    "\n",
    "    # generate fake data\n",
    "    z = gan.generator.sample(batch_size)\n",
    "    fake_x = gan.generator.forward(z)\n",
    "\n",
    "    # fake images through the discriminator --> fake logits\n",
    "    fake_logits = gan.discriminator(fake_x.detach()) # Detach to stop gradients from flowing into generator\n",
    "\n",
    "    real_target = torch.ones_like(real_logits)\n",
    "    fake_targets = torch.zeros_like(fake_logits)\n",
    "\n",
    "    # evaluate the loss for real and fake: output of discriminator 0 for fake and 1 for real\n",
    "    real_loss = loss_func(real_logits, real_target)\n",
    "    fake_loss = loss_func(fake_logits, fake_targets)\n",
    "\n",
    "    total_loss = (real_loss+fake_loss) / 2\n",
    "\n",
    "    return total_loss"
   ]
  },
  {
   "cell_type": "code",
   "execution_count": null,
   "metadata": {
    "deletable": false,
    "editable": false,
    "nbgrader": {
     "cell_type": "code",
     "checksum": "19a50aab07131c142c6ab1635c8d71f9",
     "grade": true,
     "grade_id": "cell-7829942b0b34da1e",
     "locked": true,
     "points": 1,
     "schema_version": 3,
     "solution": false,
     "task": false
    },
    "tags": []
   },
   "outputs": [],
   "source": [
    "# Test Cell: do not edit or delete!\n",
    "gan = nn.ModuleDict({\n",
    "    'generator': Generator(),\n",
    "    'discriminator': Discriminator()\n",
    "})\n",
    "bce = nn.BCEWithLogitsLoss()\n",
    "\n",
    "try:\n",
    "    err = discriminator_error(gan, torch.randn(5, 1, 28, 28), bce)\n",
    "    grads = torch.autograd.grad(err, gan.discriminator.parameters())\n",
    "except RuntimeError:\n",
    "    raise AssertionError(\n",
    "        \"ex4: discriminator_error does not allow to compute gradients (-1 point)\"\n",
    "    )"
   ]
  },
  {
   "cell_type": "code",
   "execution_count": null,
   "metadata": {
    "deletable": false,
    "editable": false,
    "nbgrader": {
     "cell_type": "code",
     "checksum": "67508223a643a3dd171f6b93d26f2d9c",
     "grade": true,
     "grade_id": "cell-ed73a7012b9323b0",
     "locked": true,
     "points": 0.5,
     "schema_version": 3,
     "solution": false,
     "task": false
    },
    "tags": []
   },
   "outputs": [],
   "source": [
    "# Test Cell: do not edit or delete!"
   ]
  },
  {
   "cell_type": "code",
   "execution_count": null,
   "metadata": {
    "deletable": false,
    "nbgrader": {
     "cell_type": "code",
     "checksum": "95ed553d8ecb2ab39b4c7a509cc16002",
     "grade": false,
     "grade_id": "cell-d3639e99db870a93",
     "locked": false,
     "schema_version": 3,
     "solution": true,
     "task": false
    },
    "tags": []
   },
   "outputs": [],
   "source": [
    "def update_gan(gan: nn.Module, loader: DataLoader, loss_func: nn.Module,\n",
    "               opt: optim.Optimizer):\n",
    "    \"\"\"\n",
    "    Train GAN for one epoch.\n",
    "\n",
    "    Parameters\n",
    "    ----------\n",
    "    gan : nn.Module\n",
    "        Module with `generator` and `discriminator` sub-modules.\n",
    "    loader : DataLoader\n",
    "        Standard, supervised data loader with samples from target distribution.\n",
    "    loss_func : nn.Module\n",
    "        Loss function taking logits and target values.\n",
    "    opt : optim.Optimizer\n",
    "        Optimiser for updating GAN parameters.\n",
    "\n",
    "    Returns\n",
    "    -------\n",
    "    g_errs : list\n",
    "        List of computed errors for generator update in each batch.\n",
    "    d_errs : list\n",
    "        List of computed errors for discriminator update in each batch.\n",
    "    \"\"\"\n",
    "    gan.train()\n",
    "    device = next(gan.parameters()).device\n",
    "    \n",
    "    d_errs, g_errs = [], []\n",
    "    for x, _ in loader:\n",
    "        x = x.to(device)\n",
    "        # YOUR CODE HERE\n",
    "        # raise NotImplementedError()\n",
    "\n",
    "        # zero gradient for discriminator \n",
    "        opt.zero_grad()\n",
    "\n",
    "        # loss on real data\n",
    "        real_logits = gan.discriminator(x)\n",
    "        real_loss = loss_func(real_logits, torch.ones_like(real_logits))\n",
    "\n",
    "        # loss on fake data generated with the generator\n",
    "        z = gan.generator.sample(x.size(0))\n",
    "        fake_x = gan.generator(z)\n",
    "        fake_logits = gan.discriminator(fake_x.detach())\n",
    "        fake_loss = loss_func(fake_logits, torch.zeros_like(fake_logits))\n",
    "\n",
    "        # Combined loss for discriminator\n",
    "        d_loss = (real_loss + fake_loss) / 2\n",
    "        d_loss.backward()\n",
    "        opt.step()\n",
    "        d_errs.append(d_loss.item())\n",
    "\n",
    "        opt.zero_grad()\n",
    "\n",
    "        z = gan.generator.sample(x.size(0))\n",
    "        fake_x = gan.generator(z)\n",
    "        fake_logits = gan.discriminator(fake_x)\n",
    "        g_loss = loss_func(fake_logits, torch.ones_like(fake_logits))\n",
    "        g_loss.backward()\n",
    "        opt.step()\n",
    "        g_errs.append(g_loss.item())\n",
    "\n",
    "\n",
    "\n",
    "    return g_errs, d_errs"
   ]
  },
  {
   "cell_type": "code",
   "execution_count": null,
   "metadata": {
    "deletable": false,
    "editable": false,
    "nbgrader": {
     "cell_type": "code",
     "checksum": "89c6c69fdb4d9864b7f1660cc1ab0870",
     "grade": true,
     "grade_id": "cell-99b7d4927c903c5b",
     "locked": true,
     "points": 1,
     "schema_version": 3,
     "solution": false,
     "task": false
    },
    "tags": []
   },
   "outputs": [],
   "source": [
    "# Test Cell: do not edit or delete!\n",
    "gan = nn.ModuleDict({\n",
    "    'generator': Generator(),\n",
    "    'discriminator': Discriminator()\n",
    "}).to(device)\n",
    "bce = nn.BCEWithLogitsLoss()\n",
    "opt = optim.Adam(gan.parameters(), lr=1e-3)\n",
    "\n",
    "old_pars = {k: v.clone() for k, v in gan.state_dict().items()}\n",
    "g_errs, d_errs = update_gan(gan, [next(iter(train_loader))], bce, opt)\n",
    "assert len(g_errs) == len(test_loader), (\n",
    "    \"ex4: wrong number of generator errors in update_gan(-1 point)\"\n",
    ")\n",
    "assert len(d_errs) == len(test_loader), (\n",
    "    \"ex4: wrong number of discriminator errors in update_gan (-1 point)\"\n",
    ")"
   ]
  },
  {
   "cell_type": "code",
   "execution_count": null,
   "metadata": {
    "deletable": false,
    "editable": false,
    "nbgrader": {
     "cell_type": "code",
     "checksum": "6e10577dbc5341dc52ffa356c93bc15c",
     "grade": true,
     "grade_id": "cell-7ed80050c64cdb4d",
     "locked": true,
     "points": 1,
     "schema_version": 3,
     "solution": false,
     "task": false
    },
    "tags": []
   },
   "outputs": [],
   "source": [
    "# Test Cell: do not edit or delete!\n",
    "assert all(\n",
    "    torch.any(old_pars[k] != par) for k, par in gan.state_dict().items()\n",
    "), \"ex4: update_gan does not update all parameters (-1 points)\""
   ]
  },
  {
   "cell_type": "code",
   "execution_count": null,
   "metadata": {
    "deletable": false,
    "editable": false,
    "nbgrader": {
     "cell_type": "code",
     "checksum": "e3b1b680dfb135e9a4482001adae8655",
     "grade": true,
     "grade_id": "cell-495ee05cc9204fba",
     "locked": true,
     "points": 1,
     "schema_version": 3,
     "solution": false,
     "task": false
    },
    "tags": []
   },
   "outputs": [],
   "source": [
    "# Test Cell: do not edit or delete!"
   ]
  },
  {
   "cell_type": "code",
   "execution_count": null,
   "metadata": {
    "pycharm": {
     "name": "#%%\n"
    },
    "tags": [
     "skip-execution"
    ]
   },
   "outputs": [
    {
     "name": "stdout",
     "output_type": "stream",
     "text": [
      "Epoch  0 - avg G loss: 0.63479, avg D loss: 0.70847\n",
      "D probs: 0.53, 0.53, 0.53, 0.53, 0.53, 0.53, 0.53, 0.53, 0.53, 0.53\n"
     ]
    },
    {
     "data": {
      "image/jpeg": "[encoded data removed]",
      "image/png": "[encoded data removed]",
      "text/plain": [
       "<PIL.Image.Image image mode=L size=280x28>"
      ]
     },
     "metadata": {
      "width": "100%"
     },
     "output_type": "display_data"
    },
    {
     "name": "stdout",
     "output_type": "stream",
     "text": [
      "Epoch  1 - avg G loss: 0.32149, avg D loss: 0.78596\n",
      "Epoch  2 - avg G loss: 0.29335, avg D loss: 0.84738\n",
      "Epoch  3 - avg G loss: 0.29241, avg D loss: 0.84024\n",
      "Epoch  4 - avg G loss: 0.29170, avg D loss: 0.83776\n",
      "Epoch  5 - avg G loss: 0.29097, avg D loss: 0.83733\n",
      "D probs: 0.73, 0.76, 0.73, 0.73, 0.71, 0.73, 0.75, 0.74, 0.73, 0.73\n"
     ]
    },
    {
     "data": {
      "image/jpeg": "[encoded data removed]",
      "image/png": "[encoded data removed]",
      "text/plain": [
       "<PIL.Image.Image image mode=L size=280x28>"
      ]
     },
     "metadata": {
      "width": "100%"
     },
     "output_type": "display_data"
    },
    {
     "name": "stdout",
     "output_type": "stream",
     "text": [
      "Epoch  6 - avg G loss: 0.29181, avg D loss: 0.83586\n",
      "Epoch  7 - avg G loss: 0.28987, avg D loss: 0.83740\n",
      "Epoch  8 - avg G loss: 0.28990, avg D loss: 0.83736\n",
      "Epoch  9 - avg G loss: 0.28828, avg D loss: 0.83889\n",
      "Epoch  10 - avg G loss: 0.28988, avg D loss: 0.83671\n",
      "D probs: 0.76, 0.76, 0.74, 0.74, 0.75, 0.75, 0.75, 0.75, 0.74, 0.75\n"
     ]
    },
    {
     "data": {
      "image/jpeg": "[encoded data removed]",
      "image/png": "[encoded data removed]",
      "text/plain": [
       "<PIL.Image.Image image mode=L size=280x28>"
      ]
     },
     "metadata": {
      "width": "100%"
     },
     "output_type": "display_data"
    },
    {
     "name": "stdout",
     "output_type": "stream",
     "text": [
      "Epoch  11 - avg G loss: 0.28907, avg D loss: 0.83726\n",
      "Epoch  12 - avg G loss: 0.28914, avg D loss: 0.83654\n",
      "Epoch  13 - avg G loss: 0.28875, avg D loss: 0.83641\n",
      "Epoch  14 - avg G loss: 0.28872, avg D loss: 0.83670\n",
      "Epoch  15 - avg G loss: 0.28843, avg D loss: 0.83706\n",
      "D probs: 0.74, 0.76, 0.75, 0.75, 0.76, 0.75, 0.74, 0.76, 0.76, 0.75\n"
     ]
    },
    {
     "data": {
      "image/jpeg": "[encoded data removed]",
      "image/png": "[encoded data removed]",
      "text/plain": [
       "<PIL.Image.Image image mode=L size=280x28>"
      ]
     },
     "metadata": {
      "width": "100%"
     },
     "output_type": "display_data"
    },
    {
     "name": "stdout",
     "output_type": "stream",
     "text": [
      "Epoch  16 - avg G loss: 0.28902, avg D loss: 0.83581\n",
      "Epoch  17 - avg G loss: 0.28883, avg D loss: 0.83618\n",
      "Epoch  18 - avg G loss: 0.28876, avg D loss: 0.83614\n",
      "Epoch  19 - avg G loss: 0.28887, avg D loss: 0.83582\n",
      "Epoch  20 - avg G loss: 0.28875, avg D loss: 0.83557\n",
      "D probs: 0.74, 0.75, 0.74, 0.75, 0.75, 0.75, 0.75, 0.76, 0.74, 0.75\n"
     ]
    },
    {
     "data": {
      "image/jpeg": "[encoded data removed]",
      "image/png": "[encoded data removed]",
      "text/plain": [
       "<PIL.Image.Image image mode=L size=280x28>"
      ]
     },
     "metadata": {
      "width": "100%"
     },
     "output_type": "display_data"
    },
    {
     "name": "stdout",
     "output_type": "stream",
     "text": [
      "Epoch  21 - avg G loss: 0.28967, avg D loss: 0.83432\n",
      "Epoch  22 - avg G loss: 0.28897, avg D loss: 0.83473\n",
      "Epoch  23 - avg G loss: 0.28968, avg D loss: 0.83378\n",
      "Epoch  24 - avg G loss: 0.28942, avg D loss: 0.83380\n",
      "Epoch  25 - avg G loss: 0.28968, avg D loss: 0.83330\n",
      "D probs: 0.74, 0.74, 0.75, 0.74, 0.74, 0.72, 0.75, 0.75, 0.74, 0.73\n"
     ]
    },
    {
     "data": {
      "image/jpeg": "[encoded data removed]",
      "image/png": "[encoded data removed]",
      "text/plain": [
       "<PIL.Image.Image image mode=L size=280x28>"
      ]
     },
     "metadata": {
      "width": "100%"
     },
     "output_type": "display_data"
    }
   ],
   "source": [
    "# sanity check\n",
    "gan = nn.ModuleDict({\n",
    "    'generator': Generator(),\n",
    "    'discriminator': Discriminator()\n",
    "}).to(device)\n",
    "bce = nn.BCEWithLogitsLoss()\n",
    "opt = optim.Adam([\n",
    "    {'params': gan.generator.parameters(), 'lr': 1e-3},\n",
    "    {'params': gan.discriminator.parameters(), 'lr': 2e-4}\n",
    "])\n",
    "train_gan(gan, train_loader, bce, opt, num_epochs=25)"
   ]
  }
 ],
 "metadata": {
  "kernelspec": {
   "display_name": "Python 3 (ipykernel)",
   "language": "python",
   "name": "python3"
  },
  "language_info": {
   "codemirror_mode": {
    "name": "ipython",
    "version": 3
   },
   "file_extension": ".py",
   "mimetype": "text/x-python",
   "name": "python",
   "nbconvert_exporter": "python",
   "pygments_lexer": "ipython3",
   "version": "3.10.14"
  }
 },
 "nbformat": 4,
 "nbformat_minor": 4
}
