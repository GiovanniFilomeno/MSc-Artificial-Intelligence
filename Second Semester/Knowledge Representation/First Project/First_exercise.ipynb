{
 "cells": [
  {
   "cell_type": "code",
   "execution_count": 2,
   "metadata": {},
   "outputs": [
    {
     "ename": "ValueError",
     "evalue": "not enough values to unpack (expected 2, got 1)",
     "output_type": "error",
     "traceback": [
      "\u001b[0;31m---------------------------------------------------------------------------\u001b[0m",
      "\u001b[0;31mValueError\u001b[0m                                Traceback (most recent call last)",
      "Cell \u001b[0;32mIn[2], line 3\u001b[0m\n\u001b[1;32m      1\u001b[0m \u001b[38;5;28;01mimport\u001b[39;00m \u001b[38;5;21;01mos\u001b[39;00m\n\u001b[1;32m      2\u001b[0m os\u001b[38;5;241m.\u001b[39menviron[\u001b[38;5;124m'\u001b[39m\u001b[38;5;124mSWI_HOME_DIR\u001b[39m\u001b[38;5;124m'\u001b[39m] \u001b[38;5;241m=\u001b[39m \u001b[38;5;124m'\u001b[39m\u001b[38;5;124m/opt/homebrew/Cellar/swi-prolog/9.2.3/bin/\u001b[39m\u001b[38;5;124m'\u001b[39m\n\u001b[0;32m----> 3\u001b[0m \u001b[38;5;28;01mfrom\u001b[39;00m \u001b[38;5;21;01mpyswip\u001b[39;00m \u001b[38;5;28;01mimport\u001b[39;00m Prolog\n\u001b[1;32m      5\u001b[0m prolog \u001b[38;5;241m=\u001b[39m Prolog()\n",
      "File \u001b[0;32m~/anaconda3/envs/knowledge/lib/python3.12/site-packages/pyswip/__init__.py:29\u001b[0m\n\u001b[1;32m      1\u001b[0m \u001b[38;5;66;03m# -*- coding: utf-8 -*-\u001b[39;00m\n\u001b[1;32m      2\u001b[0m \n\u001b[1;32m      3\u001b[0m \n\u001b[0;32m   (...)\u001b[0m\n\u001b[1;32m     25\u001b[0m \n\u001b[1;32m     26\u001b[0m \u001b[38;5;66;03m# PySwip version\u001b[39;00m\n\u001b[1;32m     27\u001b[0m __VERSION__ \u001b[38;5;241m=\u001b[39m \u001b[38;5;124m\"\u001b[39m\u001b[38;5;124m0.2.7\u001b[39m\u001b[38;5;124m\"\u001b[39m\n\u001b[0;32m---> 29\u001b[0m \u001b[38;5;28;01mfrom\u001b[39;00m \u001b[38;5;21;01mpyswip\u001b[39;00m\u001b[38;5;21;01m.\u001b[39;00m\u001b[38;5;21;01mprolog\u001b[39;00m \u001b[38;5;28;01mimport\u001b[39;00m Prolog\n\u001b[1;32m     30\u001b[0m \u001b[38;5;28;01mfrom\u001b[39;00m \u001b[38;5;21;01mpyswip\u001b[39;00m\u001b[38;5;21;01m.\u001b[39;00m\u001b[38;5;21;01measy\u001b[39;00m \u001b[38;5;28;01mimport\u001b[39;00m \u001b[38;5;241m*\u001b[39m\n",
      "File \u001b[0;32m~/anaconda3/envs/knowledge/lib/python3.12/site-packages/pyswip/prolog.py:28\u001b[0m\n\u001b[1;32m      1\u001b[0m \u001b[38;5;66;03m# -*- coding: utf-8 -*-\u001b[39;00m\n\u001b[1;32m      2\u001b[0m \n\u001b[1;32m      3\u001b[0m \n\u001b[0;32m   (...)\u001b[0m\n\u001b[1;32m     22\u001b[0m \u001b[38;5;66;03m# OUT OF OR IN CONNECTION WITH THE SOFTWARE OR THE USE OR OTHER DEALINGS IN THE\u001b[39;00m\n\u001b[1;32m     23\u001b[0m \u001b[38;5;66;03m# SOFTWARE.\u001b[39;00m\n\u001b[1;32m     26\u001b[0m \u001b[38;5;28;01mimport\u001b[39;00m \u001b[38;5;21;01msys\u001b[39;00m\n\u001b[0;32m---> 28\u001b[0m \u001b[38;5;28;01mfrom\u001b[39;00m \u001b[38;5;21;01mpyswip\u001b[39;00m\u001b[38;5;21;01m.\u001b[39;00m\u001b[38;5;21;01mcore\u001b[39;00m \u001b[38;5;28;01mimport\u001b[39;00m \u001b[38;5;241m*\u001b[39m\n\u001b[1;32m     31\u001b[0m \u001b[38;5;28;01mclass\u001b[39;00m \u001b[38;5;21;01mPrologError\u001b[39;00m(\u001b[38;5;167;01mException\u001b[39;00m):\n\u001b[1;32m     32\u001b[0m     \u001b[38;5;28;01mpass\u001b[39;00m\n",
      "File \u001b[0;32m~/anaconda3/envs/knowledge/lib/python3.12/site-packages/pyswip/core.py:567\u001b[0m\n\u001b[1;32m    562\u001b[0m     \u001b[38;5;28;01mreturn\u001b[39;00m checker\n\u001b[1;32m    565\u001b[0m \u001b[38;5;66;03m# Find the path and resource file. SWI_HOME_DIR shall be treated as a constant\u001b[39;00m\n\u001b[1;32m    566\u001b[0m \u001b[38;5;66;03m# by users of this module\u001b[39;00m\n\u001b[0;32m--> 567\u001b[0m (_path, SWI_HOME_DIR) \u001b[38;5;241m=\u001b[39m _findSwipl()\n\u001b[1;32m    568\u001b[0m _fixWindowsPath(_path)\n\u001b[1;32m    571\u001b[0m \u001b[38;5;66;03m# Load the library\u001b[39;00m\n",
      "File \u001b[0;32m~/anaconda3/envs/knowledge/lib/python3.12/site-packages/pyswip/core.py:416\u001b[0m, in \u001b[0;36m_findSwipl\u001b[0;34m()\u001b[0m\n\u001b[1;32m    413\u001b[0m     (path, swiHome) \u001b[38;5;241m=\u001b[39m _findSwiplLin()\n\u001b[1;32m    415\u001b[0m \u001b[38;5;28;01melif\u001b[39;00m platform \u001b[38;5;241m==\u001b[39m \u001b[38;5;124m\"\u001b[39m\u001b[38;5;124mdar\u001b[39m\u001b[38;5;124m\"\u001b[39m:  \u001b[38;5;66;03m# Help with MacOS is welcome!!\u001b[39;00m\n\u001b[0;32m--> 416\u001b[0m     (path, swiHome) \u001b[38;5;241m=\u001b[39m _findSwiplDar()\n\u001b[1;32m    418\u001b[0m     \u001b[38;5;28;01mif\u001b[39;00m path \u001b[38;5;129;01mis\u001b[39;00m \u001b[38;5;28;01mNone\u001b[39;00m:\n\u001b[1;32m    419\u001b[0m         (path, swiHome) \u001b[38;5;241m=\u001b[39m _findSwiplMacOSHome()\n",
      "File \u001b[0;32m~/anaconda3/envs/knowledge/lib/python3.12/site-packages/pyswip/core.py:370\u001b[0m, in \u001b[0;36m_findSwiplDar\u001b[0;34m()\u001b[0m\n\u001b[1;32m    358\u001b[0m \u001b[38;5;250m\u001b[39m\u001b[38;5;124;03m\"\"\"\u001b[39;00m\n\u001b[1;32m    359\u001b[0m \u001b[38;5;124;03mThis function uses several heuristics to guess where SWI-Prolog is\u001b[39;00m\n\u001b[1;32m    360\u001b[0m \u001b[38;5;124;03minstalled in MacOS.\u001b[39;00m\n\u001b[0;32m   (...)\u001b[0m\n\u001b[1;32m    366\u001b[0m \u001b[38;5;124;03m    ({str, None}, {str, None})\u001b[39;00m\n\u001b[1;32m    367\u001b[0m \u001b[38;5;124;03m\"\"\"\u001b[39;00m\n\u001b[1;32m    369\u001b[0m \u001b[38;5;66;03m# If the exec is in path\u001b[39;00m\n\u001b[0;32m--> 370\u001b[0m (path, swiHome) \u001b[38;5;241m=\u001b[39m _findSwiplFromExec()\n\u001b[1;32m    371\u001b[0m \u001b[38;5;28;01mif\u001b[39;00m path \u001b[38;5;129;01mis\u001b[39;00m \u001b[38;5;129;01mnot\u001b[39;00m \u001b[38;5;28;01mNone\u001b[39;00m:\n\u001b[1;32m    372\u001b[0m     \u001b[38;5;28;01mreturn\u001b[39;00m (path, swiHome)\n",
      "File \u001b[0;32m~/anaconda3/envs/knowledge/lib/python3.12/site-packages/pyswip/core.py:93\u001b[0m, in \u001b[0;36m_findSwiplFromExec\u001b[0;34m()\u001b[0m\n\u001b[1;32m     91\u001b[0m ret \u001b[38;5;241m=\u001b[39m ret[\u001b[38;5;241m0\u001b[39m]\u001b[38;5;241m.\u001b[39mdecode()\u001b[38;5;241m.\u001b[39mreplace(\u001b[38;5;124m'\u001b[39m\u001b[38;5;124m;\u001b[39m\u001b[38;5;124m'\u001b[39m, \u001b[38;5;124m'\u001b[39m\u001b[38;5;124m'\u001b[39m)\u001b[38;5;241m.\u001b[39msplitlines()\n\u001b[1;32m     92\u001b[0m ret \u001b[38;5;241m=\u001b[39m [line\u001b[38;5;241m.\u001b[39msplit(\u001b[38;5;124m'\u001b[39m\u001b[38;5;124m=\u001b[39m\u001b[38;5;124m'\u001b[39m, \u001b[38;5;241m1\u001b[39m) \u001b[38;5;28;01mfor\u001b[39;00m line \u001b[38;5;129;01min\u001b[39;00m ret]\n\u001b[0;32m---> 93\u001b[0m rtvars \u001b[38;5;241m=\u001b[39m \u001b[38;5;28mdict\u001b[39m((name, value[\u001b[38;5;241m1\u001b[39m:\u001b[38;5;241m-\u001b[39m\u001b[38;5;241m1\u001b[39m]) \u001b[38;5;28;01mfor\u001b[39;00m name, value \u001b[38;5;129;01min\u001b[39;00m ret) \u001b[38;5;66;03m# [1:-1] gets\u001b[39;00m\n\u001b[1;32m     94\u001b[0m                                                           \u001b[38;5;66;03m# rid of the\u001b[39;00m\n\u001b[1;32m     95\u001b[0m                                                           \u001b[38;5;66;03m# quotes\u001b[39;00m\n\u001b[1;32m     97\u001b[0m \u001b[38;5;28;01mif\u001b[39;00m rtvars[\u001b[38;5;124m'\u001b[39m\u001b[38;5;124mPLSHARED\u001b[39m\u001b[38;5;124m'\u001b[39m] \u001b[38;5;241m==\u001b[39m \u001b[38;5;124m'\u001b[39m\u001b[38;5;124mno\u001b[39m\u001b[38;5;124m'\u001b[39m:\n",
      "File \u001b[0;32m~/anaconda3/envs/knowledge/lib/python3.12/site-packages/pyswip/core.py:93\u001b[0m, in \u001b[0;36m<genexpr>\u001b[0;34m(.0)\u001b[0m\n\u001b[1;32m     91\u001b[0m ret \u001b[38;5;241m=\u001b[39m ret[\u001b[38;5;241m0\u001b[39m]\u001b[38;5;241m.\u001b[39mdecode()\u001b[38;5;241m.\u001b[39mreplace(\u001b[38;5;124m'\u001b[39m\u001b[38;5;124m;\u001b[39m\u001b[38;5;124m'\u001b[39m, \u001b[38;5;124m'\u001b[39m\u001b[38;5;124m'\u001b[39m)\u001b[38;5;241m.\u001b[39msplitlines()\n\u001b[1;32m     92\u001b[0m ret \u001b[38;5;241m=\u001b[39m [line\u001b[38;5;241m.\u001b[39msplit(\u001b[38;5;124m'\u001b[39m\u001b[38;5;124m=\u001b[39m\u001b[38;5;124m'\u001b[39m, \u001b[38;5;241m1\u001b[39m) \u001b[38;5;28;01mfor\u001b[39;00m line \u001b[38;5;129;01min\u001b[39;00m ret]\n\u001b[0;32m---> 93\u001b[0m rtvars \u001b[38;5;241m=\u001b[39m \u001b[38;5;28mdict\u001b[39m((name, value[\u001b[38;5;241m1\u001b[39m:\u001b[38;5;241m-\u001b[39m\u001b[38;5;241m1\u001b[39m]) \u001b[38;5;28;01mfor\u001b[39;00m name, value \u001b[38;5;129;01min\u001b[39;00m ret) \u001b[38;5;66;03m# [1:-1] gets\u001b[39;00m\n\u001b[1;32m     94\u001b[0m                                                           \u001b[38;5;66;03m# rid of the\u001b[39;00m\n\u001b[1;32m     95\u001b[0m                                                           \u001b[38;5;66;03m# quotes\u001b[39;00m\n\u001b[1;32m     97\u001b[0m \u001b[38;5;28;01mif\u001b[39;00m rtvars[\u001b[38;5;124m'\u001b[39m\u001b[38;5;124mPLSHARED\u001b[39m\u001b[38;5;124m'\u001b[39m] \u001b[38;5;241m==\u001b[39m \u001b[38;5;124m'\u001b[39m\u001b[38;5;124mno\u001b[39m\u001b[38;5;124m'\u001b[39m:\n",
      "\u001b[0;31mValueError\u001b[0m: not enough values to unpack (expected 2, got 1)"
     ]
    }
   ],
   "source": [
    "import os\n",
    "os.environ['SWI_HOME_DIR'] = '/opt/homebrew/Cellar/swi-prolog/9.2.3/bin/'\n",
    "from pyswip import Prolog\n",
    "\n",
    "prolog = Prolog()\n",
    "\n",
    "# # Add a fact to the Prolog knowledge base\n",
    "# prolog.assertz(\"parent(alice, bob)\")  # Alice is a parent of Bob\n",
    "\n",
    "# # Writing a query as a string\n",
    "# query = \"parent(alice, X)\"  # Who are Alice's children?\n",
    "\n",
    "# # Execute the query\n",
    "# results = list(prolog.query(query))\n",
    "# for result in results:\n",
    "#     print(result[\"X\"])  # Prints 'bob'\n"
   ]
  },
  {
   "cell_type": "code",
   "execution_count": null,
   "metadata": {},
   "outputs": [],
   "source": []
  }
 ],
 "metadata": {
  "kernelspec": {
   "display_name": "base",
   "language": "python",
   "name": "python3"
  },
  "language_info": {
   "codemirror_mode": {
    "name": "ipython",
    "version": 3
   },
   "file_extension": ".py",
   "mimetype": "text/x-python",
   "name": "python",
   "nbconvert_exporter": "python",
   "pygments_lexer": "ipython3",
   "version": "3.12.2"
  }
 },
 "nbformat": 4,
 "nbformat_minor": 2
}
