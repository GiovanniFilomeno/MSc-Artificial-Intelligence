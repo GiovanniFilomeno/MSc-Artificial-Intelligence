{
 "cells": [
  {
   "cell_type": "markdown",
   "metadata": {},
   "source": [
    "<h1 style=\"color:rgb(0,120,170)\">Assignment 6: Factor Analysis</h1>"
   ]
  },
  {
   "cell_type": "markdown",
   "metadata": {},
   "source": [
    "This material, no matter whether in printed or electronic form, may be used for personal and non-commercial educational use only. Any reproduction of this material, no matter whether as a whole or in parts, no matter whether in printed or in electronic form, requires explicit prior acceptance of the authors."
   ]
  },
  {
   "cell_type": "markdown",
   "metadata": {},
   "source": [
    "<h2 style=\"color:rgb(0,120,170)\">Task 1 (20 Points): Prove the following Lemma</h2>\n",
    "\n",
    "Show that for any matrix $X$ and any differentiable scalar-valued function $f$ it holds that \n",
    "$$\n",
    "\\frac{\\partial f(X^\\top X)}{\\partial X} = 2{X}\\frac{\\partial f(X^\\top X)}{\\partial (X^\\top X)}.\n",
    "$$\n",
    "\n",
    "########## YOUR SOLUTION HERE ##########\n",
    "\n",
    "The function $f$ is applied to the matrix product $X^\\top X$. To find the derivative of $f$ with respect to $X$, we need to apply the chain rule in matrix calculus.\n",
    "\n",
    "$$\n",
    "\\frac{\\partial g(Y)}{\\partial X} = \\frac{\\partial g(Y)}{\\partial Y} \\frac{\\partial Y}{\\partial X}.\n",
    "$$\n",
    "\n",
    "Now we calculate $\\frac{\\partial (X^\\top X)}{\\partial X}$.\n",
    "$$\n",
    "\\frac{\\partial (X^\\top X)}{\\partial X} = X \\frac{\\partial X^\\top}{\\partial X} + \\frac{\\partial X}{\\partial X} X^\\top.\n",
    "$$\n",
    "\n",
    "Since $\\frac{\\partial X^\\top}{\\partial X} = 0$ (as $X^\\top$ does not directly depend on $X$ but its transpose), and $\\frac{\\partial X}{\\partial X}$ is essentially an identity matrix in matrix calculus:\n",
    "$$\n",
    "\\frac{\\partial (X^\\top X)}{\\partial X} = 2X.\n",
    "$$\n",
    "\n",
    "Using the results back into our chain rule expression, we get:\n",
    "$$\n",
    "\\frac{\\partial f(X^\\top X)}{\\partial X} = \\frac{\\partial f(X^\\top X)}{\\partial (X^\\top X)} \\cdot 2X.\n",
    "$$\n",
    "\n",
    "Therefore, we have shown that\n",
    "$$\n",
    "\\frac{\\partial f(X^\\top X)}{\\partial X} = 2X \\frac{\\partial f(X^\\top X)}{\\partial (X^\\top X)},\n",
    "$$"
   ]
  },
  {
   "cell_type": "markdown",
   "metadata": {},
   "source": [
    "<h2 style=\"color:rgb(0,120,170)\">Task 2 (25 Points): Derive GD for FA</h2>\n",
    "\n",
    "Construct the negative log-likelihood $\\ell(\\mathbf{U}, \\mathbf{\\Psi}) = -\\log\\mathcal{L}(\\mathbf{X}; \\mathbf{U}, \\mathbf{\\Psi})$, according to the FA model assumptions and show that its gradients with respect to the model parameters are \n",
    "$$\n",
    "\\nabla_{\\mathbf{U}} \\ell(\\mathbf{U}, \\mathbf{\\Psi}) = 2 \\mathbf{P}\\mathbf{U}\n",
    "$$\n",
    "and\n",
    "$$\n",
    "\\nabla_{\\mathbf{\\Psi}} \\ell(\\mathbf{U}, \\mathbf{\\Psi}) = \\operatorname{diag}(\\mathbf{P})\n",
    "$$\n",
    ", where \n",
    "$$\n",
    "\\mathbf{P} = \\nabla_{\\mathbf{U}\\mathbf{U}^\\top + \\mathbf{\\Psi}} \\ell(\\mathbf{U}, \\mathbf{\\Psi}) = \\frac12 \\mathbf{Q} - \\frac{1}{2n} \\mathbf{Q} \\mathbf{X}^\\top \\mathbf{X} \\mathbf{Q}\n",
    "$$\n",
    "and\n",
    "$$\n",
    "\\mathbf{Q} = (\\mathbf{U}\\mathbf{U}^\\top + \\mathbf{\\Psi})^{-1}.\n",
    "$$ \n",
    "\n",
    "Hint: use the fact that if $f(\\mathbf{A})=f(\\mathbf{A}^T)$ holds for a scalar function $f$ and a real square matrix $\\mathbf{A}$ it holds that $\\nabla_{\\mathbf{X}} f(\\mathbf{X}^\\top \\mathbf{X}) = 2 \\mathbf{X} \\nabla_{\\mathbf{X}^\\top \\mathbf{X}} f(\\mathbf{X}^\\top \\mathbf{X})$. \n",
    "\n",
    "########## YOUR SOLUTION HERE ##########\n",
    "\n",
    "The negative log-likelihood (divided by $n$) is \n",
    "\n",
    "$$\n",
    "\\ell(\\mathbf{U}, \\mathbf{\\Psi}) = -\\log\\mathcal{L}(\\mathbf{X}; \\mathbf{U}, \\mathbf{\\Psi})\n",
    "= \\frac{m}{2} \\log(2 \\pi) + \\frac12 \\log \\det(\\mathbf{U}\\mathbf{U}^\\top + \\mathbf{\\Psi}) + \\frac{1}{2n} \\sum_{i=1}^n\\mathbf{x}_i^\\top (\\mathbf{U} \\mathbf{U}^\\top + \\mathbf{\\Psi})^{-1} \\mathbf{x}_i.\n",
    "$$\n",
    "\n",
    "First, we note that its gradient with respect to $(\\mathbf{U}\\mathbf{U}^\\top + \\mathbf{\\Psi})$ is \n",
    "\n",
    "$$\n",
    "\\nabla_{\\mathbf{U}\\mathbf{U}^\\top + \\mathbf{\\Psi}} \\ell(\\mathbf{U}, \\mathbf{\\Psi}) = \\frac12 (\\mathbf{U}\\mathbf{U}^\\top + \\mathbf{\\Psi})^{-1} - \\frac{1}{2} (\\mathbf{U}\\mathbf{U}^\\top + \\mathbf{\\Psi})^{-1} \\left(\\frac 1 n \\sum_{i=1}^n \\mathbf{x}_i\\mathbf{x}_i^\\top\\right) (\\mathbf{U}\\mathbf{U}^\\top + \\mathbf{\\Psi})^{-1} \\\\\n",
    "= \\frac12 (\\mathbf{U}\\mathbf{U}^\\top + \\mathbf{\\Psi})^{-1} - \\frac{1}{2n} (\\mathbf{U}\\mathbf{U}^\\top + \\mathbf{\\Psi})^{-1} \\mathbf{X}^\\top \\mathbf{X} (\\mathbf{U} \\mathbf{U}^\\top + \\mathbf{\\Psi})^{-1}\n",
    "$$\n",
    "\n",
    "by using $(X^{-1})^T = (X^T)^{-1}$ and $\\frac{d (\\mathbf{a^T A^{-1} b})}{\\mathbf{A}} = \\mathbf{A}^{-T} \\mathbf{a b}^T \\mathbf{A}^{-T}$\n",
    "\n",
    "$$\n",
    "\\nabla_{\\mathbf{U}} \\ell(\\mathbf{U}, \\mathbf{\\Psi}) = 2 \\nabla_{\\mathbf{U}\\mathbf{U}^\\top + \\mathbf{\\Psi}} \\ell(\\mathbf{U}, \\mathbf{\\Psi}) \\mathbf{U} = \\mathbf{Q}\\mathbf{U} - \\frac1n \\mathbf{Q}\\mathbf{X}^\\top \\mathbf{X}\\mathbf{Q}\\mathbf{U}.\n",
    "$$\n",
    "\n",
    "Finally, the derivative w.r.t. $\\mathbf{\\Psi}$ is \n",
    "\n",
    "$$\n",
    "\\nabla_{\\mathbf{\\Psi}}\\ell(\\mathbf{U}, \\mathbf{\\Psi}) = \\operatorname{diag}(\\nabla_{\\mathbf{U}\\mathbf{U}^\\top + \\mathbf{\\Psi}} \\ell(\\mathbf{U}, \\mathbf{\\Psi})) = \\operatorname{diag}(\\mathbf{Q} - \\frac1n \\mathbf{Q}\\mathbf{X}^\\top \\mathbf{X}\\mathbf{Q}).\n",
    "$$\n",
    "\n",
    "This is not totally precise since the derivatives w.r.t. to the off-diagonal entries of $\\mathbf{\\Psi}$ are \n",
    "not zero. Since we are only interested in the derivatives w.r.t. to the diagonal entries no harm is done discarding them. Note that the $\\operatorname{diag}$ operator sets all off-diagonal entries to zero. \n"
   ]
  },
  {
   "cell_type": "markdown",
   "metadata": {},
   "source": [
    "<h2 style=\"color:rgb(0,120,170)\">Task 3 (20 Points): Generate toy data for FA</h2>\n",
    "\n",
    "Generate an $n \\times m$ data matrix $\\mathbf{X}$, i.e. $n=100$ samples with $m=5$ features, according to the generative factor analysis model with $l=3$ factors. Further, fill $\\mathbf{U}$ with random integers from the set $\\{-3, \\dots, 3\\}$ and $\\mathbf{\\Psi}$ with random integers from the set $\\{1, \\dots, 3\\}$. To save memory, implement $\\mathbf{\\Psi}$ as a vector. "
   ]
  },
  {
   "cell_type": "code",
   "execution_count": 1,
   "metadata": {},
   "outputs": [
    {
     "data": {
      "text/plain": [
       "array([[ 1.        ,  0.6634888 ,  0.        ,  0.66666667,  0.625     ],\n",
       "       [ 0.6634888 ,  1.        , -0.25537696,  0.54062051,  0.51604685],\n",
       "       [ 0.        , -0.25537696,  1.        , -0.09622504,  0.        ],\n",
       "       [ 0.66666667,  0.54062051, -0.09622504,  1.        ,  0.83333333],\n",
       "       [ 0.625     ,  0.51604685,  0.        ,  0.83333333,  1.        ]])"
      ]
     },
     "execution_count": 1,
     "metadata": {},
     "output_type": "execute_result"
    }
   ],
   "source": [
    "%matplotlib inline\n",
    "import numpy as np\n",
    "import matplotlib.pyplot as plt\n",
    "from IPython.display import display, Math, Latex\n",
    "\n",
    "########## YOUR SOLUTION HERE ##########\n",
    "\n",
    "np.random.seed(512) \n",
    "n, m, l = 100, 5, 3\n",
    "U_ = np.random.randint(-3, 4, (m, l))\n",
    "psi_ = np.random.randint(1, 4, (m))\n",
    "\n",
    "Y = np.random.normal(size=(n, l))\n",
    "E = np.random.multivariate_normal(np.zeros(m), np.diag(psi_), n)\n",
    "X = Y @ U_.T + E\n",
    "\n",
    "sigma = U_ @ U_.T + np.diag(psi_)\n",
    "stds = np.expand_dims(np.sqrt(np.diag(sigma)), 1)\n",
    "sigma / (stds @ stds.T)"
   ]
  },
  {
   "cell_type": "markdown",
   "metadata": {},
   "source": [
    "<h2 style=\"color:rgb(0,120,170)\">Task 4 (20 Points): Implement GD for FA</h2>\n",
    "\n",
    "Use your results from the previous task to implement gradient descent on the negative log-likelihood for factor analysis. Initialize $\\mathbf{U}$ and $\\mathbf{\\Psi}$ randomly uniform in $[-0.1, 0.1]$. To speed up computations, use the matrix inversion lemma $(\\mathbf{UU}^\\top + \\mathbf{\\Psi})^{-1} = \\mathbf{\\Psi}^{-1} - \\mathbf{\\Psi}^{-1}\\mathbf{U}(\\mathbf{I} + \\mathbf{U^\\top \\mathbf{\\Psi}^{-1} \\mathbf{U}})^{-1}\\mathbf{U}^\\top \\mathbf{\\Psi}^{-1}$ wherever possible and adjust the learning rate properly. Visualize the learning progress over 100 update steps in terms of the loss function $\\ell(\\mathbf{U},\\mathbf{\\Psi})$ for 10 runs which differ only by initialization."
   ]
  },
  {
   "cell_type": "code",
   "execution_count": 4,
   "metadata": {},
   "outputs": [
    {
     "name": "stdout",
     "output_type": "stream",
     "text": [
      "Run 9"
     ]
    },
    {
     "data": {
      "image/png": "[encoded data removed]",
      "text/plain": [
       "<Figure size 640x480 with 1 Axes>"
      ]
     },
     "metadata": {},
     "output_type": "display_data"
    },
    {
     "name": "stdout",
     "output_type": "stream",
     "text": [
      "NLL for fitted parameters: 9.475136341062605  2.654308816650142\n",
      "NLL for true parameters: 7.339918555821909\n"
     ]
    }
   ],
   "source": [
    "########## YOUR SOLUTION HERE ##########\n",
    "\n",
    "def matrix_inversion_lemma(U, psi):\n",
    "    psi_inv = np.diag(1/psi)\n",
    "    return psi_inv - psi_inv @ U @ np.linalg.inv(np.eye(l) + U.T @ psi_inv @ U) @ U.T @ psi_inv\n",
    "\n",
    "def nll(U, psi, X):\n",
    "    sigma_inv = matrix_inversion_lemma(U, psi)\n",
    "    qn = ((sigma_inv @ X.T) * X.T).sum() \n",
    "    det = np.log(1 / np.linalg.det(sigma_inv))\n",
    "    return 0.5 * det + 1/(2*n) * qn\n",
    "\n",
    "nll_true_parameters = nll(U_, psi_, X)\n",
    "\n",
    "\n",
    "eta = 1e-3\n",
    "nll_curve = []\n",
    "np.random.seed(0)\n",
    "\n",
    "for run in range(10):\n",
    "    # initialize parameters\n",
    "    U = np.random.uniform(-0.1, 0.1, (m, l))\n",
    "    psi = np.random.uniform(-0.1, 0.1, (m))\n",
    "    nll_curve.append([])\n",
    "\n",
    "    for step in range(5000):\n",
    "        B = matrix_inversion_lemma(U, psi)\n",
    "        \n",
    "        # compute gradients\n",
    "        grad = 0.5 * (B - B @ X.T @ X @ B / n)\n",
    "        grad_U = 2 * grad @ U \n",
    "        grad_psi = np.diag(grad)\n",
    "        \n",
    "        # udpate parameters\n",
    "        U -= eta * grad_U\n",
    "        psi -= eta * grad_psi\n",
    "\n",
    "        # visualize learning progress\n",
    "        nll_curve[run].append(nll(U, psi, X))\n",
    "\n",
    "for curve in nll_curve:\n",
    "    plt.plot(curve)\n",
    "\n",
    "plt.axhline(nll_true_parameters, c='red', ls='--')\n",
    "plt.xlabel('Iteration')\n",
    "plt.ylabel('NLL')\n",
    "plt.yscale('log')\n",
    "plt.show()\n",
    "\n",
    "# check final nlls against true parameters, slight overfitting\n",
    "nlls_estimated = [l[-1] for l in nll_curve]\n",
    "mean_nll = np.mean(nlls_estimated)\n",
    "std_nll = np.std(nlls_estimated)\n",
    "print(f\"NLL for fitted parameters: {mean_nll}  {std_nll}\")\n",
    "print(f\"NLL for true parameters: {nll(U_, psi_, X)}\")"
   ]
  },
  {
   "cell_type": "markdown",
   "metadata": {},
   "source": [
    "<h2 style=\"color:rgb(0,120,170)\">Task 5 (20 Points): Implement EM for FA</h2>\n",
    "\n",
    "Implement expectation maximization for factor analysis. Use the same data and initialization scheme as in the previous task. Visualize the learning progress over 100 update steps in terms of the loss function $\\ell(\\mathbf{U},\\mathbf{\\Psi})$ for 10 runs which differ only by initialization. Compare your results to those in the previous exercise and interpret the ovserved differences. \n",
    "\n",
    "Use Speedups from lecture notes!"
   ]
  },
  {
   "cell_type": "code",
   "execution_count": 3,
   "metadata": {},
   "outputs": [],
   "source": [
    "########## YOUR SOLUTION HERE ##########\n",
    "\n",
    "loss_curve = []\n",
    "nll_curve = []\n",
    "C = X.T @ X / n\n",
    "np.random.seed(0)\n",
    "\n",
    "for run in range(10):\n",
    "    U = np.random.uniform(-0.1, 0.1, (m, l))\n",
    "    psi = np.random.uniform(-0.1, 0.1, (m))\n",
    "    nll_curve.append([])\n",
    "\n",
    "    for step in range(100):\n",
    "        B = matrix_inversion_lemma(U, psi)        \n",
    "        M = X @ B @ U\n",
    "        S = np.einsum('ij,ik->ijk', M, M) + np.eye(l) - U.T @ B @ U\n",
    "        P = X.T @ M / n\n",
    "        U = P @ np.linalg.inv(S.sum(0) / n)\n",
    "        psi = np.diag(C - P @ U.T)\n",
    "        \n",
    "        nll_curve[run].append(nll(U, psi, X))"
   ]
  },
  {
   "cell_type": "code",
   "execution_count": null,
   "metadata": {},
   "outputs": [],
   "source": [
    "for curve in nll_curve:\n",
    "    plt.plot(curve)\n",
    "\n",
    "plt.axhline(nll_true_parameters, c='red', ls='--')\n",
    "plt.xlabel('Iteration')\n",
    "plt.ylabel('NLL')\n",
    "plt.yscale('log')\n",
    "plt.show()"
   ]
  }
 ],
 "metadata": {
  "kernelspec": {
   "display_name": "Python 3 (ipykernel)",
   "language": "python",
   "name": "python3"
  },
  "language_info": {
   "codemirror_mode": {
    "name": "ipython",
    "version": 3
   },
   "file_extension": ".py",
   "mimetype": "text/x-python",
   "name": "python",
   "nbconvert_exporter": "python",
   "pygments_lexer": "ipython3",
   "version": "3.12.2"
  }
 },
 "nbformat": 4,
 "nbformat_minor": 4
}
