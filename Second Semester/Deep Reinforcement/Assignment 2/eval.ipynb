{
 "cells": [
  {
   "cell_type": "code",
   "execution_count": 1,
   "metadata": {},
   "outputs": [
    {
     "name": "stderr",
     "output_type": "stream",
     "text": [
      "c:\\Users\\Q540900\\AppData\\Local\\anaconda3\\envs\\dRL\\lib\\site-packages\\onnx2pytorch\\convert\\layer.py:30: UserWarning: The given NumPy array is not writable, and PyTorch does not support non-writable tensors. This means writing to this tensor will result in undefined behavior. You may want to copy the array to protect its data or make it writable before converting it to a tensor. This type of warning will be suppressed for the rest of this program. (Triggered internally at C:\\cb\\pytorch_1000000000000\\work\\torch\\csrc\\utils\\tensor_numpy.cpp:212.)\n",
      "  layer.weight.data = torch.from_numpy(numpy_helper.to_array(weight))\n"
     ]
    },
    {
     "name": "stdout",
     "output_type": "stream",
     "text": [
      "Mean score over 50 episodes: 0.69\n"
     ]
    }
   ],
   "source": [
    "# Evaluate_Model.ipynb\n",
    "\n",
    "# Cell 1: Import Necessary Modules and Set Up Paths\n",
    "import os\n",
    "import numpy as np\n",
    "import torch\n",
    "from onnx2pytorch import ConvertModel\n",
    "import onnx\n",
    "import minigrid_eval\n",
    "\n",
    "# Set the path to your model file\n",
    "model_file = 'submission_model_new.onnx'\n",
    "\n",
    "# Check if CUDA is available and set device\n",
    "device = torch.device(\"cuda\" if torch.cuda.is_available() else \"cpu\")\n",
    "\n",
    "# Load the model using onnx2pytorch\n",
    "model = ConvertModel(onnx.load(model_file))\n",
    "model.eval()\n",
    "model = model.to(device)\n",
    "\n",
    "# Initialize the agent\n",
    "agent = minigrid_eval.Agent(model=model, device=device)\n",
    "\n",
    "# Cell 2: Evaluate the Model\n",
    "# Function to evaluate the agent\n",
    "def evaluate_agent(agent, n_episodes=50, seed=None):\n",
    "    scores = []\n",
    "    for _ in range(n_episodes):\n",
    "        if seed is not None:\n",
    "            seed = np.random.randint(1e7)\n",
    "        score = minigrid_eval.run_episode(agent, seed=seed)\n",
    "        scores.append(score)\n",
    "    return np.mean(scores)\n",
    "\n",
    "# Evaluate the agent\n",
    "mean_score = evaluate_agent(agent, n_episodes=50)\n",
    "print(f'Mean score over 50 episodes: {mean_score:.2f}')\n"
   ]
  },
  {
   "cell_type": "code",
   "execution_count": null,
   "metadata": {},
   "outputs": [],
   "source": []
  }
 ],
 "metadata": {
  "kernelspec": {
   "display_name": "dRL",
   "language": "python",
   "name": "python3"
  },
  "language_info": {
   "codemirror_mode": {
    "name": "ipython",
    "version": 3
   },
   "file_extension": ".py",
   "mimetype": "text/x-python",
   "name": "python",
   "nbconvert_exporter": "python",
   "pygments_lexer": "ipython3",
   "version": "3.8.19"
  }
 },
 "nbformat": 4,
 "nbformat_minor": 2
}
