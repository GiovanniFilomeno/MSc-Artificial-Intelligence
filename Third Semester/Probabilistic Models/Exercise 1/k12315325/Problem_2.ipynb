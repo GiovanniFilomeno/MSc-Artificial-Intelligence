{
 "cells": [
  {
   "cell_type": "code",
   "execution_count": 1,
   "id": "8ca36a17",
   "metadata": {
    "deletable": false,
    "editable": false,
    "nbgrader": {
     "cell_type": "code",
     "checksum": "bf4edfab2cd9dc5728c12e9d21f7c91e",
     "grade": false,
     "grade_id": "cell-686cb3d799ec8a43",
     "locked": true,
     "schema_version": 3,
     "solution": false,
     "task": false
    },
    "slideshow": {
     "slide_type": ""
    },
    "tags": []
   },
   "outputs": [],
   "source": [
    "import numpy as np\n",
    "from helpers import print_table"
   ]
  },
  {
   "cell_type": "markdown",
   "id": "3796dad0",
   "metadata": {
    "deletable": false,
    "editable": false,
    "nbgrader": {
     "cell_type": "markdown",
     "checksum": "e0587286227d1be31789987ef122fc1c",
     "grade": false,
     "grade_id": "cell-73f8efb96600e317",
     "locked": true,
     "schema_version": 3,
     "solution": false,
     "task": false
    }
   },
   "source": [
    "# 2. Pairwise vs. Mutual Independence (6 points)\n",
    "\n",
    "**Definition**: We say that two random variables are *pairwise independent* if $$p(X_n \\mid X_m) = p(X_n)$$ and hence $$p(X_m, X_n) =  p(X_n \\mid X_m) p(X_m) = p(X_n) p(X_m) $$\n",
    "\n",
    "**Definition**: We say that $n$ random variables are *mutually independent* if $$p(X_i \\mid X_{S}) = p(X_i)\\;\\; \\forall S \\subseteq \\{1, \\dots, n\\} \\setminus \\{ i \\}$$ and hence $$p(X_{1:n}) = \\prod_{i=1}^n p(X_i)$$\n",
    "\n",
    "\n",
    "\n",
    "\n",
    "<div class=\"alert alert-warning\">\n",
    "Show that pairwise independence between all pairs of variables does not necessarily imply mutual independence. Come up with a minimal counter example that has exactly three binary random variables.\n",
    "</div>\n",
    "\n",
    "Specify this counterexample via its full joint distribution table (FJDT). **Briefly** outline your thought process in the text field below (use $\\LaTeX$ and markdown) and store the model's full joint distribution table into the `XYZ` variable. It is sufficient to show pairwise independence and non-mutual independence by comparing products of marginals and joint distributions. \n",
    "\n",
    "**Hint**: Copy your implementation of `inference_by_enumeration` from Problem 1. You can use `print_table` to visualize your distribution tables such as the FJDT, products of marginals, and joint distributions."
   ]
  },
  {
   "cell_type": "code",
   "execution_count": 2,
   "id": "47663319",
   "metadata": {
    "deletable": false,
    "editable": false,
    "nbgrader": {
     "cell_type": "code",
     "checksum": "762aadb6b57567c75e543872c27732ff",
     "grade": false,
     "grade_id": "cell-1c3382c777224895",
     "locked": true,
     "schema_version": 3,
     "solution": false,
     "task": false
    }
   },
   "outputs": [
    {
     "name": "stdout",
     "output_type": "stream",
     "text": [
      "Help on function print_table in module helpers:\n",
      "\n",
      "print_table(probability_table: numpy.ndarray, variable_names: str) -> None\n",
      "    Prints a probability distribution table.\n",
      "    \n",
      "    Parameters\n",
      "    ----------\n",
      "    probability_table : np.ndarray\n",
      "        The probability distribution table\n",
      "    variable_names : str\n",
      "        A string containing the variable names, e.g., 'CDE'.\n",
      "    \n",
      "    Returns\n",
      "    -------\n",
      "    None\n",
      "\n"
     ]
    }
   ],
   "source": [
    "help(print_table)"
   ]
  },
  {
   "cell_type": "markdown",
   "id": "4913b5dc",
   "metadata": {
    "deletable": false,
    "nbgrader": {
     "cell_type": "markdown",
     "checksum": "0fc1123a3a6796ef6275f1f58cb4ff0c",
     "grade": true,
     "grade_id": "cell-6ced5d0ec1cbd764",
     "locked": false,
     "points": 2,
     "schema_version": 3,
     "solution": true,
     "task": false
    }
   },
   "source": [
    "YOUR ANSWER HERE\n",
    "\n",
    "#### Counter example  \n",
    "$P(X, Y, Z)$ defined as: \n",
    "\n",
    "- $P(X=0, Y=0, Z=0) = \\frac{1}{4}$\n",
    "\n",
    "- $P(X=0, Y=1, Z=1) = \\frac{1}{4}$\n",
    "\n",
    "- $P(X=1, Y=0, Z=1) = \\frac{1}{4}$\n",
    "\n",
    "- $P(X=1, Y=1, Z=0) = \\frac{1}{4}$\n",
    "\n",
    "- while all other combinations are zero. \n",
    "\n",
    "#### Marginal distributions (as requested by the exercise)\n",
    "The marginal distributions can be defined as: \n",
    "\n",
    "- $P(X=0) = P(X=0, Y=0, Z=0) + P(X=0, Y=1, Z=1) = \\frac{1}{4} + \\frac{1}{4} = \\frac{1}{2}$\n",
    "\n",
    "- $P(Y=0) = P(X=0, Y=0, Z=0) + P(X=1, Y=0, Z=1) = \\frac{1}{4} + \\frac{1}{4} = \\frac{1}{2}$\n",
    "\n",
    "- $P(Z=0) = P(X=0, Y=0, Z=0) + P(X=1, Y=1, Z=0) = \\frac{1}{4} + \\frac{1}{4} = \\frac{1}{2}$\n",
    "\n",
    "- same applies to $P(X=1)$, $P(Y=1)$ and $P(Z=1)$ which are equal to $1/2$\n",
    "\n",
    "#### Pairwise Independence (as requested by the exercise)\n",
    "The pairwise independence is defined as:\n",
    "\n",
    "- $P(X=0, Y=0) = P(X=0, Y=0, Z=0) = \\frac{1}{4}$\n",
    "\n",
    "- $P(X=0, Y=1) = P(X=0, Y=1, Z=1) = \\frac{1}{4}$\n",
    "\n",
    "- $P(X=1, Y=0) = P(X=1, Y=0, Z=1) = \\frac{1}{4}$\n",
    "\n",
    "- $P(X=1, Y=1) = P(X=1, Y=1, Z=0) = \\frac{1}{4}$\n",
    "\n",
    "which leads to: \n",
    "\n",
    "$$\n",
    "P(X=i)P(Y=j) = \\frac{1}{2} \\cdot \\frac{1}{2} = \\frac{1}{4}, \\forall i,j \\in {0,1}\n",
    "$$\n",
    "\n",
    "Similarly, it can be proof that the variable $X$ and $Z$, as well as $Y$ and $Z$ are independent.\n",
    "\n",
    "#### Non-mutual Indipendence:\n",
    "\n",
    "The mutual independence is respected if $P(X,Y,Z) = P(X) P(Y) P(Z)$, however we calculated that $P(X,Y,Z) = \\frac{1}{4}$ while $P(X) P(Y) P(Z) = \\frac{1}{2} \\cdot \\frac{1}{2} \\cdot \\frac{1}{2} = \\frac{1}{8}$. The pairwise independence does not imply mutual independence. "
   ]
  },
  {
   "cell_type": "code",
   "execution_count": 3,
   "id": "aac187ff",
   "metadata": {
    "deletable": false,
    "nbgrader": {
     "cell_type": "code",
     "checksum": "00271c6bdb0b928a11b9ff99d368237c",
     "grade": false,
     "grade_id": "cell-7f0b4fa0aa65bb39",
     "locked": false,
     "schema_version": 3,
     "solution": true,
     "task": false
    }
   },
   "outputs": [],
   "source": [
    "XYZ = np.zeros((2,2,2))\n",
    "\n",
    "# YOUR CODE HERE\n",
    "# raise NotImplementedError()\n",
    "\n",
    "XYZ[0, 0, 0] = 0.25  \n",
    "XYZ[0, 1, 1] = 0.25  \n",
    "XYZ[1, 0, 1] = 0.25  \n",
    "XYZ[1, 1, 0] = 0.25  \n"
   ]
  },
  {
   "cell_type": "code",
   "execution_count": 4,
   "id": "a58a1074",
   "metadata": {
    "deletable": false,
    "nbgrader": {
     "cell_type": "code",
     "checksum": "d3a8ca023ad6c3e1a32e248e3e1db8fc",
     "grade": false,
     "grade_id": "cell-1486738b77c0d868",
     "locked": false,
     "schema_version": 3,
     "solution": true,
     "task": false
    }
   },
   "outputs": [
    {
     "name": "stdout",
     "output_type": "stream",
     "text": [
      "X and Y are independent: True\n",
      "X and Z are independent: True\n",
      "Y and Z are independent: True\n",
      "X, Y, Z are mutually independent: False\n"
     ]
    }
   ],
   "source": [
    "# copy inference_by_enumeration from Problem 1 & print and compare the probability tables here!\n",
    "\n",
    "# YOUR CODE HERE\n",
    "# raise NotImplementedError()\n",
    "\n",
    "# Copied from previous exercise\n",
    "\n",
    "def inference_by_enumeration(\n",
    "    FJDT: np.ndarray, \n",
    "    query_variable_indices: tuple, \n",
    "    evidence_variable_indices: tuple = tuple()\n",
    ") -> np.ndarray:\n",
    "    '''\n",
    "    Constructs a conditional probability table (CPT) from the full joint distribution.\n",
    "    :param FJDT: The full joint distribution table as a np.ndarray.\n",
    "    :param query_var: A tuple of indices representing the query variables.\n",
    "    :param cond_var: A tuple of indices representing the conditioning variables.\n",
    "    :returns: The conditional probability table (CPT) as a np.ndarray.\n",
    "    '''\n",
    "    assert type(FJDT) == np.ndarray, \"FJDT must be a np.ndarray\"\n",
    "    assert type(query_variable_indices) == tuple, \"query_variable_indices must be a tuple\"\n",
    "    assert type(evidence_variable_indices) == tuple, \"evidence_variable_indices must be a tuple\"\n",
    "\n",
    "    all_vars = set(range(FJDT.ndim))\n",
    "    query_vars = set(query_variable_indices)\n",
    "    evidence_vars = set(evidence_variable_indices)\n",
    "    hidden_vars = list(all_vars - query_vars - evidence_vars)\n",
    "\n",
    "    marginalized = FJDT.sum(axis=tuple(hidden_vars), keepdims=True)\n",
    "\n",
    "    sum_over_query = marginalized.sum(axis=tuple(query_variable_indices), keepdims=True)\n",
    "\n",
    "    # In case of division by 0\n",
    "    with np.errstate(divide='ignore', invalid='ignore'):\n",
    "            cpt = marginalized / sum_over_query\n",
    "            cpt[~np.isfinite(cpt)] = 0\n",
    "    \n",
    "    # YOUR CODE HERE\n",
    "    # raise NotImplementedError()\n",
    "    return cpt\n",
    "\n",
    "X = 0\n",
    "Y = 1\n",
    "Z = 2\n",
    "\n",
    "# Marginal distributiona\n",
    "P_X = inference_by_enumeration(XYZ, (X,), ())\n",
    "P_Y = inference_by_enumeration(XYZ, (Y,), ())\n",
    "P_Z = inference_by_enumeration(XYZ, (Z,), ())\n",
    "\n",
    "# Joint distributions\n",
    "P_XY = inference_by_enumeration(XYZ, (X, Y), ())\n",
    "P_XZ = inference_by_enumeration(XYZ, (X, Z), ())\n",
    "P_YZ = inference_by_enumeration(XYZ, (Y, Z), ())\n",
    "\n",
    "# Product of marginals\n",
    "PX_PY = P_X * P_Y\n",
    "PX_PZ = P_X * P_Z\n",
    "PY_PZ = P_Y * P_Z\n",
    "PX_PY_PZ = P_X * P_Y * P_Z\n",
    "\n",
    "print(\"X and Y are independent:\", np.allclose(P_XY, PX_PY))\n",
    "print(\"X and Z are independent:\", np.allclose(P_XZ, PX_PZ))\n",
    "print(\"Y and Z are independent:\", np.allclose(P_YZ, PY_PZ))\n",
    "print(\"X, Y, Z are mutually independent:\", np.allclose(XYZ, PX_PY_PZ))"
   ]
  },
  {
   "cell_type": "code",
   "execution_count": 5,
   "id": "5d5376c1",
   "metadata": {
    "deletable": false,
    "editable": false,
    "nbgrader": {
     "cell_type": "code",
     "checksum": "a6171309d3dbc1b8202ad85fdddde70a",
     "grade": true,
     "grade_id": "cell-b612791dd41278bf",
     "locked": true,
     "points": 4,
     "schema_version": 3,
     "solution": false,
     "task": false
    }
   },
   "outputs": [],
   "source": [
    "assert XYZ.shape == (2, 2, 2), 'FJDT must have shape (2,2,2)'\n",
    "assert np.isclose(XYZ.sum(), 1), 'Probabilites in FJDT must sum to one'\n"
   ]
  }
 ],
 "metadata": {
  "kernelspec": {
   "display_name": "probabilistic",
   "language": "python",
   "name": "python3"
  },
  "language_info": {
   "codemirror_mode": {
    "name": "ipython",
    "version": 3
   },
   "file_extension": ".py",
   "mimetype": "text/x-python",
   "name": "python",
   "nbconvert_exporter": "python",
   "pygments_lexer": "ipython3",
   "version": "3.11.9"
  }
 },
 "nbformat": 4,
 "nbformat_minor": 5
}
