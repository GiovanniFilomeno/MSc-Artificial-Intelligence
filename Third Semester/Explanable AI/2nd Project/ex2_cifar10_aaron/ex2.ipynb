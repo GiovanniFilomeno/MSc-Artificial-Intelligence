{
 "cells": [
  {
   "cell_type": "raw",
   "id": "796f757a-3fce-474c-904f-e863930029d5",
   "metadata": {
    "vscode": {
     "languageId": "raw"
    }
   },
   "source": [
    "!pip install shutup"
   ]
  },
  {
   "cell_type": "code",
   "execution_count": null,
   "id": "0e093966-d972-42f8-ba34-49ca15d641a8",
   "metadata": {},
   "outputs": [],
   "source": [
    "import shutup; shutup.please() # disable warnings\n",
    "import numpy as np\n",
    "import torch\n",
    "import matplotlib.pyplot as plt\n",
    "\n",
    "from cifar10_utils import load_data, im_show, Net, train_model, load_saved_model, test_model\n",
    "\n",
    "model = None\n",
    "\n",
    "# check device\n",
    "if torch.cuda.is_available():\n",
    "    device = torch.device(\"cuda\")\n",
    "    print(f\"Using CUDA: {torch.cuda.get_device_name(0)}\")\n",
    "elif torch.backends.mps.is_available():\n",
    "    device = torch.device(\"mps\")\n",
    "    print(\"Using Metal Performance Shaders (MPS)\")\n",
    "else:\n",
    "    device = torch.device(\"cpu\")\n",
    "    print(\"Using CPU\")"
   ]
  },
  {
   "cell_type": "markdown",
   "id": "59d6bbf8-9816-49fb-bae8-7a9df5e0e1df",
   "metadata": {},
   "source": [
    "## Collect data for the Visualizations using a CNN trained on Cifar10"
   ]
  },
  {
   "cell_type": "markdown",
   "id": "ba91f1ef-e363-4762-b6a1-bd998146d0b2",
   "metadata": {},
   "source": [
    "### Load and check out the dataset"
   ]
  },
  {
   "cell_type": "code",
   "execution_count": null,
   "id": "4d085da2-49a9-46fa-a489-565036112945",
   "metadata": {},
   "outputs": [],
   "source": [
    "# load data\n",
    "train_loader, valid_loader, test_loader = load_data(batch_size=20)\n",
    "\n",
    "# specify the image classes\n",
    "classes = ['airplane', 'automobile', 'bird', 'cat', 'deer', 'dog', 'frog', 'horse', 'ship', 'truck']"
   ]
  },
  {
   "cell_type": "code",
   "execution_count": null,
   "id": "8519e94b-f56d-4a86-b754-14f66fa91dc5",
   "metadata": {},
   "outputs": [],
   "source": [
    "# obtain one batch of training images\n",
    "dataiter = iter(train_loader)\n",
    "images, labels = next(dataiter)\n",
    "images = images.numpy() # convert images to numpy for display\n",
    "\n",
    "# plot the images in the batch, along with the corresponding labels\n",
    "fig = plt.figure(figsize=(25, 4))\n",
    "# display 20 images\n",
    "for idx in np.arange(20):\n",
    "    ax = fig.add_subplot(2, int(20/2), idx+1, xticks=[], yticks=[])\n",
    "    im_show(images[idx])\n",
    "    ax.set_title(classes[labels[idx]])"
   ]
  },
  {
   "cell_type": "markdown",
   "id": "9b234f6e-542b-44d0-8f37-417f36c44573",
   "metadata": {},
   "source": [
    "### Train a CNN on the Cifar10 dataset"
   ]
  },
  {
   "cell_type": "code",
   "execution_count": null,
   "id": "ed9bc91e-dbbb-4fca-aad2-b5edab033c56",
   "metadata": {},
   "outputs": [],
   "source": [
    "# initialize and train model\n",
    "model = Net()\n",
    "train_losses = train_model(model, train_loader, valid_loader, device, n_epochs=120, lr=0.01)"
   ]
  },
  {
   "cell_type": "markdown",
   "id": "b84aa3d2-420e-4c6b-9f2a-0498499c4ccb",
   "metadata": {},
   "source": [
    "### Evaluate the trained model on the test set"
   ]
  },
  {
   "cell_type": "code",
   "execution_count": null,
   "id": "e015a76f-1ec6-491d-9c46-d76dfe906b7e",
   "metadata": {},
   "outputs": [],
   "source": [
    "# test model\n",
    "if not model: model = load_saved_model(device=device)\n",
    "test_model(model, test_loader, device)"
   ]
  },
  {
   "cell_type": "markdown",
   "id": "ce06e97b-32c1-4201-a68a-71b8a5b85c00",
   "metadata": {},
   "source": [
    "### Evaluate the trained model on the test set while collecting activations\n",
    "\n",
    "We enable save_act and get a list containing the layer-wise activations per batch. <br>\n",
    "Maybe not all of these activations will be needed. <br>\n",
    "Look at self.conv_layer and self.fc_layer of Net in cifar10_utils.py"
   ]
  },
  {
   "cell_type": "code",
   "execution_count": null,
   "id": "c444cac7-f9bd-43e8-9833-e24ebc694b19",
   "metadata": {},
   "outputs": [],
   "source": [
    "# test model and collect activations\n",
    "if not model: model = load_saved_model(device=device)\n",
    "activations = test_model(model, test_loader, device, True)"
   ]
  },
  {
   "cell_type": "code",
   "execution_count": null,
   "id": "b84cb4b5-474d-4305-aeb0-ab1efb10877d",
   "metadata": {},
   "outputs": [],
   "source": [
    "activations[0].keys()"
   ]
  },
  {
   "cell_type": "code",
   "execution_count": null,
   "id": "f61b3825-7664-4e71-83f2-897fd4bcd775",
   "metadata": {},
   "outputs": [],
   "source": []
  }
 ],
 "metadata": {
  "kernelspec": {
   "display_name": "xai_model_explanation",
   "language": "python",
   "name": "python3"
  },
  "language_info": {
   "codemirror_mode": {
    "name": "ipython",
    "version": 3
   },
   "file_extension": ".py",
   "mimetype": "text/x-python",
   "name": "python",
   "nbconvert_exporter": "python",
   "pygments_lexer": "ipython3",
   "version": "3.8.20"
  }
 },
 "nbformat": 4,
 "nbformat_minor": 5
}
