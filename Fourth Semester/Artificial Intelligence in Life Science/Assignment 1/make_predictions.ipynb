{
 "cells": [
  {
   "cell_type": "code",
   "execution_count": 4,
   "metadata": {},
   "outputs": [
    {
     "name": "stderr",
     "output_type": "stream",
     "text": [
      "[16:01:42] WARNING: not removing hydrogen atom without neighbors\n",
      "[16:01:42] WARNING: not removing hydrogen atom without neighbors\n",
      "[16:01:42] WARNING: not removing hydrogen atom without neighbors\n",
      "[16:01:42] WARNING: not removing hydrogen atom without neighbors\n"
     ]
    },
    {
     "name": "stdout",
     "output_type": "stream",
     "text": [
      "Predizioni salvate in predictions_rf.csv\n"
     ]
    }
   ],
   "source": [
    "import numpy as np\n",
    "import pandas as pd\n",
    "import joblib  # per caricare i modelli Random Forest salvati con dump(...)\n",
    "\n",
    "from rdkit import Chem\n",
    "from rdkit.Chem import AllChem, DataStructs\n",
    "from rdkit.Chem import rdFingerprintGenerator\n",
    "\n",
    "######################################\n",
    "# 1) Funzione smiles_to_fp\n",
    "######################################\n",
    "def smiles_to_fp(smiles, radius=2, nBits=1024):\n",
    "    mol = Chem.MolFromSmiles(smiles)\n",
    "    if mol is None:\n",
    "        return np.zeros(nBits, dtype=np.uint8)\n",
    "    fpgen = rdFingerprintGenerator.GetMorganGenerator(radius=radius, fpSize=nBits)\n",
    "    fp = fpgen.GetFingerprint(mol)\n",
    "    arr = np.zeros((nBits,), dtype=np.uint8)\n",
    "    DataStructs.ConvertToNumpyArray(fp, arr)\n",
    "    return arr\n",
    "\n",
    "######################################\n",
    "# 2) Caricamento file test + fingerprint\n",
    "######################################\n",
    "df_test = pd.read_csv(\"data/smiles_test.csv\")  # con colonna \"smiles\"\n",
    "nBits = 1024  # deve corrispondere a quello usato in training\n",
    "X_list = [smiles_to_fp(s, nBits=nBits) for s in df_test[\"smiles\"]]\n",
    "X_test = np.array(X_list, dtype=np.float32)\n",
    "\n",
    "######################################\n",
    "# 3) Carica i modelli e predici\n",
    "######################################\n",
    "task_probs = []  # per salvare le predizioni di ogni task\n",
    "\n",
    "for i in range(1, 12):\n",
    "    model_path = f\"best_models/rf_task{i}.joblib\"\n",
    "    try:\n",
    "        rf_model = joblib.load(model_path)\n",
    "    except FileNotFoundError:\n",
    "        print(f\"Modello {model_path} non trovato. Inserisco colonna di NaN.\")\n",
    "        # Se il modello non esiste, puoi mettere 0.5 oppure np.nan\n",
    "        probs_i = np.full(len(X_test), np.nan, dtype=np.float32)\n",
    "        task_probs.append(probs_i)\n",
    "        continue\n",
    "    \n",
    "    # Previsione di probabilità (classe=1) su X_test\n",
    "    y_proba = rf_model.predict_proba(X_test)[:, 1]  # shape (N,)\n",
    "    task_probs.append(y_proba)\n",
    "\n",
    "######################################\n",
    "# 4) Costruiamo il DataFrame di output\n",
    "######################################\n",
    "# Trasponiamo per avere shape (N, 11)\n",
    "probs_matrix = np.column_stack(task_probs)  # (N, 11)\n",
    "task_names = [f\"task{i}\" for i in range(1, 12)]\n",
    "df_preds = pd.DataFrame(probs_matrix, columns=task_names)\n",
    "\n",
    "######################################\n",
    "# 5) Inserisci colonna di indici (senza nome)\n",
    "######################################\n",
    "df_preds.insert(0, '', range(len(df_preds)))  # colonna di indici 0..N-1\n",
    "\n",
    "######################################\n",
    "# 6) Salva in CSV\n",
    "######################################\n",
    "df_preds.to_csv(\"predictions_rf.csv\", index=False)\n",
    "print(\"Predizioni salvate in predictions_rf.csv\")\n"
   ]
  }
 ],
 "metadata": {
  "kernelspec": {
   "display_name": "retina",
   "language": "python",
   "name": "python3"
  },
  "language_info": {
   "codemirror_mode": {
    "name": "ipython",
    "version": 3
   },
   "file_extension": ".py",
   "mimetype": "text/x-python",
   "name": "python",
   "nbconvert_exporter": "python",
   "pygments_lexer": "ipython3",
   "version": "3.12.8"
  }
 },
 "nbformat": 4,
 "nbformat_minor": 2
}
