{
 "cells": [
  {
   "cell_type": "markdown",
   "id": "3ef6227e",
   "metadata": {},
   "source": [
    "*UE Learning from User-generated Data, CP MMS, JKU Linz 2025*\n",
    "# Exercise 4: Evaluation\n",
    "\n",
    "Evaluating a recommender system using offline metrics is crucial to ensuring its quality before deployment. The choice of evaluation metrics is typically guided by the specific application scenario of the recommendation system. Therefore, it is essential to understand how each metric is calculated and what it measures.\n",
    "\n",
    "In this exercise we evaluate accuracy of the three different RecSys we already implemented (``TopPop``, ``ItemKNN`` and ``SVD``). The first two tasks are about predictive quality metrics, precisely about ``Precision@K`` and ``Recall@K`` respectively. Afterwards, we take a look into ranking quality metrics, especially into ``DCG`` and ``nDCG``. At the end all three recommender systems are evaluated based on these metrics. \n",
    "\n",
    "The implementations for the three recommender systems are provided in a file ``rec.py`` and are imported later in the notebook.\n",
    "\n",
    "Make sure to rename the notebook according to the convention:\n",
    "\n",
    "LUD25_ex04_k<font color='red'><Matr. Number\\></font>_<font color='red'><Surname-Name\\></font>.ipynb\n",
    "\n",
    "for example:\n",
    "\n",
    "LUD25_ex04_k000007_Bond_James.ipynb"
   ]
  },
  {
   "cell_type": "markdown",
   "id": "a9fa9f03",
   "metadata": {},
   "source": [
    "## Overview\n",
    "\n",
    "Please consult the lecture slides and the presentation from UE Session 4 for a recap.\n",
    "\n",
    "|Metric|Range|Selection criteria|Limitation|\n",
    "|------|-------------------------------|---------|----------|\n",
    "|Precision|$\\geq 0$ and $\\leq 1$|The closer to $1$ the better.|Only for hits in recommendations. Rank-agnostic.                                                        |\n",
    "|Recall|$\\geq 0$ and $\\leq 1$|The closer to $1$ the better.|Only for hits in the ground truth. Rank-agnostic.                                                          |\n",
    "|nDCG|$\\geq 0$ and $\\leq 1$|The closer to $1$ the better.|Does not penalize for irrelevant/missing items in the ranking. For example, the following two recommended lists 1,1,1 and 1,1,1,0 would be considered equally good, even if the latter contains an irrelevant item. |"
   ]
  },
  {
   "cell_type": "markdown",
   "id": "03f384d4",
   "metadata": {},
   "source": [
    "## Implementation\n",
    "In this exercise, as before, you are reqired to write a number of functions. Only implemented functions are graded. Insert your implementations into the templates provided. Please don't change the templates even if they are not pretty. Don't forget to test your implementation for correctness and efficiency. **Make sure to try your implementations on toy examples and sanity checks.**\n",
    "\n",
    "Please **only use libraries already imported in the notebook**."
   ]
  },
  {
   "cell_type": "code",
   "execution_count": 1,
   "id": "8fe8120b",
   "metadata": {
    "ExecuteTime": {
     "end_time": "2024-06-07T16:43:22.985329Z",
     "start_time": "2024-06-07T16:43:22.479643Z"
    }
   },
   "outputs": [],
   "source": [
    "import pandas as pd\n",
    "import numpy as np\n",
    "from typing import Callable"
   ]
  },
  {
   "cell_type": "markdown",
   "id": "3383c3f4",
   "metadata": {},
   "source": [
    "## <font color='red'>TASK 1/3</font>: Predictive Quality Metrics"
   ]
  },
  {
   "cell_type": "markdown",
   "id": "35b27f2c",
   "metadata": {},
   "source": [
    "### Precision@K\n",
    "\n",
    "Precision@k evaluates *how many items in the recommendation list are relevant* (hit) in the ground-truth data. Precision@K is calculated separately for every user and then averaged across all users. For each user, the precision score is normalized by **k**.\n",
    "\n",
    "It is defined as:\n",
    "\n",
    "$Precision@K = \\frac{1}{|Users|} \\sum_{u \\in Users} \\frac{|\\text{Relevant items}_u \\cap \\text{Recommended Items}_u(K)|}{K}$\n",
    "\n",
    "\n",
    "#### Input:\n",
    "* prediction - (**not** an interaction matrix!) numpy array with recommendations. Row index corresponds to ``user_id``, column index corresponds to the rank of the contained recommended item. Every cell (i,j) contains ``item id`` recommended to the user (i) on the position (j) in the list. For example:\n",
    "\n",
    "The following predictions ``[[12, 7, 99], [0, 97, 6]]`` mean that the user with ``id==1`` (second row) got recommended item **0** on the top of the list, item **97** on the second place and item **6** on the third place.\n",
    "\n",
    "* test_interaction_matrix - (plain interaction matrix, the same format as before!) interaction matrix built from interactions held out as a test set, rows - users, columns - items, cells - 0 or 1\n",
    "\n",
    "* topK - integer - top \"how many\" to consider for the evaluation. By default top 10 items are to be considered\n",
    "\n",
    "#### Output:\n",
    "* average ``Precision@k`` score across all users"
   ]
  },
  {
   "cell_type": "code",
   "execution_count": 2,
   "id": "de109f19",
   "metadata": {},
   "outputs": [],
   "source": [
    "def get_pk_score(predictions: np.ndarray, test_interaction_matrix: np.ndarray, topK=10) -> float:\n",
    "    \"\"\"\n",
    "    predictions - np.ndarray, predictions of the recommendation algorithm for each user;\n",
    "    test_interaction_matrix - np.ndarray, test interaction matrix for each user;\n",
    "    topK - int, topK recommendations should be evaluated;\n",
    "    \n",
    "    returns - float, average precision@K score over all users;\n",
    "    \"\"\"\n",
    "    score = None\n",
    "    \n",
    "    # TODO: YOUR IMPLEMENTATION.\n",
    "\n",
    "    precision = []\n",
    "\n",
    "    for user, user_pred in enumerate(predictions):\n",
    "        user_rec = user_pred[:topK]\n",
    "        num = np.count_nonzero(test_interaction_matrix[user][user_rec])\n",
    "        precision.append(num/topK)\n",
    "\n",
    "    score = np.mean(precision)\n",
    "    return score"
   ]
  },
  {
   "cell_type": "code",
   "execution_count": 3,
   "id": "c620ac66",
   "metadata": {},
   "outputs": [],
   "source": [
    "predictions = np.array([[0, 1, 2, 3], [3, 2, 1, 0]])\n",
    "test_interaction_matrix = np.array([[1, 0, 0, 0], [0, 0, 0, 1]])\n",
    "\n",
    "pk_score = get_pk_score(predictions, test_interaction_matrix, topK=4)\n",
    "\n",
    "assert np.isclose(pk_score, 0.25), \"precision@K score is incorrect.\""
   ]
  },
  {
   "cell_type": "markdown",
   "id": "24e01193",
   "metadata": {},
   "source": [
    "### Recall@K\n",
    "\n",
    "Recall@k evaluates *how many relevant items in the ground-truth data are in the recommendation list*. Recall@K is calculated separately for every user and then averaged across all users. For each user, the recall score is normalized by the total number of ground-truth items.\n",
    "\n",
    "It is defined as:  \n",
    "\n",
    "$Precision@K = \\frac{1}{|Users|} \\sum_{u \\in Users} \\frac{|\\text{Relevant items}_u \\cap \\text{Recommended Items}_u(K)|}{|\\text{Relevant Items}_u|}$"
   ]
  },
  {
   "cell_type": "markdown",
   "id": "b368e7d9",
   "metadata": {},
   "source": [
    "**Follow the \"same\" input and output defintion as for Precison@K**."
   ]
  },
  {
   "cell_type": "code",
   "execution_count": 4,
   "id": "0103a863",
   "metadata": {},
   "outputs": [],
   "source": [
    "def get_rk_score(predictions: np.ndarray, test_interaction_matrix: np.ndarray, topK=10) -> float:\n",
    "    \"\"\"\n",
    "    predictions - np.ndarray, predictions of the recommendation algorithm for each user;\n",
    "    test_interaction_matrix - np.ndarray, test interaction matrix for each user;\n",
    "    topK - int, topK recommendations should be evaluated;\n",
    "    \n",
    "    returns - float, average recall@K score over all users;\n",
    "    \"\"\"\n",
    "    score = 0.0\n",
    "    \n",
    "    # TODO: YOUR IMPLEMENTATION.\n",
    "\n",
    "    recall = []\n",
    "\n",
    "    for user, user_pred in enumerate(predictions):\n",
    "        user_rec = user_pred[:topK]                   \n",
    "        num_hits = np.count_nonzero(test_interaction_matrix[user][user_rec])\n",
    "        num_relevant = np.count_nonzero(test_interaction_matrix[user])\n",
    "        \n",
    "        if num_relevant > 0:\n",
    "            recall_u = num_hits / num_relevant\n",
    "        else:\n",
    "            recall_u = 0.0\n",
    "\n",
    "        recall.append(recall_u)\n",
    "\n",
    "    score = np.mean(recall)\n",
    "    \n",
    "    return score"
   ]
  },
  {
   "cell_type": "code",
   "execution_count": 5,
   "id": "44fdf9e5",
   "metadata": {},
   "outputs": [],
   "source": [
    "predictions = np.array([[0, 1, 2, 3], [3, 2, 1, 0]])\n",
    "test_interaction_matrix = np.array([[1, 0, 0, 0], [0, 0, 0, 1]])\n",
    "\n",
    "rk_score = get_rk_score(predictions, test_interaction_matrix, topK=4)\n",
    "\n",
    "assert np.isclose(rk_score, 1), \"recall@K score is incorrect.\""
   ]
  },
  {
   "cell_type": "markdown",
   "id": "40b044d9",
   "metadata": {},
   "source": [
    "## Questions\n",
    "\n",
    "* Assume a case, a user wants to find all good items. What is more important, high recall or high precision?\n",
    "* Write a one-sentence situation where high precision is more important than high recall.\n",
    "* How do recall and precision relate at Rth (Precision@R and Recall@R) position in the ranking (where R is the number of relevant items)?"
   ]
  },
  {
   "cell_type": "markdown",
   "id": "2c1812d0",
   "metadata": {},
   "source": [
    "*-- Answer Here --*\n",
    "\n",
    "1) High recall since I want to be sure that I do not miss any good items, which leads to minimize the false negative\n",
    "2) Any sczenario in which proposing multiple alternative is not possible due to time (e.g., medical support) or lack of resources (luxury market). In those cases, having extremely relevant items (high precision) is recommended even if we miss some relevant items. \n",
    "3) At $R-th$ position the two parameters are the same Precision@R = Recall@R"
   ]
  },
  {
   "cell_type": "markdown",
   "id": "da35c1c9",
   "metadata": {},
   "source": [
    "## <font color='red'>TASK 2/3</font>: Ranking Quality Metrics"
   ]
  },
  {
   "cell_type": "markdown",
   "id": "ba9af194",
   "metadata": {},
   "source": [
    "Implement DCG and nDCG in the corresponding templates."
   ]
  },
  {
   "cell_type": "markdown",
   "id": "bc6360ca",
   "metadata": {},
   "source": [
    "### DCG Score\n",
    "\n",
    "DCG@K measures the relevance of ranked items while giving higher importance to items appearing earlier in the ranking. It incorporates a logarithmic discount factor to penalize relevant items appearing lower in the ranking.\n",
    "\n",
    "nDCG@K is calculated separately for every user and then averaged across all users. It is defined as:  \n",
    "\n",
    "$DCG@K = \\sum^K_{i=1} \\frac{relevancy_i}{log_2(i+1)}$"
   ]
  },
  {
   "cell_type": "markdown",
   "id": "58bccb23",
   "metadata": {},
   "source": [
    "**Follow the \"same\" input and output defintion as for Precison@K**.\n",
    "\n",
    "Don't forget, DCG is calculated for every user separately and then the average is returned.\n",
    "\n",
    "<font color='red'>**Attention!**</font> Use logarithm with base 2 for discounts! Remember that the top1 recommendation shouldn't get discounted! Users without interactions in the test set shouldn't contribute to the score."
   ]
  },
  {
   "cell_type": "code",
   "execution_count": 6,
   "id": "d607a126",
   "metadata": {
    "ExecuteTime": {
     "end_time": "2024-06-07T16:43:23.001289Z",
     "start_time": "2024-06-07T16:43:22.987324Z"
    }
   },
   "outputs": [],
   "source": [
    "def get_dcg_score(predictions: np.ndarray, test_interaction_matrix: np.ndarray, topK=10) -> float:\n",
    "    \"\"\"\n",
    "    predictions - np.ndarray - predictions of the recommendation algorithm for each user.\n",
    "    test_interaction_matrix - np.ndarray - test interaction matrix for each user.\n",
    "    \n",
    "    returns - float - mean dcg score over all user.\n",
    "    \"\"\"\n",
    "    score = None\n",
    "\n",
    "    # TODO: YOUR IMPLEMENTATION.\n",
    "\n",
    "    user_dcg_scores = []\n",
    "\n",
    "    for user_idx, user_preds in enumerate(predictions):\n",
    "        # Skip users with no relevant test interactions\n",
    "        if np.count_nonzero(test_interaction_matrix[user_idx]) == 0:\n",
    "            continue\n",
    "\n",
    "        # Take topK items\n",
    "        top_k_items = user_preds[:topK]\n",
    "\n",
    "        # Compute DCG for this user\n",
    "        dcg = 0.0\n",
    "        for rank, item_id in enumerate(top_k_items):\n",
    "            relevancy = test_interaction_matrix[user_idx, item_id]\n",
    "            if relevancy > 0:\n",
    "                dcg += relevancy / np.log2(rank + 2)\n",
    "\n",
    "        user_dcg_scores.append(dcg)\n",
    "\n",
    "    if len(user_dcg_scores) == 0:\n",
    "        return 0.0\n",
    "    \n",
    "    score = np.mean(user_dcg_scores)\n",
    "\n",
    "    return score"
   ]
  },
  {
   "cell_type": "code",
   "execution_count": 7,
   "id": "376794a0",
   "metadata": {
    "ExecuteTime": {
     "end_time": "2024-06-07T16:43:23.017247Z",
     "start_time": "2024-06-07T16:43:23.003283Z"
    }
   },
   "outputs": [],
   "source": [
    "predictions = np.array([[0, 1, 2, 3], [3, 2, 1, 0]])\n",
    "test_interaction_matrix = np.array([[1, 0, 0, 0], [0, 0, 0, 1]])\n",
    "\n",
    "dcg_score = get_dcg_score(predictions, test_interaction_matrix, topK=4)\n",
    "\n",
    "assert np.isclose(dcg_score, 1), \"1 expected\""
   ]
  },
  {
   "cell_type": "markdown",
   "id": "86afdf65",
   "metadata": {},
   "source": [
    "## Questions\n",
    "\n",
    "* Can DCG score be higher than 1? Why?\n",
    "* Can the average DCG score be higher than 1? Why?"
   ]
  },
  {
   "cell_type": "markdown",
   "id": "2a3c0208",
   "metadata": {},
   "source": [
    "*-- Answer Here --*\n",
    "\n",
    "1) Yes. Assuming I have a user who has two relevant items in the first two positions. It will lead to $1/log_2(1+1) + 1/log_2(2+1) > 1$. \n",
    "2) Yes. Since it is an average and I wrote from point 1) that the DCG can be bigger than 1, also the average over the user can be $>1$. "
   ]
  },
  {
   "cell_type": "markdown",
   "id": "ef924fee",
   "metadata": {},
   "source": [
    "### nDCG Score\n",
    "\n",
    "nDCG is a metric that evaluates how well the recommender performs in recommending ranked items to users. Therefore both hit of relevant items and correctness in ranking of these items matter to the nDCG evaluation. The total nDCG score is normalized by the total number of users.\n",
    "\n",
    "nDCG@K is calculated separately for every user and then averaged across all users. It is defined as:  \n",
    "\n",
    "$nDCG@K = \\frac{DCG@K}{iDCG@K}$\n",
    "\n",
    "**Follow the \"same\" input and output defintion as for Precison@K**\n",
    "\n",
    "<font color='red'>**Attention!**</font> Remember that ideal DCG is calculated separetely for each user and depends on the number of tracks held out for them as a Test set! Use logarithm with base 2 for discounts! Remember that the top1 recommendation shouldn't get discounted!\n",
    "\n",
    "<font color='red'>**Note:**</font> nDCG is calculated for **every user separately** and then the average is returned. You do not necessarily need to use the function you implemented above. Writing nDCG from scatch might be a good idea as well."
   ]
  },
  {
   "cell_type": "code",
   "execution_count": 8,
   "id": "4f2ec6a5",
   "metadata": {
    "ExecuteTime": {
     "end_time": "2024-06-07T16:43:23.032208Z",
     "start_time": "2024-06-07T16:43:23.019242Z"
    }
   },
   "outputs": [],
   "source": [
    "def get_ndcg_score(predictions: np.ndarray, test_interaction_matrix: np.ndarray, topK=10) -> float:\n",
    "    \"\"\"\n",
    "    predictions - np.ndarray - predictions of the recommendation algorithm for each user;\n",
    "    test_interaction_matrix - np.ndarray, test interaction matrix for each user;\n",
    "    topK - int, topK recommendations should be evaluated;\n",
    "    \n",
    "    returns - float, average ndcg score over all users;\n",
    "    \"\"\"   \n",
    "    score = 0\n",
    "    # TODO: YOUR IMPLEMENTATION.\n",
    "\n",
    "    user_ndcg_scores = []\n",
    "    \n",
    "    for user_idx, user_preds in enumerate(predictions):\n",
    "        user_relevant_items = np.count_nonzero(test_interaction_matrix[user_idx])\n",
    "        if user_relevant_items == 0:\n",
    "            continue\n",
    "        \n",
    "        # Compute DCG per user\n",
    "        dcg = 0.0\n",
    "        top_k_items = user_preds[:topK]  \n",
    "        for rank, item_id in enumerate(top_k_items):\n",
    "            relevancy = test_interaction_matrix[user_idx, item_id]\n",
    "            if relevancy > 0:\n",
    "                dcg += 1 / np.log2(rank + 2)\n",
    "        \n",
    "        max_relevant_in_top_k = min(user_relevant_items, topK)\n",
    "        idcg = 0.0\n",
    "        for ideal_rank in range(max_relevant_in_top_k):\n",
    "            idcg += 1 / np.log2(ideal_rank + 2)\n",
    "        \n",
    "        ndcg = dcg / idcg if idcg > 0 else 0.0\n",
    "        user_ndcg_scores.append(ndcg)\n",
    "    \n",
    "    if len(user_ndcg_scores) == 0:\n",
    "        return 0.0\n",
    "    \n",
    "    score = np.mean(user_ndcg_scores)\n",
    "\n",
    "    return score"
   ]
  },
  {
   "cell_type": "code",
   "execution_count": 9,
   "id": "4db41b05",
   "metadata": {
    "ExecuteTime": {
     "end_time": "2024-06-07T16:43:23.048167Z",
     "start_time": "2024-06-07T16:43:23.037197Z"
    }
   },
   "outputs": [],
   "source": [
    "predictions = np.array([[0, 1, 2, 3], [3, 2, 1, 0], [1, 2, 3, 0], [-1, -1, -1, -1]])\n",
    "test_interaction_matrix = np.array([[1, 0, 0, 0], [0, 0, 0, 1], [0, 0, 0, 0], [0, 0, 0, 0]])\n",
    "\n",
    "ndcg_score = get_ndcg_score(predictions, test_interaction_matrix, topK=4)\n",
    "\n",
    "assert np.isclose(ndcg_score, 1), \"ndcg score is not correct.\""
   ]
  },
  {
   "cell_type": "markdown",
   "id": "34472609",
   "metadata": {},
   "source": [
    "### Questions\n",
    "\n",
    "* Can nDCG score be higher than 1?"
   ]
  },
  {
   "cell_type": "markdown",
   "id": "f3a22178",
   "metadata": {},
   "source": [
    "*-- Answer Here --*\n",
    "\n",
    "1) No, because by definition the iDCG@K is the ideal DCG (all relevant items are ranked at the top). Therefore, can be at maximum 1."
   ]
  },
  {
   "cell_type": "markdown",
   "id": "22655bbf",
   "metadata": {},
   "source": [
    "## <font color='red'>TASK 3/3</font>: Evaluation\n",
    "Use the provided ``rec.py`` (see imports below) to build a simple evaluation framework. It should be able to evaluate ``POP``, ``ItemKNN`` and ``SVD``.\n"
   ]
  },
  {
   "cell_type": "code",
   "execution_count": 10,
   "id": "222a425e",
   "metadata": {
    "ExecuteTime": {
     "end_time": "2024-06-07T16:43:27.241289Z",
     "start_time": "2024-06-07T16:43:23.050163Z"
    }
   },
   "outputs": [],
   "source": [
    "from rec import inter_matr_implicit\n",
    "from rec import svd_decompose, svd_recommend_to_list  #SVD\n",
    "from rec import recTopK  #ItemKNN\n",
    "from rec import recTopKPop  #TopPop"
   ]
  },
  {
   "cell_type": "code",
   "execution_count": 11,
   "id": "276fea39",
   "metadata": {
    "ExecuteTime": {
     "end_time": "2024-06-07T16:43:27.287169Z",
     "start_time": "2024-06-07T16:43:27.247273Z"
    }
   },
   "outputs": [],
   "source": [
    "def read(dataset, file):\n",
    "    return pd.read_csv(dataset + '/' + dataset + '.' + file, sep='\\t')\n",
    "\n",
    "\n",
    "users = read(\"lfm-tiny-tunes\", 'user')\n",
    "items = read(\"lfm-tiny-tunes\", 'item')\n",
    "train_inters = read(\"lfm-tiny-tunes\", 'inter_train')\n",
    "test_inters = read(\"lfm-tiny-tunes\", 'inter_test')\n",
    "\n",
    "train_interaction_matrix = inter_matr_implicit(users=users, items=items, interactions=train_inters,\n",
    "                                               dataset_name=\"lfm-tiny-tunes\")\n",
    "test_interaction_matrix = inter_matr_implicit(users=users, items=items, interactions=test_inters,\n",
    "                                              dataset_name=\"lfm-tiny-tunes\")"
   ]
  },
  {
   "cell_type": "markdown",
   "id": "d6e414bd",
   "metadata": {
    "pycharm": {
     "name": "#%% md\n"
    }
   },
   "source": [
    "### Get Recommendations"
   ]
  },
  {
   "cell_type": "code",
   "execution_count": 12,
   "id": "52b7a07a",
   "metadata": {
    "ExecuteTime": {
     "end_time": "2024-06-07T16:43:27.319086Z",
     "start_time": "2024-06-07T16:43:27.289163Z"
    },
    "pycharm": {
     "name": "#%%\n"
    }
   },
   "outputs": [],
   "source": [
    "def get_recommendations_for_algorithms(config: dict) -> dict:\n",
    "    \"\"\"\n",
    "    config - dict - configuration as defined in the next cell\n",
    "\n",
    "    returns - dict - already predefined below with name \"rec_dict\"\n",
    "    \"\"\"\n",
    "\n",
    "    #use this structure to return results\n",
    "    rec_dict = {\"recommenders\": {\n",
    "        \"SVD\": {\n",
    "            #Add your predictions here\n",
    "            \"recommendations\": np.array([], dtype=np.int64)\n",
    "        },\n",
    "        \"ItemKNN\": {\n",
    "            \"recommendations\": np.array([], dtype=np.int64)\n",
    "        },\n",
    "        \"TopPop\": {\n",
    "            \"recommendations\": np.array([], dtype=np.int64)\n",
    "        },\n",
    "    }}\n",
    "\n",
    "    # TODO: YOUR IMPLEMENTATION.\n",
    "\n",
    "    # Take info from config\n",
    "    train_inter = config[\"train_inter\"]\n",
    "    top_k = config[\"top_k\"]\n",
    "    svd_config = config[\"recommenders\"][\"SVD\"]\n",
    "    itemknn_config = config[\"recommenders\"][\"ItemKNN\"]\n",
    "    toppop_config = config[\"recommenders\"][\"TopPop\"] \n",
    "\n",
    "    num_users = train_inter.shape[0]\n",
    "\n",
    "    n_factors = svd_config.get(\"n_factors\", 50) \n",
    "    U, V = svd_decompose(train_inter, f=n_factors)\n",
    "\n",
    "    svd_recs = np.zeros((num_users, top_k), dtype=np.int64)\n",
    "\n",
    "    for user_id in range(num_users):\n",
    "        seen_item_ids = np.nonzero(train_inter[user_id])[0]\n",
    "        recs_for_user = svd_recommend_to_list(\n",
    "            user_id=user_id,\n",
    "            seen_item_ids=seen_item_ids,\n",
    "            U=U,\n",
    "            V=V,\n",
    "            topK=top_k\n",
    "        )\n",
    "        svd_recs[user_id, :] = recs_for_user\n",
    "\n",
    "    rec_dict[\"recommenders\"][\"SVD\"][\"recommendations\"] = svd_recs\n",
    "\n",
    "\n",
    "    # ItemKNN\n",
    "    n_neighbors = itemknn_config.get(\"n_neighbours\", 5)\n",
    "    itemknn_recs = np.zeros((num_users, top_k), dtype=np.int64)\n",
    "\n",
    "    for user_id in range(num_users):\n",
    "        recs_for_user = recTopK(\n",
    "            inter_matr=train_inter,\n",
    "            user=user_id,\n",
    "            top_k=top_k,\n",
    "            n=n_neighbors\n",
    "        )\n",
    "        itemknn_recs[user_id, :] = recs_for_user\n",
    "\n",
    "    rec_dict[\"recommenders\"][\"ItemKNN\"][\"recommendations\"] = itemknn_recs\n",
    "\n",
    "    # TopPop\n",
    "    toppop_recs = np.zeros((num_users, top_k), dtype=np.int64)\n",
    "    for user_id in range(num_users):\n",
    "        recs_for_user = recTopKPop(\n",
    "            inter_matr=train_inter,\n",
    "            user=user_id,\n",
    "            top_k=top_k\n",
    "        )\n",
    "        toppop_recs[user_id, :] = recs_for_user\n",
    "\n",
    "    rec_dict[\"recommenders\"][\"TopPop\"][\"recommendations\"] = toppop_recs\n",
    "\n",
    "    return rec_dict"
   ]
  },
  {
   "cell_type": "code",
   "execution_count": 13,
   "id": "9ae4eed7",
   "metadata": {
    "ExecuteTime": {
     "end_time": "2024-06-07T16:43:27.334048Z",
     "start_time": "2024-06-07T16:43:27.321080Z"
    },
    "pycharm": {
     "name": "#%%\n"
    }
   },
   "outputs": [],
   "source": [
    "config_predict = {\n",
    "    #interaction matrix\n",
    "    \"train_inter\": train_interaction_matrix,\n",
    "    #topK parameter used for all algorithms\n",
    "    \"top_k\": 10,\n",
    "    #specific parameters for all algorithms\n",
    "    \"recommenders\": {\n",
    "        \"SVD\": {\n",
    "            \"n_factors\": 50\n",
    "        },\n",
    "        \"ItemKNN\": {\n",
    "            \"n_neighbours\": 5\n",
    "        },\n",
    "        \"TopPop\": {\n",
    "        }\n",
    "    }\n",
    "}"
   ]
  },
  {
   "cell_type": "code",
   "execution_count": 14,
   "id": "0b78eab7",
   "metadata": {
    "ExecuteTime": {
     "end_time": "2024-06-07T16:46:04.655550Z",
     "start_time": "2024-06-07T16:43:27.336042Z"
    },
    "pycharm": {
     "name": "#%%\n"
    }
   },
   "outputs": [],
   "source": [
    "recommendations = get_recommendations_for_algorithms(config_predict)\n",
    "\n",
    "assert \"SVD\" in recommendations[\"recommenders\"] and \"recommendations\" in recommendations[\"recommenders\"][\"SVD\"]\n",
    "assert isinstance(recommendations[\"recommenders\"][\"SVD\"][\"recommendations\"], np.ndarray)\n",
    "assert np.issubdtype(recommendations[\"recommenders\"][\"SVD\"][\"recommendations\"].dtype, np.integer), \"Predictions must contain integer indices\"\n",
    "assert \"ItemKNN\" in recommendations[\"recommenders\"] and \"recommendations\" in recommendations[\"recommenders\"][\"ItemKNN\"]\n",
    "assert isinstance(recommendations[\"recommenders\"][\"ItemKNN\"][\"recommendations\"], np.ndarray)\n",
    "assert np.issubdtype(recommendations[\"recommenders\"][\"ItemKNN\"][\"recommendations\"].dtype, np.integer), \"Predictions must contain integer indices\"\n",
    "assert \"TopPop\" in recommendations[\"recommenders\"] and \"recommendations\" in recommendations[\"recommenders\"][\"TopPop\"]\n",
    "assert isinstance(recommendations[\"recommenders\"][\"TopPop\"][\"recommendations\"], np.ndarray)\n",
    "assert np.issubdtype(recommendations[\"recommenders\"][\"TopPop\"][\"recommendations\"].dtype, np.integer), \"Predictions must contain integer indices\"\n"
   ]
  },
  {
   "cell_type": "markdown",
   "id": "8eaf7a88",
   "metadata": {
    "pycharm": {
     "name": "#%% md\n"
    }
   },
   "source": [
    "### Evaluate Recommendations\n",
    "\n",
    "Implement the function such that it evaluates the previously generated recommendations. Make sure you use the provided config dictionary and pay attention to the structure for the output dictionary."
   ]
  },
  {
   "cell_type": "code",
   "execution_count": 15,
   "id": "062c0fd0",
   "metadata": {
    "ExecuteTime": {
     "end_time": "2024-06-07T16:50:20.890293Z",
     "start_time": "2024-06-07T16:50:20.872314Z"
    },
    "pycharm": {
     "name": "#%%\n"
    }
   },
   "outputs": [],
   "source": [
    "def evaluate_algorithms(config: dict, calculate_ndcg_score: Callable,\n",
    "    calculate_pk_score: Callable, calculate_rk_score: Callable,) -> dict:\n",
    "    \"\"\"\n",
    "    config - dict, configuration containing recommenders and test interaction matrix;\n",
    "    calculate_ndcg_score - callable, function to calculate the ndcg score;\n",
    "    calculate_pk_score - callable, function to calculate the precision@k score;\n",
    "    calculate_rk_score - callable, function to calculate the recall@k score;\n",
    "\n",
    "    returns - dict, { Recommender Key from input dict: \n",
    "        {\"ndcg\" : float \"ndcg score\"}\n",
    "        {\"pk\" : float \"precision@k score\"}\n",
    "        {\"rk\" : float \"recall@k score\"}\n",
    "    };\n",
    "    \"\"\"\n",
    "\n",
    "    metrics = {\n",
    "        \"SVD\": {\n",
    "            \"pk\": None,\n",
    "            \"rk\":None,\n",
    "            \"ndcg\": None,\n",
    "        },\n",
    "        \"ItemKNN\": {\n",
    "            \"pk\": None,\n",
    "            \"rk\":None,\n",
    "            \"ndcg\": None,\n",
    "        },\n",
    "        \"TopPop\": {\n",
    "            \"pk\": None,\n",
    "            \"rk\":None,\n",
    "            \"ndcg\": None,\n",
    "        },\n",
    "    }\n",
    "\n",
    "    # TODO: YOUR IMPLEMENTATION.\n",
    "\n",
    "    top_k = config[\"top_k\"]\n",
    "    test_inter = config[\"test_inter\"]\n",
    "\n",
    "    for alg_name in metrics.keys():\n",
    "        preds = config[\"recommenders\"][alg_name][\"recommendations\"]\n",
    "        \n",
    "        pk_value = calculate_pk_score(preds, test_inter, top_k)\n",
    "        rk_value = calculate_rk_score(preds, test_inter, top_k)\n",
    "        ndcg_value = calculate_ndcg_score(preds, test_inter, top_k)\n",
    "\n",
    "        metrics[alg_name][\"pk\"] = float(pk_value)\n",
    "        metrics[alg_name][\"rk\"] = float(rk_value)\n",
    "        metrics[alg_name][\"ndcg\"] = float(ndcg_value)\n",
    "    \n",
    "    return metrics"
   ]
  },
  {
   "cell_type": "code",
   "execution_count": 16,
   "id": "9cdc1d63",
   "metadata": {
    "ExecuteTime": {
     "end_time": "2024-06-07T16:50:21.397607Z",
     "start_time": "2024-06-07T16:50:21.378645Z"
    },
    "pycharm": {
     "name": "#%%\n"
    }
   },
   "outputs": [],
   "source": [
    "config_test = {\n",
    "    \"top_k\": 10,\n",
    "    \"test_inter\": test_interaction_matrix,\n",
    "    \"recommenders\": {}  # here you can access the recommendations from get_recommendations_for_algorithms\n",
    "\n",
    "}\n",
    "# add dictionary with recommendations to config dictionary\n",
    "config_test.update(recommendations)"
   ]
  },
  {
   "cell_type": "markdown",
   "id": "4f36d4b9",
   "metadata": {
    "pycharm": {
     "name": "#%% md\n"
    }
   },
   "source": [
    "### Evaluating Every Algorithm\n",
    "Make sure everything works.\n",
    "We expect KNN to outperform other algorithms on our small data sample."
   ]
  },
  {
   "cell_type": "code",
   "execution_count": 17,
   "id": "bc0f672c",
   "metadata": {
    "ExecuteTime": {
     "end_time": "2024-06-07T16:50:22.281330Z",
     "start_time": "2024-06-07T16:50:22.076856Z"
    },
    "pycharm": {
     "name": "#%%\n"
    }
   },
   "outputs": [],
   "source": [
    "evaluations = evaluate_algorithms(config_test, get_ndcg_score, get_pk_score, get_rk_score)\n",
    "\n",
    "evaluation_metrics = [\"pk\", \"rk\", \"ndcg\"]\n",
    "recommendation_algs = [\"SVD\", \"ItemKNN\", \"TopPop\"]\n",
    "\n",
    "for metric in evaluation_metrics:\n",
    "    for algorithm in recommendation_algs:\n",
    "        assert algorithm in evaluations and metric in evaluations[algorithm] and isinstance(evaluations[algorithm][metric], float)"
   ]
  },
  {
   "cell_type": "code",
   "execution_count": 18,
   "id": "215bfaee",
   "metadata": {
    "ExecuteTime": {
     "end_time": "2024-06-07T16:50:22.828242Z",
     "start_time": "2024-06-07T16:50:22.814279Z"
    },
    "pycharm": {
     "name": "#%%\n"
    }
   },
   "outputs": [
    {
     "name": "stdout",
     "output_type": "stream",
     "text": [
      "SVD:\n",
      "p@k: 0.04288065843621399\n",
      "r@k: 0.18918746548376178\n",
      "ndcg: 0.14300409512681314\n",
      "\n",
      "ItemKNN:\n",
      "p@k: 0.06534979423868313\n",
      "r@k: 0.28769321670556236\n",
      "ndcg: 0.20568927986328173\n",
      "\n",
      "TopPop:\n",
      "p@k: 0.0325925925925926\n",
      "r@k: 0.14350453387490425\n",
      "ndcg: 0.09429753895348715\n",
      "\n"
     ]
    }
   ],
   "source": [
    "for recommender in evaluations.keys():\n",
    "    print(f\"{recommender}:\")\n",
    "    print(f\"p@k: {evaluations[recommender]['pk']}\")\n",
    "    print(f\"r@k: {evaluations[recommender]['rk']}\")\n",
    "    print(f\"ndcg: {evaluations[recommender]['ndcg']}\\n\")"
   ]
  },
  {
   "cell_type": "markdown",
   "id": "6191839c",
   "metadata": {},
   "source": [
    "## Questions and Potential Future Work\n",
    "* How would you try improve performance of all three algorithms?\n",
    "1) Parameter tuning \n",
    "* What other metrics would you consider to compare these recommender systems?\n",
    "\n",
    "2a) how many unique items are reccomended (coverage overall the catalogue). High coverage means that the system is not recommending the same stuff to everybody. \n",
    "\n",
    "2b) Weighted precision, giving more weights to correct reccomendations at higher ranks "
   ]
  },
  {
   "cell_type": "code",
   "execution_count": 19,
   "id": "0f4ad182",
   "metadata": {
    "ExecuteTime": {
     "end_time": "2024-06-07T16:46:04.907876Z",
     "start_time": "2024-06-07T16:46:04.893913Z"
    }
   },
   "outputs": [],
   "source": [
    "# The end."
   ]
  }
 ],
 "metadata": {
  "kernelspec": {
   "display_name": "bmwTeam",
   "language": "python",
   "name": "python3"
  },
  "language_info": {
   "codemirror_mode": {
    "name": "ipython",
    "version": 3
   },
   "file_extension": ".py",
   "mimetype": "text/x-python",
   "name": "python",
   "nbconvert_exporter": "python",
   "pygments_lexer": "ipython3",
   "version": "3.13.2"
  }
 },
 "nbformat": 4,
 "nbformat_minor": 5
}
