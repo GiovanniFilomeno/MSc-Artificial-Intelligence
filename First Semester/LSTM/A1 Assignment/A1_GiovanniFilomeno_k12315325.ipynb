{
 "cells": [
  {
   "cell_type": "markdown",
   "metadata": {},
   "source": [
    "# Assignment 1: Introduction to the Fully Recurrent Network\n",
    "\n",
    "*Author:* Thomas Adler\n",
    "\n",
    "*Copyright statement:* This  material,  no  matter  whether  in  printed  or  electronic  form,  may  be  used  for  personal  and non-commercial educational use only.  Any reproduction of this manuscript, no matter whether as a whole or in parts, no matter whether in printed or in electronic form, requires explicit prior acceptance of the authors.\n",
    "\n",
    "\n",
    "## Exercise 1: Numerical stability of the binary cross-entropy loss function\n",
    "\n",
    "We will use the binary cross-entropy loss function to train our RNN, which is defined as \n",
    "$$\n",
    "L_{\\text{BCE}}(\\hat y, y) = -y \\log \\hat y - (1-y) \\log (1-\\hat y),\n",
    "$$\n",
    "where $y$ is the label and $\\hat y$ is a prediction, which comes from a model (e.g. an RNN) and is usually sigmoid-activated, i.e., we have\n",
    "$$\n",
    "\\hat y = \\sigma(z) = \\frac{1}{1+e^{-z}}.\n",
    "$$\n",
    "The argument $z$ is called *logit*. For reasons of numerical stability it is better to let the model emit the logit $z$ (instead of the prediction $\\hat y$) and incorporate the sigmoid activation into the loss function. Explain why this is the case and how we can gain numerical stability by combining the two functions $L_{\\text{BCE}}(\\hat y, y)$ and $\\sigma(z)$ into one function $L(z, y) = L_{\\text{BCE}}(\\sigma(z), y)$. \n",
    "\n",
    "*Hint: Prove that $\\log(1+e^{z}) = \\log (1+e^{-|z|}) + \\max(0, z)$ and argue why the right-hand side is numerically more stable. Finally, express $L(z,y)$ in terms of that form.*"
   ]
  },
  {
   "cell_type": "markdown",
   "metadata": {},
   "source": [
    "## My Solution\n",
    "########## YOUR SOLUTION HERE ##########\n",
    "\n",
    "Let's prove that $\\log(1 + e^z) = \\log(1 + e^{-|z|}) + \\max(0, z)$. To do that, we have to split the domain. \n",
    "For $z>=0$ we have:\n",
    "\n",
    "$$\\log\\left ( 1 + e^{z} \\right ) =\\log\\left ( e^{z} \\left (1 + e^{-z} \\right )\\right ) = \\log\\left ( e^{z} \\right ) + \\log \\left (1 + e^{-z} \\right ) = z + \\log \\left (1 + e^{-z} \\right ) = \\max\\left (0,z \\right )+\\log \\left (1 + e^{-z} \\right )$$\n",
    "\n",
    "For $z<0$:\n",
    "\n",
    "$$\\log\\left ( 1+e^{x} \\right ) = \\log\\left ( 1+e^{-\\left |x  \\right |} \\right ) = \\max\\left ( 0,z \\right ) + \\log\\left ( 1+e^{-\\left |x  \\right |} \\right )$$\n",
    "\n",
    "Given the binary cross-entropy loss function: \n",
    "\n",
    "$$L_{\\text{BCE}}(\\hat y, y) = -y \\log \\hat y - (1-y) \\log (1-\\hat y)$$\n",
    "\n",
    "and the sigmoid-activation function: \n",
    "\n",
    "$$\\hat y = \\sigma(z) = \\frac{1}{1+e^{-z}}$$\n",
    "\n",
    "it is possible to express $\\hat y$ and $1-\\hat y$:\n",
    "\n",
    "$$\\hat y = \\frac{1}{1+e^{-z}}=\\frac{e^{z}}{e^{z}+1}$$\n",
    "\n",
    "$$1-\\hat y = \\frac{1}{1+e^{z}}$$\n",
    "\n",
    "The loss function can be now written as: \n",
    "\n",
    "$$L_{BCE}\\left ( \\hat y, y \\right ) = -y \\log \\left ( \\frac{e^{z}}{e^{z}+1} \\right ) - \\left ( 1-y \\right ) \\log\\left ( \\frac{1}{1+e^{z}} \\right )$$\n",
    "\n",
    "which leads to the re-arranged formula: \n",
    "\n",
    "$$L\\left ( z,y \\right ) = -y(z-\\log(1+e^{z})) + (1-y)\\log(1+e^{z})$$\n",
    "\n",
    "Using the previous formula: \n",
    "\n",
    "$$\\log(1+e^{z}) = \\log (1+e^{-|z|}) + \\max(0, z)$$\n",
    "\n",
    "it can be written as: \n",
    "\n",
    "$$L\\left ( z,y \\right ) = -y(z- \\log (1+e^{-|z|}) + \\max(0, z)) + (1-y) \\log (1+e^{-|z|}) + \\max(0, z))$$\n",
    "\n",
    "\n",
    "\n"
   ]
  },
  {
   "cell_type": "markdown",
   "metadata": {},
   "source": [
    "## Exercise 2: Derivative of the loss\n",
    "\n",
    "Calculate the derivative of the binary cross-entropy loss function $L(z, y)$ with respect to the logit $z$."
   ]
  },
  {
   "cell_type": "markdown",
   "metadata": {},
   "source": [
    "########## YOUR SOLUTION HERE ##########\n",
    "\n",
    "To calculate the derivative of \n",
    "\n",
    "$$L(z,y) = -y(z - \\log(1+e^{-|z|}) + \\max(0, z)) + (1-y)\\log(1+e^{-|z|}) + \\max(0, z))$$\n",
    "\n",
    "with respect to the logit $z$, we need to consider the three cases for $z$: $z>0$, $z=0$, and $z<0$. \n",
    "\n",
    "1. For $z > 0$, we have $\\max(0, z) = z$ and $\\max(0, -z) = 0$. The derivative of $L(z,y)$ with respect to $z$ is:\n",
    "\n",
    "\\begin{aligned}\n",
    "\\frac{\\partial L}{\\partial z} &= -y \\left(1 - \\frac{e^{-z}}{1 + e^{-z}} + 1\\right) + (1 - y) \\left(\\frac{e^{-z}}{1 + e^{-z}} + 1\\right) \\\\\n",
    "&= -y \\left(2 - \\frac{1}{1 + e^{-z}}\\right) + (1 - y) \\left(\\frac{1}{1 + e^{-z}} + 1\\right) \\\\\n",
    "&= -2y + \\frac{y - 1}{1 + e^{-z}} + 1 - y \\\\\n",
    "&= \\frac{e^{-z}(y - 1)}{1 + e^{-z}} - y + 1.\n",
    "\\end{aligned}\n",
    "\n",
    "2. For $z = 0$, we have $\\max(0, z) = 0$ and $\\max(0, -z) = 0$. The derivative of $L(z,y)$ with respect to $z$ is $0$.\n",
    "\n",
    "3. For $z < 0$, we have $\\max(0, z) = 0$ and $\\max(0, -z) = -z$. The derivative of $L(z,y)$ with respect to $z$ is:\n",
    "\n",
    "\\begin{aligned}\n",
    "\\frac{\\partial L}{\\partial z} &= -y \\left(- \\frac{e^z}{1 + e^z}\\right) + (1 - y) \\left(\\frac{e^z}{1 + e^z} - 1\\right) \\\\\n",
    "&= \\frac{ye^z}{1 + e^z} - \\frac{(1 - y)e^z}{1 + e^z} + y - 1 \\\\\n",
    "&= \\frac{e^z(y - 1)}{1 + e^z} - 1 + y.\n",
    "\\end{aligned}\n",
    "\n",
    "In summary, the derivative of $L(z,y)$ with respect to $z$ is:\n",
    "\n",
    "$$\n",
    "\\frac{\\partial L}{\\partial z} = \n",
    "\\begin{cases} \n",
    "\\frac{e^{-z}(y - 1)}{1 + e^{-z}} - y + 1 & \\text{if } z > 0 \\\\\n",
    "\\text{0} & \\text{if } z = 0 \\\\\n",
    "\\frac{e^z(y - 1)}{1 + e^z} - 1 + y & \\text{if } z < 0.\n",
    "\\end{cases}\n",
    "$$"
   ]
  },
  {
   "cell_type": "markdown",
   "metadata": {},
   "source": [
    "## Exercise 3: Initializing the network\n",
    "Consider the fully recurrent network\n",
    "$$\n",
    "s(t) = W x(t) + R a(t-1) \\\\\n",
    "a(t) = \\tanh(s(t)) \\\\\n",
    "z(t) = V a(t) \\\\\n",
    "\\hat y(t) = \\sigma(z(t))\n",
    "$$\n",
    "for $t \\in \\mathbb{N}, x(t) \\in \\mathbb{R}^{D}, s(t) \\in \\mathbb{R}^{I}, a(t) \\in \\mathbb{R}^{I}, z(t) \\in \\mathbb{R}^K, \\hat y(t) \\in \\mathbb{R}^K$ and $W, R, V$ are real matrices of appropriate sizes and $\\hat a(0) = 0$. \n",
    "\n",
    "*Compared to the lecture notes we choose $f(x) = \\tanh(x) = (e^x - e^{-x})(e^x + e^{-x})^{-1}$ and $\\varphi(x) = \\sigma(x) = (1+e^{-x})^{-1}$. Further, we introduced an auxiliary variable $z(t)$ and transposed the weight matrices.*\n",
    "\n",
    "Write a function `init` that takes a `model` and integers $D, I, K$ as arguments and stores the matrices $W, R, V$ as members `model.W`, `model.R`, `model.V`, respectively. The matrices should be `numpy` arrays of appropriate sizes and filled with random values that are uniformly distributed between -0.01 and 0.01. "
   ]
  },
  {
   "cell_type": "code",
   "execution_count": 1,
   "metadata": {},
   "outputs": [],
   "source": [
    "%matplotlib inline\n",
    "import numpy as np\n",
    "from scipy.special import expit as sigmoid\n",
    "\n",
    "class Obj(object):\n",
    "    pass\n",
    "\n",
    "model = Obj()\n",
    "T, D, I, K = 10, 3, 5, 1\n",
    "\n",
    "def init(model, D, I, K):\n",
    "    ########## YOUR SOLUTION HERE ##########\n",
    "    model.V = np.random.uniform(-0.01, 0.01, (K, I))\n",
    "    \n",
    "    model.W = np.random.uniform(-0.01, 0.01, (I, D))\n",
    "    model.R = np.random.uniform(-0.01, 0.01, (I, I))\n",
    "    \n",
    "\n",
    "Obj.init = init\n",
    "model.init(D, I, K)"
   ]
  },
  {
   "cell_type": "markdown",
   "metadata": {},
   "source": [
    "## Exercise 4: The forward pass\n",
    "Implement the forward pass for the fully recurrent network for sequence classification (many-to-one mapping). To this end, write a function `forward` that takes a `model`, a sequence of input vectors `x`, and a label `y` as arguments. The inputs will be represented as a `numpy` array of shape `(T, D)`. It should execute the behavior of the fully recurrent network and evaluate the (numerically stabilized) binary cross-entropy loss at the end of the sequence and return the resulting loss value. Store the sequence of hidden activations $(a(t))_{t=1}^T$ and the logit $z(T)$ into `model.a` and `model.z`, respectively. "
   ]
  },
  {
   "cell_type": "code",
   "execution_count": 2,
   "metadata": {},
   "outputs": [
    {
     "data": {
      "text/plain": [
       "array([0.69317026])"
      ]
     },
     "execution_count": 2,
     "metadata": {},
     "output_type": "execute_result"
    }
   ],
   "source": [
    "def forward(model, x, y):\n",
    "    ########## YOUR SOLUTION HERE ##########\n",
    "    T, D = x.shape\n",
    "    a = np.zeros((T, model.R.shape[0]))\n",
    "    s = np.zeros_like(a)\n",
    "\n",
    "    # Recurrent computation of hidden activations a(t)\n",
    "    for t in range(T):\n",
    "        s[t] = np.dot(model.W, x[t]) + np.dot(model.R, a[t-1] if t > 0 else np.zeros(model.R.shape[1]))\n",
    "        a[t] = np.tanh(s[t])\n",
    "\n",
    "    # Store the sequence of hidden activations\n",
    "    model.a = a\n",
    "\n",
    "    # Compute the logit z(T)\n",
    "    z_T = np.dot(model.V, a[-1])\n",
    "    model.z = z_T\n",
    "\n",
    "    # Compute the binary cross-entropy loss\n",
    "    loss = -y * (z_T - np.log(1 + np.exp(-np.abs(z_T))) + np.maximum(0, z_T)) + (1 - y) * (np.log(1 + np.exp(-np.abs(z_T))) + np.maximum(0, z_T))\n",
    "    \n",
    "    return loss\n",
    "\n",
    "\n",
    "Obj.forward = forward\n",
    "model.forward(np.random.uniform(-1, 1, (T, D)), 1)"
   ]
  },
  {
   "cell_type": "markdown",
   "metadata": {},
   "source": [
    "## Exercise 5: The computational graph\n",
    "\n",
    "Visualize the computational graph of the fully recurrent network unfolded in time. The graph should show the functional dependencies of the nodes $x(t), a(t), z(t), L(z(t), y(t))$ for $t \\in \\{1, 2, 3\\}$. Use the package `networkx` in combination with `matplotlib` to draw a directed graph with labelled nodes and edges. If you need help take a look at [this guide](https://networkx.guide/visualization/basics/). Make sure to arrange the nodes in a meaningful way. "
   ]
  },
  {
   "cell_type": "code",
   "execution_count": 5,
   "metadata": {},
   "outputs": [
    {
     "data": {
      "image/png": "[encoded data removed]",
      "text/plain": [
       "<Figure size 640x480 with 1 Axes>"
      ]
     },
     "metadata": {},
     "output_type": "display_data"
    }
   ],
   "source": [
    "import networkx as nx\n",
    "import matplotlib.pyplot as plt\n",
    "\n",
    "########## YOUR SOLUTION HERE ##########\n",
    "\n",
    "# Create directed graph\n",
    "G = nx.DiGraph()\n",
    "\n",
    "# Add nodes\n",
    "for t in range(1, 4):\n",
    "    G.add_node(f\"x({t})\")\n",
    "    G.add_node(f\"a({t})\")\n",
    "    G.add_node(f\"z({t})\")\n",
    "    G.add_node(f\"L({t})\")\n",
    "\n",
    "# Add edges\n",
    "for t in range(1, 4):\n",
    "    G.add_edge(f\"x({t})\", f\"a({t})\", label=\"W\")\n",
    "    if t > 1:\n",
    "        G.add_edge(f\"a({t-1})\", f\"a({t})\", label=\"R\")  # Avoid connecting a(0) to a(1)\n",
    "    G.add_edge(f\"a({t})\", f\"z({t})\", label=\"V\")\n",
    "    G.add_edge(f\"z({t})\", f\"L({t})\", label=\"σ\")\n",
    "\n",
    "# Define positions for the nodes\n",
    "pos = {}\n",
    "for t in range(1, 4):\n",
    "    pos[f\"x({t})\"] = (t, 3)\n",
    "    pos[f\"a({t})\"] = (t, 2)\n",
    "    pos[f\"z({t})\"] = (t, 1)\n",
    "    pos[f\"L({t})\"] = (t, 0)\n",
    "\n",
    "# Draw graph\n",
    "nx.draw(G, pos, with_labels=True, font_weight='bold', node_size=3000, node_color='skyblue')\n",
    "labels = nx.get_edge_attributes(G, 'label')\n",
    "nx.draw_networkx_edge_labels(G, pos, edge_labels=labels)\n",
    "plt.show()\n"
   ]
  },
  {
   "cell_type": "code",
   "execution_count": null,
   "metadata": {},
   "outputs": [],
   "source": []
  }
 ],
 "metadata": {
  "kernelspec": {
   "display_name": "Python 3",
   "language": "python",
   "name": "python3"
  },
  "language_info": {
   "codemirror_mode": {
    "name": "ipython",
    "version": 3
   },
   "file_extension": ".py",
   "mimetype": "text/x-python",
   "name": "python",
   "nbconvert_exporter": "python",
   "pygments_lexer": "ipython3",
   "version": "3.11.0"
  }
 },
 "nbformat": 4,
 "nbformat_minor": 2
}
