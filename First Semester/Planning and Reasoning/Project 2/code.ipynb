{
 "cells": [
  {
   "cell_type": "code",
   "execution_count": 4,
   "metadata": {},
   "outputs": [
    {
     "data": {
      "text/plain": [
       "'; Declare variables\\n(declare-fun q11 () Bool)\\n(declare-fun q12 () Bool)\\n(declare-fun q13 () Bool)\\n(declare-fun q14 () Bool)\\n(declare-fun q15 () Bool)\\n(declare-fun q16 () Bool)\\n(declare-fun q17 () Bool)\\n(declare-fun q18 () Bool)\\n(declare-fun q21 () Bool)\\n(declare-fun q22 () Bool)\\n(declare-fun q23 () Bool)\\n(declare-fun q24 () Bool)\\n(declare-fun q25 () Bool)\\n(declare-fun q26 () Bool)\\n(declare-fun q27 () Bool)\\n(declare-fun q28 () Bool)\\n(declare-fun q31 () Bool)\\n(declare-fun q32 () Bool)\\n(declare-fun q33 () Bool)\\n(declare-fun q34 () Bool)\\n(declare-fun q35 () Bool)\\n(declare-fun q36 () Bool)\\n(declare-fun q37 () Bool)\\n(declare-fun q38 () Bool)\\n(declare-fun q41 () Bool)\\n(declare-fun q42 () Bool)\\n(declare-fun q43 () Bool)\\n(declare-fun q44 () Bool)\\n(declare-fun q45 () Bool)\\n(declare-fun q46 () Bool)\\n(declare-fun q47 () Bool)\\n(declare-fun q48 () Bool)\\n(declare-fun q51 () Bool)\\n(declare-fun q52 () Bool)\\n(declare-fun q53 () Bool)\\n(declare-fun q54 () Bool)\\n(declare-fun q55 () Bool)\\n(declare-fun q56 () Bool)\\n(declare-fun q57 () Bool)\\n(declare-fun q58 () Bool)\\n(declare-fun q61 () Bool)\\n(declare-fun q62 () Bool)\\n(declare-fun q63 () Bool)\\n(declare-fun q64 () Bool)\\n(declare-fun q65 () Bool)\\n(declare-fun q66 () Bool)\\n(declare-fun q67 () Bool)\\n(declare-fun q68 () Bool)\\n(declare-fun q71 () Bool)\\n(declare-fun q72 () Bool)\\n(declare-fun q73 () Bool)\\n(declare-fun q74 () Bool)\\n(declare-fun q75 () Bool)\\n(declare-fun q76 () Bool)\\n(declare-fun q77 () Bool)\\n(declare-fun q78 () Bool)\\n(declare-fun q81 () Bool)\\n(declare-fun q82 () Bool)\\n(declare-fun q83 () Bool)\\n(declare-fun q84 () Bool)\\n(declare-fun q85 () Bool)\\n(declare-fun q86 () Bool)\\n(declare-fun q87 () Bool)\\n(declare-fun q88 () Bool)\\n\\n; Row constraints\\n(assert (= 1 (+ (if q11 1 0) (if q12 1 0) (if q13 1 0) (if q14 1 0) (if q15 1 0) (if q16 1 0) (if q17 1 0) (if q18 1 0))))\\n(assert (= 1 (+ (if q21 1 0) (if q22 1 0) (if q23 1 0) (if q24 1 0) (if q25 1 0) (if q26 1 0) (if q27 1 0) (if q28 1 0))))\\n(assert (= 1 (+ (if q31 1 0) (if q32 1 0) (if q33 1 0) (if q34 1 0) (if q35 1 0) (if q36 1 0) (if q37 1 0) (if q38 1 0))))\\n(assert (= 1 (+ (if q41 1 0) (if q42 1 0) (if q43 1 0) (if q44 1 0) (if q45 1 0) (if q46 1 0) (if q47 1 0) (if q48 1 0))))\\n(assert (= 1 (+ (if q51 1 0) (if q52 1 0) (if q53 1 0) (if q54 1 0) (if q55 1 0) (if q56 1 0) (if q57 1 0) (if q58 1 0))))\\n(assert (= 1 (+ (if q61 1 0) (if q62 1 0) (if q63 1 0) (if q64 1 0) (if q65 1 0) (if q66 1 0) (if q67 1 0) (if q68 1 0))))\\n(assert (= 1 (+ (if q71 1 0) (if q72 1 0) (if q73 1 0) (if q74 1 0) (if q75 1 0) (if q76 1 0) (if q77 1 0) (if q78 1 0))))\\n(assert (= 1 (+ (if q81 1 0) (if q82 1 0) (if q83 1 0) (if q84 1 0) (if q85 1 0) (if q86 1 0) (if q87 1 0) (if q88 1 0))))\\n\\n; Column constraints\\n(assert (= 1 (+ (if q11 1 0) (if q21 1 0) (if q31 1 0) (if q41 1 0) (if q51 1 0) (if q61 1 0) (if q71 1 0) (if q81 1 0))))\\n(assert (= 1 (+ (if q12 1 0) (if q22 1 0) (if q32 1 0) (if q42 1 0) (if q52 1 0) (if q62 1 0) (if q72 1 0) (if q82 1 0))))\\n(assert (= 1 (+ (if q13 1 0) (if q23 1 0) (if q33 1 0) (if q43 1 0) (if q53 1 0) (if q63 1 0) (if q73 1 0) (if q83 1 0))))\\n(assert (= 1 (+ (if q14 1 0) (if q24 1 0) (if q34 1 0) (if q44 1 0) (if q54 1 0) (if q64 1 0) (if q74 1 0) (if q84 1 0))))\\n(assert (= 1 (+ (if q15 1 0) (if q25 1 0) (if q35 1 0) (if q45 1 0) (if q55 1 0) (if q65 1 0) (if q75 1 0) (if q85 1 0))))\\n(assert (= 1 (+ (if q16 1 0) (if q26 1 0) (if q36 1 0) (if q46 1 0) (if q56 1 0) (if q66 1 0) (if q76 1 0) (if q86 1 0))))\\n(assert (= 1 (+ (if q17 1 0) (if q27 1 0) (if q37 1 0) (if q47 1 0) (if q57 1 0) (if q67 1 0) (if q77 1 0) (if q87 1 0))))\\n(assert (= 1 (+ (if q18 1 0) (if q28 1 0) (if q38 1 0) (if q48 1 0) (if q58 1 0) (if q68 1 0) (if q78 1 0) (if q88 1 0))))\\n\\n; Diagonal constraints\\n(assert (not (or (and q11 q22) (and q11 q33) (and q11 q44) (and q11 q55) (and q11 q66) (and q11 q77))))\\n(assert (not (or (and q12 q23) (and q12 q34) (and q12 q45) (and q12 q56) (and q12 q67))))\\n(assert (not (or (and q13 q24) (and q13 q35) (and q13 q46) (and q13 q57))))\\n(assert (not (or (and q13 q22))))\\n(assert (not (or (and q14 q25) (and q14 q36) (and q14 q47))))\\n(assert (not (or (and q14 q23) (and q14 q32))))\\n(assert (not (or (and q15 q26) (and q15 q37))))\\n(assert (not (or (and q15 q24) (and q15 q33) (and q15 q42))))\\n(assert (not (or (and q16 q27))))\\n(assert (not (or (and q16 q25) (and q16 q34) (and q16 q43) (and q16 q52))))\\n(assert (not (or (and q17 q26) (and q17 q35) (and q17 q44) (and q17 q53) (and q17 q62))))\\n(assert (not (or (and q18 q27) (and q18 q36) (and q18 q45) (and q18 q54) (and q18 q63) (and q18 q72))))\\n(assert (not (or (and q21 q32) (and q21 q43) (and q21 q54) (and q21 q65) (and q21 q76))))\\n(assert (not (or (and q22 q33) (and q22 q44) (and q22 q55) (and q22 q66) (and q22 q77))))\\n(assert (not (or (and q23 q34) (and q23 q45) (and q23 q56) (and q23 q67))))\\n(assert (not (or (and q23 q32))))\\n(assert (not (or (and q24 q35) (and q24 q46) (and q24 q57))))\\n(assert (not (or (and q24 q33) (and q24 q42))))\\n(assert (not (or (and q25 q36) (and q25 q47))))\\n(assert (not (or (and q25 q34) (and q25 q43) (and q25 q52))))\\n(assert (not (or (and q26 q37))))\\n(assert (not (or (and q26 q35) (and q26 q44) (and q26 q53) (and q26 q62))))\\n(assert (not (or (and q27 q36) (and q27 q45) (and q27 q54) (and q27 q63) (and q27 q72))))\\n(assert (not (or (and q28 q37) (and q28 q46) (and q28 q55) (and q28 q64) (and q28 q73))))\\n(assert (not (or (and q31 q42) (and q31 q53) (and q31 q64) (and q31 q75))))\\n(assert (not (or (and q32 q43) (and q32 q54) (and q32 q65) (and q32 q76))))\\n(assert (not (or (and q33 q44) (and q33 q55) (and q33 q66) (and q33 q77))))\\n(assert (not (or (and q33 q42))))\\n(assert (not (or (and q34 q45) (and q34 q56) (and q34 q67))))\\n(assert (not (or (and q34 q43) (and q34 q52))))\\n(assert (not (or (and q35 q46) (and q35 q57))))\\n(assert (not (or (and q35 q44) (and q35 q53) (and q35 q62))))\\n(assert (not (or (and q36 q47))))\\n(assert (not (or (and q36 q45) (and q36 q54) (and q36 q63) (and q36 q72))))\\n(assert (not (or (and q37 q46) (and q37 q55) (and q37 q64) (and q37 q73))))\\n(assert (not (or (and q38 q47) (and q38 q56) (and q38 q65) (and q38 q74))))\\n(assert (not (or (and q41 q52) (and q41 q63) (and q41 q74))))\\n(assert (not (or (and q42 q53) (and q42 q64) (and q42 q75))))\\n(assert (not (or (and q43 q54) (and q43 q65) (and q43 q76))))\\n(assert (not (or (and q43 q52))))\\n(assert (not (or (and q44 q55) (and q44 q66) (and q44 q77))))\\n(assert (not (or (and q44 q53) (and q44 q62))))\\n(assert (not (or (and q45 q56) (and q45 q67))))\\n(assert (not (or (and q45 q54) (and q45 q63) (and q45 q72))))\\n(assert (not (or (and q46 q57))))\\n(assert (not (or (and q46 q55) (and q46 q64) (and q46 q73))))\\n(assert (not (or (and q47 q56) (and q47 q65) (and q47 q74))))\\n(assert (not (or (and q48 q57) (and q48 q66) (and q48 q75))))\\n(assert (not (or (and q51 q62) (and q51 q73))))\\n(assert (not (or (and q52 q63) (and q52 q74))))\\n(assert (not (or (and q53 q64) (and q53 q75))))\\n(assert (not (or (and q53 q62))))\\n(assert (not (or (and q54 q65) (and q54 q76))))\\n(assert (not (or (and q54 q63) (and q54 q72))))\\n(assert (not (or (and q55 q66) (and q55 q77))))\\n(assert (not (or (and q55 q64) (and q55 q73))))\\n(assert (not (or (and q56 q67))))\\n(assert (not (or (and q56 q65) (and q56 q74))))\\n(assert (not (or (and q57 q66) (and q57 q75))))\\n(assert (not (or (and q58 q67) (and q58 q76))))\\n(assert (not (or (and q61 q72))))\\n(assert (not (or (and q62 q73))))\\n(assert (not (or (and q63 q74))))\\n(assert (not (or (and q63 q72))))\\n(assert (not (or (and q64 q75))))\\n(assert (not (or (and q64 q73))))\\n(assert (not (or (and q65 q76))))\\n(assert (not (or (and q65 q74))))\\n(assert (not (or (and q66 q77))))\\n(assert (not (or (and q66 q75))))\\n(assert (not (or (and q67 q76))))\\n(assert (not (or (and q68 q77))))\\n\\n; Solve the problem\\n(check-sat)\\n(get-model)\\n'"
      ]
     },
     "execution_count": 4,
     "metadata": {},
     "output_type": "execute_result"
    }
   ],
   "source": [
    "def generate_smtlib_for_n_queens(n):\n",
    "    smtlib_script = \"\"\n",
    "\n",
    "    # Declare variables\n",
    "    smtlib_script += \"; Declare variables\\n\"\n",
    "    for i in range(1, n+1):\n",
    "        for j in range(1, n+1):\n",
    "            smtlib_script += f\"(declare-fun q{i}{j} () Bool)\\n\"\n",
    "\n",
    "    # Row constraints\n",
    "    smtlib_script += \"\\n; Row constraints\\n\"\n",
    "    for i in range(1, n + 1):\n",
    "        smtlib_script += \"(assert (= 1 (+ \"\n",
    "        smtlib_script += \" \".join(f\"(if q{i}{j} 1 0)\" for j in range(1, n + 1))\n",
    "        smtlib_script += \")))\\n\"\n",
    "\n",
    "    # Column constraints\n",
    "    smtlib_script += \"\\n; Column constraints\\n\"\n",
    "    for j in range(1, n + 1):\n",
    "        smtlib_script += \"(assert (= 1 (+ \"\n",
    "        smtlib_script += \" \".join(f\"(if q{i}{j} 1 0)\" for i in range(1, n + 1))\n",
    "        smtlib_script += \")))\\n\"\n",
    "\n",
    "    # Diagonal constraints\n",
    "    smtlib_script += \"\\n; Diagonal constraints\\n\"\n",
    "    for i in range(1, n + 1):\n",
    "        for j in range(1, n + 1):\n",
    "            # Primary diagonals\n",
    "            primary = []\n",
    "            for d in range(1, n - max(i, j)):\n",
    "                primary.append(f\"(and q{i}{j} q{i + d}{j + d})\")\n",
    "            if primary:\n",
    "                smtlib_script += f\"(assert (not (or {' '.join(primary)})))\\n\"\n",
    "\n",
    "            # Secondary diagonals\n",
    "            secondary = []\n",
    "            for d in range(1, min(n - i, j - 1)):\n",
    "                secondary.append(f\"(and q{i}{j} q{i + d}{j - d})\")\n",
    "            if secondary:\n",
    "                smtlib_script += f\"(assert (not (or {' '.join(secondary)})))\\n\"\n",
    "\n",
    "    # Solve command\n",
    "    smtlib_script += \"\\n; Solve the problem\\n(check-sat)\\n(get-model)\\n\"\n",
    "\n",
    "    return smtlib_script\n",
    "\n",
    "# Generate SMTLib script for 8-Queens problem\n",
    "smtlib_code = generate_smtlib_for_n_queens(8)\n",
    "smtlib_code\n"
   ]
  },
  {
   "cell_type": "code",
   "execution_count": 5,
   "metadata": {},
   "outputs": [
    {
     "data": {
      "text/plain": [
       "'8_queens_smtlib_new.txt'"
      ]
     },
     "execution_count": 5,
     "metadata": {},
     "output_type": "execute_result"
    }
   ],
   "source": [
    "file_path = '8_queens_smtlib_new.txt'\n",
    "\n",
    "with open(file_path, 'w') as file:\n",
    "    file.write(smtlib_code)\n",
    "\n",
    "file_path"
   ]
  },
  {
   "cell_type": "code",
   "execution_count": 6,
   "metadata": {},
   "outputs": [
    {
     "name": "stdout",
     "output_type": "stream",
     "text": [
      "Satisfiable. Solution (only True values):\n",
      "q28 = True\n",
      "q61 = True\n",
      "q54 = True\n",
      "q33 = True\n",
      "q47 = True\n",
      "q12 = True\n",
      "q75 = True\n",
      "q86 = True\n"
     ]
    }
   ],
   "source": [
    "from z3 import *\n",
    "\n",
    "# Load SMT-LIB code from a file\n",
    "with open(file_path, 'r') as file:\n",
    "    smtlib_code = file.read()\n",
    "\n",
    "# Parse the SMT-LIB code\n",
    "solver = Solver()\n",
    "solver.from_string(smtlib_code)\n",
    "\n",
    "# Check for satisfiability and print the solution if it exists\n",
    "if solver.check() == sat:\n",
    "    print(\"Satisfiable. Solution (only True values):\")\n",
    "    model = solver.model()\n",
    "    for d in model.decls():\n",
    "        if is_true(model[d]):\n",
    "            print(f\"{d.name()} = {model[d]}\")\n",
    "else:\n",
    "    print(\"Unsatisfiable.\")\n"
   ]
  },
  {
   "cell_type": "code",
   "execution_count": null,
   "metadata": {},
   "outputs": [],
   "source": []
  }
 ],
 "metadata": {
  "kernelspec": {
   "display_name": "dlnnl23",
   "language": "python",
   "name": "python3"
  },
  "language_info": {
   "codemirror_mode": {
    "name": "ipython",
    "version": 3
   },
   "file_extension": ".py",
   "mimetype": "text/x-python",
   "name": "python",
   "nbconvert_exporter": "python",
   "pygments_lexer": "ipython3",
   "version": "3.12.1"
  }
 },
 "nbformat": 4,
 "nbformat_minor": 2
}
